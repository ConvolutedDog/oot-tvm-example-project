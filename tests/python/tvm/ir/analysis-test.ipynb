{
  "cells": [
    {
      "cell_type": "code",
      "execution_count": null,
      "id": "0",
      "metadata": {},
      "outputs": [],
      "source": [
        "import tvm\n",
        "\n",
        "import tvm.te as te\n",
        "\n",
        "from tvm.script import ir as I\n",
        "from tvm.script import tir as T\n",
        "from tvm.script import relax as R\n",
        "\n",
        "\n",
        "def showmod(mod: tvm.ir.module.IRModule):\n",
        "    mod.show(\n",
        "        black_format=True,\n",
        "        show_meta=False,\n",
        "        verbose_expr=True,\n",
        "        show_object_address=False,\n",
        "        show_all_struct_info=True,\n",
        "    )\n",
        "\n",
        "\n",
        "def createandshowmod(ops):\n",
        "    te_func = te.create_prim_func(ops).with_attrs({\"global_symbol\": \"test\"})\n",
        "    mod = tvm.IRModule({\"test\": te_func})\n",
        "    showmod(mod)\n",
        "    return mod\n",
        "\n",
        "\n",
        "from tvm.ir.analysis import *"
      ]
    },
    {
      "cell_type": "markdown",
      "id": "1",
      "metadata": {},
      "source": [
        "#### collect_call_map"
      ]
    },
    {
      "cell_type": "code",
      "execution_count": null,
      "id": "2",
      "metadata": {},
      "outputs": [
        {
          "data": {
            "text/html": [
              "<div class=\"highlight\" style=\"background: \"><pre style=\"line-height: 125%;\"><span></span><span style=\"color: #007979; font-style: italic\"># from tvm.script import ir as I</span>\n",
              "<span style=\"color: #007979; font-style: italic\"># from tvm.script import tir as T</span>\n",
              "<span style=\"color: #007979; font-style: italic\"># from tvm.script import relax as R</span>\n",
              "\n",
              "\n",
              "<span style=\"color: #A2F\">@I</span><span style=\"color: #A2F; font-weight: bold\">.</span>ir_module\n",
              "<span style=\"color: #008000; font-weight: bold\">class</span> <span style=\"color: #00F; font-weight: bold\">Module</span>:\n",
              "    <span style=\"color: #A2F\">@T</span><span style=\"color: #A2F; font-weight: bold\">.</span>prim_func\n",
              "    <span style=\"color: #008000; font-weight: bold\">def</span> <span style=\"color: #00F\">linear0</span>(x: T<span style=\"color: #A2F; font-weight: bold\">.</span>handle, w: T<span style=\"color: #A2F; font-weight: bold\">.</span>handle, b: T<span style=\"color: #A2F; font-weight: bold\">.</span>handle, z: T<span style=\"color: #A2F; font-weight: bold\">.</span>handle):\n",
              "        m <span style=\"color: #A2F; font-weight: bold\">=</span> T<span style=\"color: #A2F; font-weight: bold\">.</span>int64()\n",
              "        X <span style=\"color: #A2F; font-weight: bold\">=</span> T<span style=\"color: #A2F; font-weight: bold\">.</span>match_buffer(x, (<span style=\"color: #008000\">1</span>, m))\n",
              "        n <span style=\"color: #A2F; font-weight: bold\">=</span> T<span style=\"color: #A2F; font-weight: bold\">.</span>int64()\n",
              "        W <span style=\"color: #A2F; font-weight: bold\">=</span> T<span style=\"color: #A2F; font-weight: bold\">.</span>match_buffer(w, (n, m))\n",
              "        B <span style=\"color: #A2F; font-weight: bold\">=</span> T<span style=\"color: #A2F; font-weight: bold\">.</span>match_buffer(b, (n,))\n",
              "        Z <span style=\"color: #A2F; font-weight: bold\">=</span> T<span style=\"color: #A2F; font-weight: bold\">.</span>match_buffer(z, (<span style=\"color: #008000\">1</span>, n))\n",
              "        <span style=\"color: #007979; font-style: italic\"># with T.block(&quot;root&quot;):</span>\n",
              "        Y <span style=\"color: #A2F; font-weight: bold\">=</span> T<span style=\"color: #A2F; font-weight: bold\">.</span>alloc_buffer((<span style=\"color: #008000\">1</span>, n))\n",
              "        <span style=\"color: #008000; font-weight: bold\">for</span> i, j, k <span style=\"color: #008000; font-weight: bold\">in</span> T<span style=\"color: #A2F; font-weight: bold\">.</span>grid(<span style=\"color: #008000\">1</span>, n, m):\n",
              "            <span style=\"color: #008000; font-weight: bold\">with</span> T<span style=\"color: #A2F; font-weight: bold\">.</span>block(<span style=\"color: #BA2121\">&quot;Y&quot;</span>):\n",
              "                vi, vj, vk <span style=\"color: #A2F; font-weight: bold\">=</span> T<span style=\"color: #A2F; font-weight: bold\">.</span>axis<span style=\"color: #A2F; font-weight: bold\">.</span>remap(<span style=\"color: #BA2121\">&quot;SSR&quot;</span>, [i, j, k])\n",
              "                T<span style=\"color: #A2F; font-weight: bold\">.</span>reads(X[vi, vk], W[vj, vk])\n",
              "                T<span style=\"color: #A2F; font-weight: bold\">.</span>writes(Y[vi, vj])\n",
              "                <span style=\"color: #008000; font-weight: bold\">with</span> T<span style=\"color: #A2F; font-weight: bold\">.</span>init():\n",
              "                    Y[vi, vj] <span style=\"color: #A2F; font-weight: bold\">=</span> T<span style=\"color: #A2F; font-weight: bold\">.</span>float32(<span style=\"color: #008000\">0.0</span>)\n",
              "                Y[vi, vj] <span style=\"color: #A2F; font-weight: bold\">=</span> Y[vi, vj] <span style=\"color: #A2F; font-weight: bold\">+</span> X[vi, vk] <span style=\"color: #A2F; font-weight: bold\">*</span> W[vj, vk]\n",
              "        <span style=\"color: #008000; font-weight: bold\">for</span> i, j <span style=\"color: #008000; font-weight: bold\">in</span> T<span style=\"color: #A2F; font-weight: bold\">.</span>grid(<span style=\"color: #008000\">1</span>, n):\n",
              "            <span style=\"color: #008000; font-weight: bold\">with</span> T<span style=\"color: #A2F; font-weight: bold\">.</span>block(<span style=\"color: #BA2121\">&quot;Z&quot;</span>):\n",
              "                vi, vj <span style=\"color: #A2F; font-weight: bold\">=</span> T<span style=\"color: #A2F; font-weight: bold\">.</span>axis<span style=\"color: #A2F; font-weight: bold\">.</span>remap(<span style=\"color: #BA2121\">&quot;SS&quot;</span>, [i, j])\n",
              "                T<span style=\"color: #A2F; font-weight: bold\">.</span>reads(B[vj], Y[vi, vj])\n",
              "                T<span style=\"color: #A2F; font-weight: bold\">.</span>writes(Z[vi, vj])\n",
              "                Z[vi, vj] <span style=\"color: #A2F; font-weight: bold\">=</span> B[vj] <span style=\"color: #A2F; font-weight: bold\">+</span> Y[vi, vj]\n",
              "\n",
              "    <span style=\"color: #A2F\">@T</span><span style=\"color: #A2F; font-weight: bold\">.</span>prim_func\n",
              "    <span style=\"color: #008000; font-weight: bold\">def</span> <span style=\"color: #00F\">relu0</span>(x: T<span style=\"color: #A2F; font-weight: bold\">.</span>handle, y: T<span style=\"color: #A2F; font-weight: bold\">.</span>handle):\n",
              "        n <span style=\"color: #A2F; font-weight: bold\">=</span> T<span style=\"color: #A2F; font-weight: bold\">.</span>int64()\n",
              "        X <span style=\"color: #A2F; font-weight: bold\">=</span> T<span style=\"color: #A2F; font-weight: bold\">.</span>match_buffer(x, (<span style=\"color: #008000\">1</span>, n))\n",
              "        Y <span style=\"color: #A2F; font-weight: bold\">=</span> T<span style=\"color: #A2F; font-weight: bold\">.</span>match_buffer(y, (<span style=\"color: #008000\">1</span>, n))\n",
              "        <span style=\"color: #007979; font-style: italic\"># with T.block(&quot;root&quot;):</span>\n",
              "        <span style=\"color: #008000; font-weight: bold\">for</span> i, j <span style=\"color: #008000; font-weight: bold\">in</span> T<span style=\"color: #A2F; font-weight: bold\">.</span>grid(<span style=\"color: #008000\">1</span>, n):\n",
              "            <span style=\"color: #008000; font-weight: bold\">with</span> T<span style=\"color: #A2F; font-weight: bold\">.</span>block(<span style=\"color: #BA2121\">&quot;Y&quot;</span>):\n",
              "                vi, vj <span style=\"color: #A2F; font-weight: bold\">=</span> T<span style=\"color: #A2F; font-weight: bold\">.</span>axis<span style=\"color: #A2F; font-weight: bold\">.</span>remap(<span style=\"color: #BA2121\">&quot;SS&quot;</span>, [i, j])\n",
              "                T<span style=\"color: #A2F; font-weight: bold\">.</span>reads(X[vi, vj])\n",
              "                T<span style=\"color: #A2F; font-weight: bold\">.</span>writes(Y[vi, vj])\n",
              "                Y[vi, vj] <span style=\"color: #A2F; font-weight: bold\">=</span> T<span style=\"color: #A2F; font-weight: bold\">.</span>max(X[vi, vj], T<span style=\"color: #A2F; font-weight: bold\">.</span>float32(<span style=\"color: #008000\">0.0</span>))\n",
              "\n",
              "    <span style=\"color: #A2F\">@R</span><span style=\"color: #A2F; font-weight: bold\">.</span>function\n",
              "    <span style=\"color: #008000; font-weight: bold\">def</span> <span style=\"color: #00F\">main</span>(\n",
              "        x: R<span style=\"color: #A2F; font-weight: bold\">.</span>Tensor((<span style=\"color: #008000\">1</span>, <span style=\"color: #BA2121\">&quot;m&quot;</span>), dtype<span style=\"color: #A2F; font-weight: bold\">=</span><span style=\"color: #BA2121\">&quot;float32&quot;</span>),\n",
              "        w0: R<span style=\"color: #A2F; font-weight: bold\">.</span>Tensor((<span style=\"color: #BA2121\">&quot;n&quot;</span>, <span style=\"color: #BA2121\">&quot;m&quot;</span>), dtype<span style=\"color: #A2F; font-weight: bold\">=</span><span style=\"color: #BA2121\">&quot;float32&quot;</span>),\n",
              "        b0: R<span style=\"color: #A2F; font-weight: bold\">.</span>Tensor((<span style=\"color: #BA2121\">&quot;n&quot;</span>,), dtype<span style=\"color: #A2F; font-weight: bold\">=</span><span style=\"color: #BA2121\">&quot;float32&quot;</span>),\n",
              "        w1: R<span style=\"color: #A2F; font-weight: bold\">.</span>Tensor((<span style=\"color: #BA2121\">&quot;k&quot;</span>, <span style=\"color: #BA2121\">&quot;n&quot;</span>), dtype<span style=\"color: #A2F; font-weight: bold\">=</span><span style=\"color: #BA2121\">&quot;float32&quot;</span>),\n",
              "        b1: R<span style=\"color: #A2F; font-weight: bold\">.</span>Tensor((<span style=\"color: #BA2121\">&quot;k&quot;</span>,), dtype<span style=\"color: #A2F; font-weight: bold\">=</span><span style=\"color: #BA2121\">&quot;float32&quot;</span>),\n",
              "    ) <span style=\"color: #A2F; font-weight: bold\">-&gt;</span> R<span style=\"color: #A2F; font-weight: bold\">.</span>Tensor((<span style=\"color: #008000\">1</span>, <span style=\"color: #BA2121\">&quot;k&quot;</span>), dtype<span style=\"color: #A2F; font-weight: bold\">=</span><span style=\"color: #BA2121\">&quot;float32&quot;</span>):\n",
              "        k <span style=\"color: #A2F; font-weight: bold\">=</span> T<span style=\"color: #A2F; font-weight: bold\">.</span>int64()\n",
              "        m <span style=\"color: #A2F; font-weight: bold\">=</span> T<span style=\"color: #A2F; font-weight: bold\">.</span>int64()\n",
              "        n <span style=\"color: #A2F; font-weight: bold\">=</span> T<span style=\"color: #A2F; font-weight: bold\">.</span>int64()\n",
              "        <span style=\"color: #008000; font-weight: bold\">with</span> R<span style=\"color: #A2F; font-weight: bold\">.</span>dataflow():\n",
              "            lv0 <span style=\"color: #A2F; font-weight: bold\">=</span> R<span style=\"color: #A2F; font-weight: bold\">.</span>call_dps_packed(\n",
              "                <span style=\"color: #BA2121\">&quot;linear0&quot;</span>, (x, w0, b0), out_sinfo<span style=\"color: #A2F; font-weight: bold\">=</span>R<span style=\"color: #A2F; font-weight: bold\">.</span>Tensor((<span style=\"color: #008000\">1</span>, n), dtype<span style=\"color: #A2F; font-weight: bold\">=</span><span style=\"color: #BA2121\">&quot;float32&quot;</span>)\n",
              "            )\n",
              "            lv1 <span style=\"color: #A2F; font-weight: bold\">=</span> R<span style=\"color: #A2F; font-weight: bold\">.</span>call_dps_packed(\n",
              "                <span style=\"color: #BA2121\">&quot;relu0&quot;</span>, (lv0,), out_sinfo<span style=\"color: #A2F; font-weight: bold\">=</span>R<span style=\"color: #A2F; font-weight: bold\">.</span>Tensor((<span style=\"color: #008000\">1</span>, n), dtype<span style=\"color: #A2F; font-weight: bold\">=</span><span style=\"color: #BA2121\">&quot;float32&quot;</span>)\n",
              "            )\n",
              "            lv2 <span style=\"color: #A2F; font-weight: bold\">=</span> R<span style=\"color: #A2F; font-weight: bold\">.</span>call_dps_packed(\n",
              "                <span style=\"color: #BA2121\">&quot;linear0&quot;</span>, (lv1, w1, b1), out_sinfo<span style=\"color: #A2F; font-weight: bold\">=</span>R<span style=\"color: #A2F; font-weight: bold\">.</span>Tensor((<span style=\"color: #008000\">1</span>, k), dtype<span style=\"color: #A2F; font-weight: bold\">=</span><span style=\"color: #BA2121\">&quot;float32&quot;</span>)\n",
              "            )\n",
              "            R<span style=\"color: #A2F; font-weight: bold\">.</span>output(lv2)\n",
              "        <span style=\"color: #008000; font-weight: bold\">return</span> lv2\n",
              "</pre></div>\n"
            ],
            "text/plain": [
              "<IPython.core.display.HTML object>"
            ]
          },
          "metadata": {},
          "output_type": "display_data"
        }
      ],
      "source": [
        "dtype = \"float32\"\n",
        "\n",
        "\n",
        "# Constructing an End to End IRModule in TVMScript\n",
        "@tvm.script.ir_module\n",
        "class Network:\n",
        "    @T.prim_func\n",
        "    # T.handle creates a TIR var that represents a pointer.\n",
        "    def relu0(x: T.handle, y: T.handle):\n",
        "        n = T.int64()\n",
        "        X = T.match_buffer(param=x, shape=(1, n), dtype=dtype)\n",
        "        Y = T.match_buffer(param=y, shape=(1, n), dtype=dtype)\n",
        "        for i, j in T.grid(1, n):\n",
        "            with T.block(\"Y\"):\n",
        "                vi, vj = T.axis.remap(kinds=\"SS\", bindings=[i, j])\n",
        "                Y[vi, vj] = T.max(X[vi, vj], T.float32(0))\n",
        "\n",
        "    @T.prim_func\n",
        "    def linear0(x: T.handle, w: T.handle, b: T.handle, z: T.handle):\n",
        "        m, n, k = T.int64(), T.int64(), T.int64()\n",
        "        \"\"\"\n",
        "        |--|         |---------|\n",
        "        |  |         |         |\n",
        "        |  | m  X  n |         |\n",
        "        |  |         |         |\n",
        "        |--|         |---------|\n",
        "          1               m\n",
        "        \"\"\"\n",
        "        X = T.match_buffer(param=x, shape=(1, m), dtype=dtype)\n",
        "        W = T.match_buffer(param=w, shape=(n, m), dtype=dtype)\n",
        "        B = T.match_buffer(param=b, shape=(n), dtype=dtype)\n",
        "        Z = T.match_buffer(param=z, shape=(1, n), dtype=dtype)\n",
        "        Y = T.alloc_buffer(shape=(1, n), dtype=dtype)\n",
        "        for i, j, k in T.grid(1, n, m):\n",
        "            with T.block(\"Y\"):\n",
        "                vi, vj, vk = T.axis.remap(kinds=\"SSR\", bindings=[i, j, k])\n",
        "                with T.init():\n",
        "                    Y[vi, vj] = T.float32(0)\n",
        "                Y[vi, vj] = Y[vi, vj] + X[vi, vk] * W[vj, vk]\n",
        "        for i, j in T.grid(1, n):\n",
        "            with T.block(\"Z\"):\n",
        "                vi, vj = T.axis.remap(kinds=\"SS\", bindings=[i, j])\n",
        "                Z[vi, vj] = B[vj] + Y[vi, vj]\n",
        "\n",
        "    @R.function\n",
        "    def main(\n",
        "        x: R.Tensor((1, \"m\"), \"float32\"),\n",
        "        w0: R.Tensor((\"n\", \"m\"), \"float32\"),\n",
        "        b0: R.Tensor((\"n\",), \"float32\"),\n",
        "        w1: R.Tensor((\"k\", \"n\"), \"float32\"),\n",
        "        b1: R.Tensor((\"k\",), \"float32\"),\n",
        "    ):\n",
        "        m, k, n = T.int64(), T.int64(), T.int64()\n",
        "        with R.dataflow():\n",
        "            lv0 = R.call_dps_packed(\n",
        "                func=\"linear0\", args=(x, w0, b0), out_sinfo=R.Tensor((1, n), \"float32\")\n",
        "            )\n",
        "            lv1 = R.call_dps_packed(\n",
        "                func=\"relu0\", args=(lv0), out_sinfo=R.Tensor((1, n), \"float32\")\n",
        "            )\n",
        "            lv2 = R.call_dps_packed(\n",
        "                func=\"linear0\",\n",
        "                args=(lv1, w1, b1),\n",
        "                out_sinfo=R.Tensor((1, k), \"float32\"),\n",
        "            )\n",
        "            R.output(lv2)\n",
        "\n",
        "        return lv2\n",
        "\n",
        "\n",
        "mod = Network\n",
        "showmod(mod)"
      ]
    },
    {
      "cell_type": "code",
      "execution_count": null,
      "id": "3",
      "metadata": {},
      "outputs": [
        {
          "name": "stdout",
          "output_type": "stream",
          "text": [
            "{I.GlobalVar(\"relu0\"): [], I.GlobalVar(\"linear0\"): [], I.GlobalVar(\"main\"): []}\n"
          ]
        }
      ],
      "source": [
        "\"\"\"Collect the call map of a module\n",
        "\n",
        "Parameters\n",
        "----------\n",
        "module: tvm.ir.IRModule\n",
        "    The module to inspect\n",
        "\n",
        "Returns\n",
        "-------\n",
        "call_map: Dict[tvm.ir.GlobalVar, List[tvm.ir.GlobalVar]]\n",
        "    A map from functions to the subroutines they call.\n",
        "\"\"\"\n",
        "\n",
        "call_map = collect_call_map(mod)\n",
        "print(call_map)"
      ]
    },
    {
      "cell_type": "markdown",
      "id": "4",
      "metadata": {},
      "source": [
        "#### test_collect_relax_to_relax"
      ]
    },
    {
      "cell_type": "code",
      "execution_count": null,
      "id": "5",
      "metadata": {},
      "outputs": [
        {
          "name": "stdout",
          "output_type": "stream",
          "text": [
            "{I.GlobalVar(\"main\"): [I.GlobalVar(\"subroutine\")], I.GlobalVar(\"subroutine\"): []}\n"
          ]
        }
      ],
      "source": [
        "@I.ir_module\n",
        "class Module:\n",
        "    @R.function\n",
        "    def main():\n",
        "        return Module.subroutine()\n",
        "\n",
        "    @R.function\n",
        "    def subroutine():\n",
        "        return R.tuple()\n",
        "\n",
        "call_map = collect_call_map(Module)\n",
        "print(call_map)"
      ]
    },
    {
      "cell_type": "markdown",
      "id": "6",
      "metadata": {},
      "source": [
        "#### test_collect_relax_to_tir"
      ]
    },
    {
      "cell_type": "code",
      "execution_count": null,
      "id": "7",
      "metadata": {},
      "outputs": [
        {
          "name": "stdout",
          "output_type": "stream",
          "text": [
            "{I.GlobalVar(\"main\"): [I.GlobalVar(\"subroutine\")], I.GlobalVar(\"subroutine\"): []}\n"
          ]
        }
      ],
      "source": [
        "@I.ir_module\n",
        "class Module:\n",
        "    @R.function\n",
        "    def main() -> R.Prim(\"int32\"):\n",
        "        return Module.subroutine(R.prim_value(T.int32(42)))\n",
        "\n",
        "    @T.prim_func\n",
        "    def subroutine(i: T.int32) -> T.int32:\n",
        "        return i + 1\n",
        "\n",
        "call_map = collect_call_map(Module)\n",
        "print(call_map)"
      ]
    },
    {
      "cell_type": "markdown",
      "id": "8",
      "metadata": {},
      "source": [
        "#### test_collect_tir_to_tir"
      ]
    },
    {
      "cell_type": "code",
      "execution_count": null,
      "id": "9",
      "metadata": {},
      "outputs": [
        {
          "name": "stdout",
          "output_type": "stream",
          "text": [
            "{I.GlobalVar(\"main\"): [I.GlobalVar(\"subroutine\")], I.GlobalVar(\"subroutine\"): []}\n"
          ]
        }
      ],
      "source": [
        "@I.ir_module\n",
        "class Module:\n",
        "    @T.prim_func\n",
        "    def main() -> T.int32:\n",
        "        return Module.subroutine(42)\n",
        "\n",
        "    @T.prim_func\n",
        "    def subroutine(i: T.int32) -> T.int32:\n",
        "        return i + 1\n",
        "\n",
        "call_map = collect_call_map(Module)\n",
        "print(call_map)"
      ]
    }
  ],
  "metadata": {
    "kernelspec": {
      "display_name": "",
      "language": "python",
      "name": "python3"
    },
    "language_info": {
      "codemirror_mode": {
        "name": "ipython",
        "version": 3
      },
      "file_extension": ".py",
      "mimetype": "text/x-python",
      "name": "python",
      "nbconvert_exporter": "python",
      "pygments_lexer": "ipython3",
      "version": ""
    }
  },
  "nbformat": 4,
  "nbformat_minor": 5
}