{
  "cells": [
    {
      "cell_type": "code",
      "execution_count": null,
      "id": "0",
      "metadata": {},
      "outputs": [],
      "source": [
        "import tvm\n",
        "\n",
        "import tvm.te as te\n",
        "\n",
        "from tvm.script import ir as I\n",
        "from tvm.script import tir as T\n",
        "from tvm.script import relax as R\n",
        "\n",
        "\n",
        "def showmod(mod: tvm.ir.module.IRModule):\n",
        "    mod.show(\n",
        "        black_format=True,\n",
        "        show_meta=False,\n",
        "        verbose_expr=True,\n",
        "        show_object_address=False,\n",
        "        show_all_struct_info=True,\n",
        "    )\n",
        "\n",
        "\n",
        "def createandshowmod(ops):\n",
        "    te_func = te.create_prim_func(ops).with_attrs({\"global_symbol\": \"test\"})\n",
        "    mod = tvm.IRModule({\"test\": te_func})\n",
        "    showmod(mod)\n",
        "\n",
        "\n",
        "from tvm.te.operation import *"
      ]
    },
    {
      "cell_type": "markdown",
      "id": "1",
      "metadata": {},
      "source": [
        "## placeholder"
      ]
    },
    {
      "cell_type": "code",
      "execution_count": null,
      "id": "2",
      "metadata": {},
      "outputs": [
        {
          "name": "stdout",
          "output_type": "stream",
          "text": [
            "Tensor(shape=[1, 2, 3], op.name=A)\n"
          ]
        },
        {
          "data": {
            "text/html": [
              "<div class=\"highlight\" style=\"background: \"><pre style=\"line-height: 125%;\"><span></span><span style=\"color: #007979; font-style: italic\"># from tvm.script import ir as I</span>\n",
              "<span style=\"color: #007979; font-style: italic\"># from tvm.script import tir as T</span>\n",
              "\n",
              "\n",
              "<span style=\"color: #A2F\">@I</span><span style=\"color: #A2F; font-weight: bold\">.</span>ir_module\n",
              "<span style=\"color: #008000; font-weight: bold\">class</span> <span style=\"color: #00F; font-weight: bold\">Module</span>:\n",
              "    <span style=\"color: #A2F\">@T</span><span style=\"color: #A2F; font-weight: bold\">.</span>prim_func\n",
              "    <span style=\"color: #008000; font-weight: bold\">def</span> <span style=\"color: #00F\">test</span>(A: T<span style=\"color: #A2F; font-weight: bold\">.</span>Buffer((<span style=\"color: #008000\">1</span>, <span style=\"color: #008000\">2</span>, <span style=\"color: #008000\">3</span>), <span style=\"color: #BA2121\">&quot;float32&quot;</span>)):\n",
              "        T<span style=\"color: #A2F; font-weight: bold\">.</span>func_attr({<span style=\"color: #BA2121\">&quot;tir.noalias&quot;</span>: T<span style=\"color: #A2F; font-weight: bold\">.</span>bool(<span style=\"color: #008000; font-weight: bold\">True</span>)})\n",
              "        T<span style=\"color: #A2F; font-weight: bold\">.</span>evaluate(<span style=\"color: #008000\">0</span>)\n",
              "</pre></div>\n"
            ],
            "text/plain": [
              "<IPython.core.display.HTML object>"
            ]
          },
          "metadata": {},
          "output_type": "display_data"
        }
      ],
      "source": [
        "\"\"\"Construct an empty tensor object.\n",
        "\n",
        "Parameters\n",
        "----------\n",
        "shape: Tuple of Expr\n",
        "    The shape of the tensor\n",
        "\n",
        "dtype: str, optional\n",
        "    The data type of the tensor\n",
        "\n",
        "name: str, optional\n",
        "    The name hint of the tensor\n",
        "\n",
        "Returns\n",
        "-------\n",
        "tensor: Tensor\n",
        "    The created tensor\n",
        "\"\"\"\n",
        "\n",
        "A: te.Tensor = placeholder(shape=(1, 2, 3), dtype=\"float32\", name=\"A\")\n",
        "print(A)\n",
        "createandshowmod([A])"
      ]
    },
    {
      "cell_type": "markdown",
      "id": "3",
      "metadata": {},
      "source": [
        "## compute"
      ]
    },
    {
      "cell_type": "code",
      "execution_count": null,
      "id": "4",
      "metadata": {},
      "outputs": [
        {
          "data": {
            "text/html": [
              "<div class=\"highlight\" style=\"background: \"><pre style=\"line-height: 125%;\"><span></span><span style=\"color: #007979; font-style: italic\"># from tvm.script import ir as I</span>\n",
              "<span style=\"color: #007979; font-style: italic\"># from tvm.script import tir as T</span>\n",
              "\n",
              "\n",
              "<span style=\"color: #A2F\">@I</span><span style=\"color: #A2F; font-weight: bold\">.</span>ir_module\n",
              "<span style=\"color: #008000; font-weight: bold\">class</span> <span style=\"color: #00F; font-weight: bold\">Module</span>:\n",
              "    <span style=\"color: #A2F\">@T</span><span style=\"color: #A2F; font-weight: bold\">.</span>prim_func\n",
              "    <span style=\"color: #008000; font-weight: bold\">def</span> <span style=\"color: #00F\">test</span>(A: T<span style=\"color: #A2F; font-weight: bold\">.</span>Buffer((<span style=\"color: #008000\">3</span>, <span style=\"color: #008000\">3</span>), <span style=\"color: #BA2121\">&quot;int32&quot;</span>)):\n",
              "        T<span style=\"color: #A2F; font-weight: bold\">.</span>func_attr({<span style=\"color: #BA2121\">&quot;tir.noalias&quot;</span>: T<span style=\"color: #A2F; font-weight: bold\">.</span>bool(<span style=\"color: #008000; font-weight: bold\">True</span>)})\n",
              "        <span style=\"color: #007979; font-style: italic\"># with T.block(&quot;root&quot;):</span>\n",
              "        <span style=\"color: #008000; font-weight: bold\">for</span> i, j <span style=\"color: #008000; font-weight: bold\">in</span> T<span style=\"color: #A2F; font-weight: bold\">.</span>grid(<span style=\"color: #008000\">3</span>, <span style=\"color: #008000\">3</span>):\n",
              "            <span style=\"color: #008000; font-weight: bold\">with</span> T<span style=\"color: #A2F; font-weight: bold\">.</span>block(<span style=\"color: #BA2121\">&quot;A&quot;</span>):\n",
              "                v_i, v_j <span style=\"color: #A2F; font-weight: bold\">=</span> T<span style=\"color: #A2F; font-weight: bold\">.</span>axis<span style=\"color: #A2F; font-weight: bold\">.</span>remap(<span style=\"color: #BA2121\">&quot;SS&quot;</span>, [i, j])\n",
              "                T<span style=\"color: #A2F; font-weight: bold\">.</span>reads()\n",
              "                T<span style=\"color: #A2F; font-weight: bold\">.</span>writes(A[v_i, v_j])\n",
              "                T<span style=\"color: #A2F; font-weight: bold\">.</span>block_attr({<span style=\"color: #BA2121\">&quot;key&quot;</span>: <span style=\"color: #BA2121\">&quot;value&quot;</span>})\n",
              "                A[v_i, v_j] <span style=\"color: #A2F; font-weight: bold\">=</span> v_j <span style=\"color: #A2F; font-weight: bold\">*</span> <span style=\"color: #008000\">3</span> <span style=\"color: #A2F; font-weight: bold\">+</span> v_i <span style=\"color: #A2F; font-weight: bold\">*</span> <span style=\"color: #008000\">2</span>\n",
              "</pre></div>\n"
            ],
            "text/plain": [
              "<IPython.core.display.HTML object>"
            ]
          },
          "metadata": {},
          "output_type": "display_data"
        }
      ],
      "source": [
        "\"\"\"Construct a new tensor by computing over the shape domain.\n",
        "\n",
        "The compute rule is result[axis] = fcompute(axis)\n",
        "\n",
        "Parameters\n",
        "----------\n",
        "shape: Tuple of Expr\n",
        "    The shape of the tensor\n",
        "\n",
        "fcompute: lambda function of indices-> value\n",
        "    Specifies the input source expression\n",
        "\n",
        "name: str, optional\n",
        "    The name hint of the tensor\n",
        "\n",
        "tag: str, optional\n",
        "    Additional tag information about the compute.\n",
        "\n",
        "attrs: dict, optional\n",
        "    The additional auxiliary attributes about the compute.\n",
        "\n",
        "varargs_names: list, optional\n",
        "    The names to use for each of the varargs. If not supplied, the varargs\n",
        "    will be called i1, i2, ...\n",
        "\n",
        "Returns\n",
        "-------\n",
        "tensor: Tensor\n",
        "    The created tensor\n",
        "\"\"\"\n",
        "\n",
        "A: te.Tensor = compute(\n",
        "    shape=(3, 3),\n",
        "    fcompute=lambda i, j: 2 * i + 3 * j,\n",
        "    name=\"A\",\n",
        "    tag=\"test_tag\",\n",
        "    attrs={\"key\": \"value\"},\n",
        "    varargs_names=[\"i1\", \"i2\"],\n",
        ")\n",
        "\n",
        "createandshowmod([A])"
      ]
    }
  ],
  "metadata": {
    "kernelspec": {
      "display_name": "",
      "language": "python",
      "name": "python3"
    },
    "language_info": {
      "name": "python",
      "version": ""
    }
  },
  "nbformat": 4,
  "nbformat_minor": 5
}