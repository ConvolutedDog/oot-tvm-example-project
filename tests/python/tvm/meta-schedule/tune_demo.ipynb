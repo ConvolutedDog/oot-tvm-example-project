{
  "cells": [
    {
      "cell_type": "code",
      "execution_count": null,
      "metadata": {},
      "outputs": [],
      "source": [
        "import tvm\n",
        "import torch\n",
        "import tvm.script\n",
        "import tvm.script.tir as T\n",
        "import tvm.script.relax as R\n",
        "from tvm.relax.frontend.torch import from_exported_program\n",
        "import tvm.meta_schedule as ms\n",
        "import tvm.relax as rx"
      ]
    },
    {
      "cell_type": "code",
      "execution_count": null,
      "metadata": {},
      "outputs": [],
      "source": [
        "class torchModule(torch.nn.Module):\n",
        "    def __init__(self, in_features, out_features) -> None:\n",
        "        super().__init__()\n",
        "        self.linear = torch.nn.Linear(in_features, out_features)\n",
        "        self.relu = torch.nn.ReLU()\n",
        "    \n",
        "    def forward(self, x):\n",
        "        return self.relu(self.linear(x))\n",
        "\n"
      ]
    },
    {
      "cell_type": "code",
      "execution_count": null,
      "metadata": {},
      "outputs": [],
      "source": [
        "my_model = torchModule(10, 10)\n",
        "x = torch.rand([1,10], dtype=torch.float32)\n",
        "\n",
        "exported_program = torch.export.export(my_model, args=(x,))\n",
        "irmod = from_exported_program(exported_program)\n",
        "\n",
        "irmod.show()"
      ]
    },
    {
      "cell_type": "code",
      "execution_count": null,
      "metadata": {},
      "outputs": [],
      "source": [
        "# lower to tir\n",
        "tir_mod = rx.transform.LegalizeOps()(irmod)\n",
        "tir_mod.show()"
      ]
    },
    {
      "cell_type": "code",
      "execution_count": null,
      "metadata": {},
      "outputs": [],
      "source": [
        "database = ms.tune_tir(\n",
        "    mod=tir_mod,\n",
        "    target=\"llvm --num-cores=1\",\n",
        "    max_trials_global=32,\n",
        "    num_trials_per_iter=32,\n",
        "    work_dir=\"./tune_tmp\",\n",
        "    )\n",
        "\n"
      ]
    },
    {
      "cell_type": "code",
      "execution_count": null,
      "metadata": {},
      "outputs": [],
      "source": [
        "sch = ms.tir_integration.compile_tir(database, irmod, \"llvm --num-cores=1\")\n",
        "# sch.mod.show()\n",
        "print(sch)"
      ]
    },
    {
      "cell_type": "code",
      "execution_count": null,
      "metadata": {},
      "outputs": [],
      "source": [
        "@tvm.script.ir_module\n",
        "class MyTirModule:\n",
        "    @T.prim_func\n",
        "    def matmul(A: T.Buffer((128, 128), \"float32\"), B: T.Buffer((128, 128), \"float32\"), C: T.Buffer((128, 128), \"float32\")):\n",
        "        T.func_attr({\"global_symbol\": \"main\", \"tir.noalias\": True})\n",
        "        for i, j, k in T.grid(128, 128, 128):\n",
        "            with T.block(\"C\"):\n",
        "                vi, vj, vk = T.axis.remap(\"SSR\", [i, j, k])\n",
        "                with T.init():\n",
        "                    C[vi, vj] = 0.0\n",
        "                C[vi, vj] += A[vi, vk] * B[vk, vj]\n"
      ]
    },
    {
      "cell_type": "code",
      "execution_count": null,
      "metadata": {},
      "outputs": [],
      "source": [
        "MyTirModule.show()"
      ]
    },
    {
      "cell_type": "code",
      "execution_count": null,
      "metadata": {},
      "outputs": [],
      "source": [
        "database = ms.tune_tir(\n",
        "    mod=MyTirModule,\n",
        "    target=\"llvm --num-cores=1\",\n",
        "    max_trials_global=64,\n",
        "    num_trials_per_iter=64,\n",
        "    work_dir=\"./tune_tmp\",\n",
        "    )"
      ]
    },
    {
      "cell_type": "code",
      "execution_count": null,
      "metadata": {},
      "outputs": [],
      "source": [
        "sch = ms.tir_integration.compile_tir(database, MyTirModule, \"llvm --num-cores=1\")"
      ]
    },
    {
      "cell_type": "code",
      "execution_count": null,
      "metadata": {},
      "outputs": [
        {
          "name": "stdout",
          "output_type": "stream",
          "text": [
            "tir.Schedule(0xa3dfff8)\n"
          ]
        },
        {
          "data": {
            "text/html": [
              "<div class=\"highlight\" style=\"background: \"><pre style=\"line-height: 125%;\"><span></span><span style=\"color: #007979; font-style: italic\"># from tvm.script import ir as I</span>\n",
              "<span style=\"color: #007979; font-style: italic\"># from tvm.script import tir as T</span>\n",
              "\n",
              "<span style=\"color: #AA22FF\">@I</span><span style=\"color: #AA22FF; font-weight: bold\">.</span>ir_module\n",
              "<span style=\"color: #008000; font-weight: bold\">class</span> <span style=\"color: #0000FF; font-weight: bold\">Module</span>:\n",
              "    <span style=\"color: #AA22FF\">@T</span><span style=\"color: #AA22FF; font-weight: bold\">.</span>prim_func\n",
              "    <span style=\"color: #008000; font-weight: bold\">def</span> <span style=\"color: #0000FF\">main</span>(A: T<span style=\"color: #AA22FF; font-weight: bold\">.</span>Buffer((<span style=\"color: #008000\">128</span>, <span style=\"color: #008000\">128</span>), <span style=\"color: #BA2121\">&quot;float32&quot;</span>), B: T<span style=\"color: #AA22FF; font-weight: bold\">.</span>Buffer((<span style=\"color: #008000\">128</span>, <span style=\"color: #008000\">128</span>), <span style=\"color: #BA2121\">&quot;float32&quot;</span>), C: T<span style=\"color: #AA22FF; font-weight: bold\">.</span>Buffer((<span style=\"color: #008000\">128</span>, <span style=\"color: #008000\">128</span>), <span style=\"color: #BA2121\">&quot;float32&quot;</span>)):\n",
              "        T<span style=\"color: #AA22FF; font-weight: bold\">.</span>func_attr({<span style=\"color: #BA2121\">&quot;tir.noalias&quot;</span>: T<span style=\"color: #AA22FF; font-weight: bold\">.</span>bool(<span style=\"color: #008000; font-weight: bold\">True</span>)})\n",
              "        <span style=\"color: #007979; font-style: italic\"># with T.block(&quot;root&quot;):</span>\n",
              "        C_global <span style=\"color: #AA22FF; font-weight: bold\">=</span> T<span style=\"color: #AA22FF; font-weight: bold\">.</span>alloc_buffer((<span style=\"color: #008000\">128</span>, <span style=\"color: #008000\">128</span>))\n",
              "        <span style=\"color: #008000; font-weight: bold\">for</span> i_0_j_0_i_1_fused <span style=\"color: #008000; font-weight: bold\">in</span> T<span style=\"color: #AA22FF; font-weight: bold\">.</span>parallel(<span style=\"color: #008000\">128</span>, annotations<span style=\"color: #AA22FF; font-weight: bold\">=</span>{<span style=\"color: #BA2121\">&quot;pragma_auto_unroll_max_step&quot;</span>: <span style=\"color: #008000\">16</span>, <span style=\"color: #BA2121\">&quot;pragma_unroll_explicit&quot;</span>: <span style=\"color: #008000\">1</span>}):\n",
              "            <span style=\"color: #008000; font-weight: bold\">for</span> j_1 <span style=\"color: #008000; font-weight: bold\">in</span> range(<span style=\"color: #008000\">4</span>):\n",
              "                <span style=\"color: #008000; font-weight: bold\">for</span> i_2_init, j_2_init, i_3_init <span style=\"color: #008000; font-weight: bold\">in</span> T<span style=\"color: #AA22FF; font-weight: bold\">.</span>grid(<span style=\"color: #008000\">1</span>, <span style=\"color: #008000\">2</span>, <span style=\"color: #008000\">4</span>):\n",
              "                    <span style=\"color: #008000; font-weight: bold\">for</span> j_3_fused_init <span style=\"color: #008000; font-weight: bold\">in</span> T<span style=\"color: #AA22FF; font-weight: bold\">.</span>vectorized(<span style=\"color: #008000\">4</span>):\n",
              "                        <span style=\"color: #008000; font-weight: bold\">with</span> T<span style=\"color: #AA22FF; font-weight: bold\">.</span>block(<span style=\"color: #BA2121\">&quot;C_init&quot;</span>):\n",
              "                            vi <span style=\"color: #AA22FF; font-weight: bold\">=</span> T<span style=\"color: #AA22FF; font-weight: bold\">.</span>axis<span style=\"color: #AA22FF; font-weight: bold\">.</span>spatial(<span style=\"color: #008000\">128</span>, i_0_j_0_i_1_fused <span style=\"color: #AA22FF; font-weight: bold\">//</span> <span style=\"color: #008000\">64</span> <span style=\"color: #AA22FF; font-weight: bold\">*</span> <span style=\"color: #008000\">64</span> <span style=\"color: #AA22FF; font-weight: bold\">+</span> i_0_j_0_i_1_fused <span style=\"color: #AA22FF; font-weight: bold\">%</span> <span style=\"color: #008000\">16</span> <span style=\"color: #AA22FF; font-weight: bold\">*</span> <span style=\"color: #008000\">4</span> <span style=\"color: #AA22FF; font-weight: bold\">+</span> i_2_init <span style=\"color: #AA22FF; font-weight: bold\">*</span> <span style=\"color: #008000\">4</span> <span style=\"color: #AA22FF; font-weight: bold\">+</span> i_3_init)\n",
              "                            vj <span style=\"color: #AA22FF; font-weight: bold\">=</span> T<span style=\"color: #AA22FF; font-weight: bold\">.</span>axis<span style=\"color: #AA22FF; font-weight: bold\">.</span>spatial(<span style=\"color: #008000\">128</span>, i_0_j_0_i_1_fused <span style=\"color: #AA22FF; font-weight: bold\">%</span> <span style=\"color: #008000\">64</span> <span style=\"color: #AA22FF; font-weight: bold\">//</span> <span style=\"color: #008000\">16</span> <span style=\"color: #AA22FF; font-weight: bold\">*</span> <span style=\"color: #008000\">32</span> <span style=\"color: #AA22FF; font-weight: bold\">+</span> j_1 <span style=\"color: #AA22FF; font-weight: bold\">*</span> <span style=\"color: #008000\">8</span> <span style=\"color: #AA22FF; font-weight: bold\">+</span> j_2_init <span style=\"color: #AA22FF; font-weight: bold\">*</span> <span style=\"color: #008000\">4</span> <span style=\"color: #AA22FF; font-weight: bold\">+</span> j_3_fused_init)\n",
              "                            T<span style=\"color: #AA22FF; font-weight: bold\">.</span>reads()\n",
              "                            T<span style=\"color: #AA22FF; font-weight: bold\">.</span>writes(C_global[vi, vj])\n",
              "                            T<span style=\"color: #AA22FF; font-weight: bold\">.</span>block_attr({<span style=\"color: #BA2121\">&quot;meta_schedule.tiling_structure&quot;</span>: <span style=\"color: #BA2121\">&quot;SSRSRS&quot;</span>})\n",
              "                            C_global[vi, vj] <span style=\"color: #AA22FF; font-weight: bold\">=</span> T<span style=\"color: #AA22FF; font-weight: bold\">.</span>float32(<span style=\"color: #008000\">0.0</span>)\n",
              "                <span style=\"color: #008000; font-weight: bold\">for</span> k_0, i_2, j_2, k_1, i_3 <span style=\"color: #008000; font-weight: bold\">in</span> T<span style=\"color: #AA22FF; font-weight: bold\">.</span>grid(<span style=\"color: #008000\">2</span>, <span style=\"color: #008000\">1</span>, <span style=\"color: #008000\">2</span>, <span style=\"color: #008000\">64</span>, <span style=\"color: #008000\">4</span>):\n",
              "                    <span style=\"color: #008000; font-weight: bold\">for</span> j_3_fused <span style=\"color: #008000; font-weight: bold\">in</span> T<span style=\"color: #AA22FF; font-weight: bold\">.</span>vectorized(<span style=\"color: #008000\">4</span>):\n",
              "                        <span style=\"color: #008000; font-weight: bold\">with</span> T<span style=\"color: #AA22FF; font-weight: bold\">.</span>block(<span style=\"color: #BA2121\">&quot;C_update&quot;</span>):\n",
              "                            vi <span style=\"color: #AA22FF; font-weight: bold\">=</span> T<span style=\"color: #AA22FF; font-weight: bold\">.</span>axis<span style=\"color: #AA22FF; font-weight: bold\">.</span>spatial(<span style=\"color: #008000\">128</span>, i_0_j_0_i_1_fused <span style=\"color: #AA22FF; font-weight: bold\">//</span> <span style=\"color: #008000\">64</span> <span style=\"color: #AA22FF; font-weight: bold\">*</span> <span style=\"color: #008000\">64</span> <span style=\"color: #AA22FF; font-weight: bold\">+</span> i_0_j_0_i_1_fused <span style=\"color: #AA22FF; font-weight: bold\">%</span> <span style=\"color: #008000\">16</span> <span style=\"color: #AA22FF; font-weight: bold\">*</span> <span style=\"color: #008000\">4</span> <span style=\"color: #AA22FF; font-weight: bold\">+</span> i_2 <span style=\"color: #AA22FF; font-weight: bold\">*</span> <span style=\"color: #008000\">4</span> <span style=\"color: #AA22FF; font-weight: bold\">+</span> i_3)\n",
              "                            vj <span style=\"color: #AA22FF; font-weight: bold\">=</span> T<span style=\"color: #AA22FF; font-weight: bold\">.</span>axis<span style=\"color: #AA22FF; font-weight: bold\">.</span>spatial(<span style=\"color: #008000\">128</span>, i_0_j_0_i_1_fused <span style=\"color: #AA22FF; font-weight: bold\">%</span> <span style=\"color: #008000\">64</span> <span style=\"color: #AA22FF; font-weight: bold\">//</span> <span style=\"color: #008000\">16</span> <span style=\"color: #AA22FF; font-weight: bold\">*</span> <span style=\"color: #008000\">32</span> <span style=\"color: #AA22FF; font-weight: bold\">+</span> j_1 <span style=\"color: #AA22FF; font-weight: bold\">*</span> <span style=\"color: #008000\">8</span> <span style=\"color: #AA22FF; font-weight: bold\">+</span> j_2 <span style=\"color: #AA22FF; font-weight: bold\">*</span> <span style=\"color: #008000\">4</span> <span style=\"color: #AA22FF; font-weight: bold\">+</span> j_3_fused)\n",
              "                            vk <span style=\"color: #AA22FF; font-weight: bold\">=</span> T<span style=\"color: #AA22FF; font-weight: bold\">.</span>axis<span style=\"color: #AA22FF; font-weight: bold\">.</span>reduce(<span style=\"color: #008000\">128</span>, k_0 <span style=\"color: #AA22FF; font-weight: bold\">*</span> <span style=\"color: #008000\">64</span> <span style=\"color: #AA22FF; font-weight: bold\">+</span> k_1)\n",
              "                            T<span style=\"color: #AA22FF; font-weight: bold\">.</span>reads(C_global[vi, vj], A[vi, vk], B[vk, vj])\n",
              "                            T<span style=\"color: #AA22FF; font-weight: bold\">.</span>writes(C_global[vi, vj])\n",
              "                            T<span style=\"color: #AA22FF; font-weight: bold\">.</span>block_attr({<span style=\"color: #BA2121\">&quot;meta_schedule.tiling_structure&quot;</span>: <span style=\"color: #BA2121\">&quot;SSRSRS&quot;</span>})\n",
              "                            C_global[vi, vj] <span style=\"color: #AA22FF; font-weight: bold\">=</span> C_global[vi, vj] <span style=\"color: #AA22FF; font-weight: bold\">+</span> A[vi, vk] <span style=\"color: #AA22FF; font-weight: bold\">*</span> B[vk, vj]\n",
              "                <span style=\"color: #008000; font-weight: bold\">for</span> ax0 <span style=\"color: #008000; font-weight: bold\">in</span> range(<span style=\"color: #008000\">4</span>):\n",
              "                    <span style=\"color: #008000; font-weight: bold\">for</span> ax1_fused <span style=\"color: #008000; font-weight: bold\">in</span> T<span style=\"color: #AA22FF; font-weight: bold\">.</span>vectorized(<span style=\"color: #008000\">8</span>):\n",
              "                        <span style=\"color: #008000; font-weight: bold\">with</span> T<span style=\"color: #AA22FF; font-weight: bold\">.</span>block(<span style=\"color: #BA2121\">&quot;C_global&quot;</span>):\n",
              "                            v0 <span style=\"color: #AA22FF; font-weight: bold\">=</span> T<span style=\"color: #AA22FF; font-weight: bold\">.</span>axis<span style=\"color: #AA22FF; font-weight: bold\">.</span>spatial(<span style=\"color: #008000\">128</span>, i_0_j_0_i_1_fused <span style=\"color: #AA22FF; font-weight: bold\">//</span> <span style=\"color: #008000\">64</span> <span style=\"color: #AA22FF; font-weight: bold\">*</span> <span style=\"color: #008000\">64</span> <span style=\"color: #AA22FF; font-weight: bold\">+</span> i_0_j_0_i_1_fused <span style=\"color: #AA22FF; font-weight: bold\">%</span> <span style=\"color: #008000\">16</span> <span style=\"color: #AA22FF; font-weight: bold\">*</span> <span style=\"color: #008000\">4</span> <span style=\"color: #AA22FF; font-weight: bold\">+</span> ax0)\n",
              "                            v1 <span style=\"color: #AA22FF; font-weight: bold\">=</span> T<span style=\"color: #AA22FF; font-weight: bold\">.</span>axis<span style=\"color: #AA22FF; font-weight: bold\">.</span>spatial(<span style=\"color: #008000\">128</span>, i_0_j_0_i_1_fused <span style=\"color: #AA22FF; font-weight: bold\">%</span> <span style=\"color: #008000\">64</span> <span style=\"color: #AA22FF; font-weight: bold\">//</span> <span style=\"color: #008000\">16</span> <span style=\"color: #AA22FF; font-weight: bold\">*</span> <span style=\"color: #008000\">32</span> <span style=\"color: #AA22FF; font-weight: bold\">+</span> j_1 <span style=\"color: #AA22FF; font-weight: bold\">*</span> <span style=\"color: #008000\">8</span> <span style=\"color: #AA22FF; font-weight: bold\">+</span> ax1_fused)\n",
              "                            T<span style=\"color: #AA22FF; font-weight: bold\">.</span>reads(C_global[v0, v1])\n",
              "                            T<span style=\"color: #AA22FF; font-weight: bold\">.</span>writes(C[v0, v1])\n",
              "                            C[v0, v1] <span style=\"color: #AA22FF; font-weight: bold\">=</span> C_global[v0, v1]\n",
              "</pre></div>\n"
            ],
            "text/plain": [
              "<IPython.core.display.HTML object>"
            ]
          },
          "metadata": {},
          "output_type": "display_data"
        }
      ],
      "source": [
        "print(sch)\n",
        "sch.mod.show()"
      ]
    },
    {
      "cell_type": "code",
      "execution_count": null,
      "metadata": {},
      "outputs": [],
      "source": [
        "import numpy as np\n",
        "\n",
        "a_nd = tvm.nd.array(np.random.rand(128, 128).astype(\"float32\"))\n",
        "b_nd = tvm.nd.array(np.random.rand(128, 128).astype(\"float32\"))\n",
        "c_nd = tvm.nd.array(np.zeros((128, 128), dtype=\"float32\"))\n"
      ]
    },
    {
      "cell_type": "code",
      "execution_count": null,
      "metadata": {},
      "outputs": [
        {
          "name": "stdout",
          "output_type": "stream",
          "text": [
            "Time cost of MyModule before tuning: 2.356 ms\n"
          ]
        }
      ],
      "source": [
        "lib = tvm.build(MyTirModule, target=\"llvm\")\n",
        "f_timer_before = lib.time_evaluator(\"main\", tvm.cpu())\n",
        "print(\"Time cost of MyModule before tuning: %.3f ms\" % (f_timer_before(a_nd, b_nd, c_nd).mean * 1000))\n"
      ]
    },
    {
      "cell_type": "code",
      "execution_count": null,
      "metadata": {},
      "outputs": [
        {
          "name": "stdout",
          "output_type": "stream",
          "text": [
            "Time cost of MyModule after tuning: 0.127 ms\n"
          ]
        }
      ],
      "source": [
        "c_nd_2 = tvm.nd.array(np.zeros((128, 128), dtype=\"float32\"))\n",
        "\n",
        "lib = tvm.build(sch.mod, target=\"llvm\")\n",
        "f_timer_after = lib.time_evaluator(\"main\", tvm.cpu())\n",
        "print(\"Time cost of MyModule after tuning: %.3f ms\" % (f_timer_after(a_nd, b_nd, c_nd_2).mean * 1000))"
      ]
    },
    {
      "cell_type": "code",
      "execution_count": null,
      "metadata": {},
      "outputs": [],
      "source": [
        "import tvm.testing\n",
        "tvm.testing.assert_allclose(c_nd.numpy(), c_nd_2.numpy(), atol=1e-5, rtol=1e-5)"
      ]
    }
  ],
  "metadata": {
    "kernelspec": {
      "display_name": "",
      "language": "python",
      "name": "python3"
    },
    "language_info": {
      "codemirror_mode": {
        "name": "ipython",
        "version": 3
      },
      "file_extension": ".py",
      "mimetype": "text/x-python",
      "name": "python",
      "nbconvert_exporter": "python",
      "pygments_lexer": "ipython3",
      "version": ""
    }
  },
  "nbformat": 4,
  "nbformat_minor": 2
}