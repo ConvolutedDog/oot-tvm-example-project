{
 "cells": [
  {
   "cell_type": "code",
   "execution_count": 98,
   "id": "56f69c81",
   "metadata": {},
   "outputs": [],
   "source": [
    "import tvm\n",
    "\n",
    "import tvm.te as te\n",
    "import tvm.relax as rx\n",
    "import tvm.tir as tir\n",
    "\n",
    "from tvm.script import ir as I\n",
    "from tvm.script import tir as T\n",
    "from tvm.script import relax as R\n",
    "\n",
    "from tvm.relax.binding_rewrite import DataflowBlockRewrite\n",
    "from tvm.relax.analysis import name_to_binding\n",
    "\n",
    "\n",
    "def showmod(mod: tvm.ir.module.IRModule):\n",
    "    mod.show(\n",
    "        black_format=True,\n",
    "        show_meta=False,\n",
    "        verbose_expr=True,\n",
    "        show_object_address=False,\n",
    "        show_all_struct_info=True,\n",
    "    )\n",
    "\n",
    "\n",
    "def createandshowmod(ops):\n",
    "    te_func = te.create_prim_func(ops).with_attrs({\"global_symbol\": \"test\"})\n",
    "    mod = tvm.IRModule({\"test\": te_func})\n",
    "    showmod(mod)\n",
    "\n",
    "\n",
    "from tvm.relax import Expr, PrimValue, StringImm, Tuple\n",
    "from typing import List\n",
    "from tvm.relax.type_converter import args_converter"
   ]
  },
  {
   "cell_type": "code",
   "execution_count": 99,
   "id": "b6ce1ef6",
   "metadata": {},
   "outputs": [],
   "source": [
    "# NOTE `_ArgsConverter` is a class that automates the conversion of Python\n",
    "# type arguments into TVM Relax Expr or List[Expr].\n",
    "\n",
    "# tvm.PrimExpr -> relax.PrimValue\n",
    "# tvm.String or str -> relax.StringImm\n",
    "# tuple/list of PrimExpr -> relax.Tuple\n",
    "\n",
    "\n",
    "def test_args_to_expr(prim_value: PrimValue, string_imm: StringImm, tuple: Tuple):\n",
    "    assert isinstance(prim_value, PrimValue)\n",
    "    assert isinstance(string_imm, StringImm)\n",
    "    assert isinstance(tuple, Tuple)\n",
    "    print(f\"prim_value: {prim_value}, string_imm: {string_imm}, tuple: {tuple}\")\n",
    "\n",
    "\n",
    "# Some variables with python types\n",
    "prim_value = 1\n",
    "string_imm = \"hello\"\n",
    "tuple = (1, 2, 3)\n",
    "\n",
    "# This will raise an AssertionError because the arguments can't be converted\n",
    "# to relax.PrimValue, relax.StringImm, and relax.Tuple.\n",
    "# test_args_to_expr(prim_value, string_imm, tuple)"
   ]
  },
  {
   "cell_type": "code",
   "execution_count": 100,
   "id": "14a0cf01",
   "metadata": {},
   "outputs": [
    {
     "name": "stdout",
     "output_type": "stream",
     "text": [
      "prim_value: 1, string_imm: hello, tuple: (1, 2, 3)\n",
      "prim_value: R.prim_value(1), string_imm: R.str(\"hello\"), tuple: (R.prim_value(1), R.prim_value(2), R.prim_value(3))\n"
     ]
    }
   ],
   "source": [
    "print(f\"prim_value: {prim_value}, string_imm: {string_imm}, tuple: {tuple}\")\n",
    "\n",
    "test_args_to_expr2 = args_converter.to_expr(\"prim_value\", \"string_imm\", \"tuple\")(\n",
    "    test_args_to_expr\n",
    ")\n",
    "\n",
    "# Now `test_args_to_expr2` can implicitly convert its arguments with the python\n",
    "# types to relax.PrimValue, relax.StringImm, and relax.Tuple.\n",
    "test_args_to_expr2(prim_value, string_imm, tuple)"
   ]
  },
  {
   "cell_type": "code",
   "execution_count": 101,
   "id": "d0698742",
   "metadata": {},
   "outputs": [
    {
     "name": "stdout",
     "output_type": "stream",
     "text": [
      "prim_value: 1, string_imm: hello, tuple: (1, 2, 3)\n",
      "prim_value: R.prim_value(1), string_imm: R.str(\"hello\"), tuple: (R.prim_value(1), R.prim_value(2), R.prim_value(3))\n"
     ]
    }
   ],
   "source": [
    "print(f\"prim_value: {prim_value}, string_imm: {string_imm}, tuple: {tuple}\")\n",
    "\n",
    "\n",
    "@args_converter.to_expr(\"prim_value\", \"string_imm\", \"tuple\")\n",
    "def test_args_to_expr_decorator(\n",
    "    prim_value: PrimValue, string_imm: StringImm, tuple: Tuple\n",
    "):\n",
    "    assert isinstance(prim_value, PrimValue)\n",
    "    assert isinstance(string_imm, StringImm)\n",
    "    assert isinstance(tuple, Tuple)\n",
    "    print(f\"prim_value: {prim_value}, string_imm: {string_imm}, tuple: {tuple}\")\n",
    "\n",
    "\n",
    "# We also can use the decorator to achieve the same effect.\n",
    "test_args_to_expr_decorator(prim_value, string_imm, tuple)"
   ]
  },
  {
   "cell_type": "code",
   "execution_count": 102,
   "id": "f96476e3",
   "metadata": {},
   "outputs": [
    {
     "name": "stdout",
     "output_type": "stream",
     "text": [
      "prim_value: [R.prim_value(1), R.prim_value(2), R.prim_value(3)], \n",
      "string_imm: [R.str(\"hello\"), R.str(\"world\")], \n",
      "tuple: [(R.prim_value(1), R.prim_value(2), R.prim_value(3)), (R.prim_value(4), R.prim_value(5), R.prim_value(6))]\n"
     ]
    }
   ],
   "source": [
    "@args_converter.to_list_expr(\"prim_value\", \"string_imm\", \"tuple\")\n",
    "def test_args_to_list_expr(\n",
    "    prim_value: List[PrimValue], string_imm: List[StringImm], tuple: List[Tuple]\n",
    "):\n",
    "    assert isinstance(prim_value, List) and all(\n",
    "        [isinstance(arg, PrimValue) for arg in prim_value]\n",
    "    )\n",
    "    assert isinstance(string_imm, List) and all(\n",
    "        [isinstance(arg, StringImm) for arg in string_imm]\n",
    "    )\n",
    "    assert isinstance(tuple, List) and all([isinstance(arg, Tuple) for arg in tuple])\n",
    "    print(f\"prim_value: {prim_value}, \\nstring_imm: {string_imm}, \\ntuple: {tuple}\")\n",
    "\n",
    "# Test list of arguments\n",
    "prim_value = [1, 2, 3]\n",
    "string_imm = [\"hello\", \"world\"]\n",
    "tuple = [(1, 2, 3), (4, 5, 6)]\n",
    "test_args_to_list_expr(prim_value, string_imm, tuple)"
   ]
  },
  {
   "cell_type": "code",
   "execution_count": 103,
   "id": "805b8d41",
   "metadata": {},
   "outputs": [
    {
     "name": "stdout",
     "output_type": "stream",
     "text": [
      "[R.prim_value(1), R.prim_value(2), R.prim_value(3)]\n",
      "[R.str(\"hello\"), R.str(\"world\")]\n",
      "[(R.prim_value(1), R.prim_value(2), R.prim_value(3)), (R.prim_value(4), R.prim_value(5), R.prim_value(6))]\n"
     ]
    }
   ],
   "source": [
    "@args_converter.auto\n",
    "def test_auto_to_list_expr(\n",
    "    prim_value: List[Expr], string_imm: List[Expr], tuple: List[Expr]\n",
    "):\n",
    "    assert isinstance(prim_value, List) and all(\n",
    "        [isinstance(arg, PrimValue) for arg in prim_value]\n",
    "    )\n",
    "    assert isinstance(string_imm, List) and all(\n",
    "        [isinstance(arg, StringImm) for arg in string_imm]\n",
    "    )\n",
    "    assert isinstance(tuple, List) and all([isinstance(arg, Tuple) for arg in tuple])\n",
    "\n",
    "    print(prim_value)\n",
    "    print(string_imm)\n",
    "    print(tuple)\n",
    "\n",
    "\n",
    "test_auto_to_list_expr(prim_value, string_imm, tuple)"
   ]
  },
  {
   "cell_type": "code",
   "execution_count": 104,
   "id": "2a3dcb8c",
   "metadata": {},
   "outputs": [
    {
     "name": "stdout",
     "output_type": "stream",
     "text": [
      "prim_value: R.prim_value(1), string_imm: R.str(\"abc\"), tuple: (R.prim_value(1), R.prim_value(2), R.prim_value(3))\n"
     ]
    }
   ],
   "source": [
    "# NOTE We can use `args_converter.auto` to automatically convert the arguments\n",
    "# without specifying the argument names. But we must specify the types of the\n",
    "# formal arguments to Expr or List[Expr].\n",
    "@args_converter.auto\n",
    "def test_auto_to_expr(prim_value: Expr, string_imm: Expr, tuple: Expr):\n",
    "    assert isinstance(prim_value, PrimValue)\n",
    "    assert isinstance(string_imm, StringImm)\n",
    "    assert isinstance(tuple, Tuple)\n",
    "    print(f\"prim_value: {prim_value}, string_imm: {string_imm}, tuple: {tuple}\")\n",
    "\n",
    "\n",
    "test_auto_to_expr(1, \"abc\", (1, 2, 3))"
   ]
  }
 ],
 "metadata": {
  "kernelspec": {
   "display_name": "tvm-build-venv",
   "language": "python",
   "name": "python3"
  },
  "language_info": {
   "codemirror_mode": {
    "name": "ipython",
    "version": 3
   },
   "file_extension": ".py",
   "mimetype": "text/x-python",
   "name": "python",
   "nbconvert_exporter": "python",
   "pygments_lexer": "ipython3",
   "version": "3.11.13"
  }
 },
 "nbformat": 4,
 "nbformat_minor": 5
}
