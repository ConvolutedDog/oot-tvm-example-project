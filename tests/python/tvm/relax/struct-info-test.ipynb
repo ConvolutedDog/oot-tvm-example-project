{
 "cells": [
  {
   "cell_type": "code",
   "execution_count": 7,
   "id": "c18e39e8",
   "metadata": {},
   "outputs": [],
   "source": [
    "import tvm\n",
    "\n",
    "import tvm.te as te\n",
    "import tvm.relax as rx\n",
    "import tvm.tir as tir\n",
    "\n",
    "from tvm.script import ir as I\n",
    "from tvm.script import tir as T\n",
    "from tvm.script import relax as R\n",
    "\n",
    "from tvm.relax.binding_rewrite import DataflowBlockRewrite\n",
    "from tvm.relax.analysis import name_to_binding\n",
    "\n",
    "\n",
    "def showmod(mod: tvm.ir.module.IRModule):\n",
    "    mod.show(\n",
    "        black_format=True,\n",
    "        show_meta=False,\n",
    "        verbose_expr=True,\n",
    "        show_object_address=False,\n",
    "        show_all_struct_info=True,\n",
    "    )\n",
    "\n",
    "\n",
    "def createandshowmod(ops):\n",
    "    te_func = te.create_prim_func(ops).with_attrs({\"global_symbol\": \"test\"})\n",
    "    mod = tvm.IRModule({\"test\": te_func})\n",
    "    showmod(mod)"
   ]
  },
  {
   "cell_type": "code",
   "execution_count": 8,
   "id": "6d7a3bd1",
   "metadata": {},
   "outputs": [
    {
     "data": {
      "text/html": [
       "<div class=\"highlight\" style=\"background: \"><pre style=\"line-height: 125%;\"><span></span>R<span style=\"color: #A2F; font-weight: bold\">.</span>Object\n",
       "</pre></div>\n"
      ],
      "text/plain": [
       "<IPython.core.display.HTML object>"
      ]
     },
     "metadata": {},
     "output_type": "display_data"
    },
    {
     "name": "stdout",
     "output_type": "stream",
     "text": [
      "{\n",
      "  \"root\": 1, \n",
      "  \"nodes\": [\n",
      "    {\n",
      "      \"type_key\": \"\"\n",
      "    }, \n",
      "    {\n",
      "      \"type_key\": \"relax.ObjectStructInfo\", \n",
      "      \"attrs\": {\"span\": \"0\"}\n",
      "    }\n",
      "  ], \n",
      "  \"b64ndarrays\": [], \n",
      "  \"attrs\": {\"tvm_version\": \"0.21.dev0\"}\n",
      "}\n"
     ]
    },
    {
     "data": {
      "text/html": [
       "<div class=\"highlight\" style=\"background: \"><pre style=\"line-height: 125%;\"><span></span>R<span style=\"color: #A2F; font-weight: bold\">.</span>Shape([<span style=\"color: #008000\">1</span>, <span style=\"color: #008000\">2</span>, <span style=\"color: #008000\">3</span>])\n",
       "</pre></div>\n"
      ],
      "text/plain": [
       "<IPython.core.display.HTML object>"
      ]
     },
     "metadata": {},
     "output_type": "display_data"
    },
    {
     "data": {
      "text/html": [
       "<div class=\"highlight\" style=\"background: \"><pre style=\"line-height: 125%;\"><span></span>R<span style=\"color: #A2F; font-weight: bold\">.</span>Tensor((<span style=\"color: #008000\">1</span>, <span style=\"color: #008000\">2</span>, <span style=\"color: #008000\">3</span>), dtype<span style=\"color: #A2F; font-weight: bold\">=</span><span style=\"color: #BA2121\">&quot;float32&quot;</span>)\n",
       "</pre></div>\n"
      ],
      "text/plain": [
       "<IPython.core.display.HTML object>"
      ]
     },
     "metadata": {},
     "output_type": "display_data"
    },
    {
     "name": "stdout",
     "output_type": "stream",
     "text": [
      "R.shape([1, 2, 3])\n"
     ]
    },
    {
     "data": {
      "text/html": [
       "<div class=\"highlight\" style=\"background: \"><pre style=\"line-height: 125%;\"><span></span>shape: R<span style=\"color: #A2F; font-weight: bold\">.</span>Shape(ndim<span style=\"color: #A2F; font-weight: bold\">=</span><span style=\"color: #008000\">3</span>)\n",
       "R<span style=\"color: #A2F; font-weight: bold\">.</span>Tensor(shape, dtype<span style=\"color: #A2F; font-weight: bold\">=</span><span style=\"color: #BA2121\">&quot;float32&quot;</span>)\n",
       "</pre></div>\n"
      ],
      "text/plain": [
       "<IPython.core.display.HTML object>"
      ]
     },
     "metadata": {},
     "output_type": "display_data"
    },
    {
     "data": {
      "text/html": [
       "<div class=\"highlight\" style=\"background: \"><pre style=\"line-height: 125%;\"><span></span>shape: R<span style=\"color: #A2F; font-weight: bold\">.</span>Shape(ndim<span style=\"color: #A2F; font-weight: bold\">=</span><span style=\"color: #008000\">3</span>)\n",
       "R<span style=\"color: #A2F; font-weight: bold\">.</span>Tuple(R<span style=\"color: #A2F; font-weight: bold\">.</span>Tensor((<span style=\"color: #008000\">1</span>, <span style=\"color: #008000\">2</span>, <span style=\"color: #008000\">3</span>), dtype<span style=\"color: #A2F; font-weight: bold\">=</span><span style=\"color: #BA2121\">&quot;float32&quot;</span>), R<span style=\"color: #A2F; font-weight: bold\">.</span>Tensor(shape, dtype<span style=\"color: #A2F; font-weight: bold\">=</span><span style=\"color: #BA2121\">&quot;float32&quot;</span>))\n",
       "</pre></div>\n"
      ],
      "text/plain": [
       "<IPython.core.display.HTML object>"
      ]
     },
     "metadata": {},
     "output_type": "display_data"
    },
    {
     "data": {
      "text/html": [
       "<div class=\"highlight\" style=\"background: \"><pre style=\"line-height: 125%;\"><span></span>m <span style=\"color: #A2F; font-weight: bold\">=</span> T<span style=\"color: #A2F; font-weight: bold\">.</span>int64()\n",
       "n <span style=\"color: #A2F; font-weight: bold\">=</span> T<span style=\"color: #A2F; font-weight: bold\">.</span>int64()\n",
       "k <span style=\"color: #A2F; font-weight: bold\">=</span> T<span style=\"color: #A2F; font-weight: bold\">.</span>int64()\n",
       "R<span style=\"color: #A2F; font-weight: bold\">.</span>Callable(\n",
       "    (R<span style=\"color: #A2F; font-weight: bold\">.</span>Tensor((m, k), dtype<span style=\"color: #A2F; font-weight: bold\">=</span><span style=\"color: #BA2121\">&quot;float32&quot;</span>), R<span style=\"color: #A2F; font-weight: bold\">.</span>Tensor((k, n), dtype<span style=\"color: #A2F; font-weight: bold\">=</span><span style=\"color: #BA2121\">&quot;float32&quot;</span>)),\n",
       "    R<span style=\"color: #A2F; font-weight: bold\">.</span>Tensor((m, n), dtype<span style=\"color: #A2F; font-weight: bold\">=</span><span style=\"color: #BA2121\">&quot;float32&quot;</span>),\n",
       "    <span style=\"color: #008000; font-weight: bold\">True</span>,\n",
       ")\n",
       "</pre></div>\n"
      ],
      "text/plain": [
       "<IPython.core.display.HTML object>"
      ]
     },
     "metadata": {},
     "output_type": "display_data"
    },
    {
     "data": {
      "text/html": [
       "<div class=\"highlight\" style=\"background: \"><pre style=\"line-height: 125%;\"><span></span>R<span style=\"color: #A2F; font-weight: bold\">.</span>Callable\n",
       "</pre></div>\n"
      ],
      "text/plain": [
       "<IPython.core.display.HTML object>"
      ]
     },
     "metadata": {},
     "output_type": "display_data"
    }
   ],
   "source": [
    "def struct_info_test():\n",
    "    s0 = rx.ObjectStructInfo()\n",
    "    showmod(s0)\n",
    "    print(tvm.ir.save_json(s0))\n",
    "\n",
    "    s0 = rx.ShapeStructInfo([1, 2, 3])\n",
    "    showmod(s0)\n",
    "    assert s0.ndim == 3\n",
    "\n",
    "    t0 = rx.TensorStructInfo([1, 2, 3], \"float32\")\n",
    "    showmod(t0)\n",
    "    assert t0.ndim == 3\n",
    "    assert t0.dtype == \"float32\"\n",
    "    print(t0.shape)  # R.shape([1,2,3])\n",
    "\n",
    "    # NOTE can't compare `ShapeExpr` as follows.\n",
    "    # there is no `__eq__` method in `ShapeExpr`\n",
    "    # assert t0.shape == R.shape([1, 2, 3])\n",
    "    assert list(t0.shape.values) == [1, 2, 3]\n",
    "\n",
    "    shapeVar = rx.Var(\"shape\", rx.ShapeStructInfo(ndim=3))\n",
    "    t1 = rx.TensorStructInfo(shapeVar, \"float32\")\n",
    "    showmod(t1)\n",
    "    assert t1.ndim == 3\n",
    "    assert t1.dtype == \"float32\"\n",
    "    assert t1.shape == shapeVar\n",
    "\n",
    "    t2 = rx.TupleStructInfo([t0, t1])\n",
    "    showmod(t2)\n",
    "    assert t2.fields[0] == t0\n",
    "    assert t2.fields[1] == t1\n",
    "\n",
    "    m = tvm.tir.Var(\"m\", \"int64\")\n",
    "    n = tvm.tir.Var(\"n\", \"int64\")\n",
    "    k = tvm.tir.Var(\"k\", \"int64\")\n",
    "\n",
    "    a = rx.TensorStructInfo([m, k], \"float32\")\n",
    "    b = rx.TensorStructInfo([k, n], \"float32\")\n",
    "    c = rx.TensorStructInfo([m, n], \"float32\")\n",
    "\n",
    "    f = rx.FuncStructInfo([a, b], c)\n",
    "    showmod(f)\n",
    "\n",
    "    f1 = rx.FuncStructInfo.opaque_func()\n",
    "    showmod(f1)\n",
    "\n",
    "\n",
    "struct_info_test()"
   ]
  }
 ],
 "metadata": {
  "kernelspec": {
   "display_name": "tvm-build-venv",
   "language": "python",
   "name": "python3"
  },
  "language_info": {
   "codemirror_mode": {
    "name": "ipython",
    "version": 3
   },
   "file_extension": ".py",
   "mimetype": "text/x-python",
   "name": "python",
   "nbconvert_exporter": "python",
   "pygments_lexer": "ipython3",
   "version": "3.11.13"
  }
 },
 "nbformat": 4,
 "nbformat_minor": 5
}
