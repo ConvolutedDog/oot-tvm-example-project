{
  "cells": [
    {
      "cell_type": "code",
      "execution_count": null,
      "id": "0",
      "metadata": {},
      "outputs": [],
      "source": [
        "import tvm\n",
        "\n",
        "import tvm.te as te\n",
        "import tvm.relax as rx\n",
        "import tvm.tir as tir\n",
        "\n",
        "from tvm.script import ir as I\n",
        "from tvm.script import tir as T\n",
        "from tvm.script import relax as R\n",
        "\n",
        "from tvm.relax.binding_rewrite import DataflowBlockRewrite\n",
        "from tvm.relax.analysis import name_to_binding\n",
        "\n",
        "\n",
        "def showmod(mod: tvm.ir.module.IRModule):\n",
        "    mod.show(\n",
        "        black_format=True,\n",
        "        show_meta=False,\n",
        "        verbose_expr=True,\n",
        "        show_object_address=False,\n",
        "        show_all_struct_info=True,\n",
        "    )\n",
        "\n",
        "\n",
        "def createandshowmod(ops):\n",
        "    te_func = te.create_prim_func(ops).with_attrs({\"global_symbol\": \"test\"})\n",
        "    mod = tvm.IRModule({\"test\": te_func})\n",
        "    showmod(mod)"
      ]
    },
    {
      "cell_type": "code",
      "execution_count": null,
      "id": "1",
      "metadata": {},
      "outputs": [],
      "source": [
        "testSuites = {}\n",
        "\n",
        "\n",
        "def register(func):\n",
        "    if func.__name__ in testSuites:\n",
        "        raise Exception(\"Duplicated test suite name: \" + func.__name__)\n",
        "    else:\n",
        "        testSuites[func.__name__] = func\n",
        "    return func"
      ]
    },
    {
      "cell_type": "code",
      "execution_count": null,
      "id": "2",
      "metadata": {},
      "outputs": [
        {
          "data": {
            "text/html": [
              "<div class=\"highlight\" style=\"background: \"><pre style=\"line-height: 125%;\"><span></span><span style=\"color: #007979; font-style: italic\"># from tvm.script import ir as I</span>\n",
              "<span style=\"color: #007979; font-style: italic\"># from tvm.script import tir as T</span>\n",
              "<span style=\"color: #007979; font-style: italic\"># from tvm.script import relax as R</span>\n",
              "\n",
              "\n",
              "<span style=\"color: #A2F\">@I</span><span style=\"color: #A2F; font-weight: bold\">.</span>ir_module\n",
              "<span style=\"color: #008000; font-weight: bold\">class</span> <span style=\"color: #00F; font-weight: bold\">Module</span>:\n",
              "    <span style=\"color: #A2F\">@R</span><span style=\"color: #A2F; font-weight: bold\">.</span>function\n",
              "    <span style=\"color: #008000; font-weight: bold\">def</span> <span style=\"color: #00F\">func</span>(\n",
              "        x: R<span style=\"color: #A2F; font-weight: bold\">.</span>Tensor((<span style=\"color: #BA2121\">&quot;m&quot;</span>, <span style=\"color: #BA2121\">&quot;n&quot;</span>), dtype<span style=\"color: #A2F; font-weight: bold\">=</span><span style=\"color: #BA2121\">&quot;float32&quot;</span>),\n",
              "        y: R<span style=\"color: #A2F; font-weight: bold\">.</span>Tensor((<span style=\"color: #BA2121\">&quot;m&quot;</span>, <span style=\"color: #BA2121\">&quot;n&quot;</span>), dtype<span style=\"color: #A2F; font-weight: bold\">=</span><span style=\"color: #BA2121\">&quot;float32&quot;</span>),\n",
              "    ) <span style=\"color: #A2F; font-weight: bold\">-&gt;</span> R<span style=\"color: #A2F; font-weight: bold\">.</span>Tensor((<span style=\"color: #BA2121\">&quot;m&quot;</span>, <span style=\"color: #BA2121\">&quot;n&quot;</span>), dtype<span style=\"color: #A2F; font-weight: bold\">=</span><span style=\"color: #BA2121\">&quot;float32&quot;</span>):\n",
              "        m <span style=\"color: #A2F; font-weight: bold\">=</span> T<span style=\"color: #A2F; font-weight: bold\">.</span>int64()\n",
              "        n <span style=\"color: #A2F; font-weight: bold\">=</span> T<span style=\"color: #A2F; font-weight: bold\">.</span>int64()\n",
              "        <span style=\"color: #008000; font-weight: bold\">with</span> R<span style=\"color: #A2F; font-weight: bold\">.</span>dataflow():\n",
              "            lv: R<span style=\"color: #A2F; font-weight: bold\">.</span>Tensor((m, n), dtype<span style=\"color: #A2F; font-weight: bold\">=</span><span style=\"color: #BA2121\">&quot;float32&quot;</span>) <span style=\"color: #A2F; font-weight: bold\">=</span> R<span style=\"color: #A2F; font-weight: bold\">.</span>add(x, y)\n",
              "            gv: R<span style=\"color: #A2F; font-weight: bold\">.</span>Tensor((m, n), dtype<span style=\"color: #A2F; font-weight: bold\">=</span><span style=\"color: #BA2121\">&quot;float32&quot;</span>) <span style=\"color: #A2F; font-weight: bold\">=</span> lv\n",
              "            R<span style=\"color: #A2F; font-weight: bold\">.</span>output(gv)\n",
              "        <span style=\"color: #008000; font-weight: bold\">return</span> gv\n",
              "</pre></div>\n"
            ],
            "text/plain": [
              "<IPython.core.display.HTML object>"
            ]
          },
          "metadata": {},
          "output_type": "display_data"
        },
        {
          "data": {
            "text/html": [
              "<div class=\"highlight\" style=\"background: \"><pre style=\"line-height: 125%;\"><span></span><span style=\"color: #007979; font-style: italic\"># from tvm.script import tir as T</span>\n",
              "<span style=\"color: #007979; font-style: italic\"># from tvm.script import relax as R</span>\n",
              "\n",
              "\n",
              "<span style=\"color: #A2F\">@R</span><span style=\"color: #A2F; font-weight: bold\">.</span>function\n",
              "<span style=\"color: #008000; font-weight: bold\">def</span> <span style=\"color: #00F\">func</span>(\n",
              "    x: R<span style=\"color: #A2F; font-weight: bold\">.</span>Tensor((<span style=\"color: #BA2121\">&quot;m&quot;</span>, <span style=\"color: #BA2121\">&quot;n&quot;</span>), dtype<span style=\"color: #A2F; font-weight: bold\">=</span><span style=\"color: #BA2121\">&quot;float32&quot;</span>), y: R<span style=\"color: #A2F; font-weight: bold\">.</span>Tensor((<span style=\"color: #BA2121\">&quot;m&quot;</span>, <span style=\"color: #BA2121\">&quot;n&quot;</span>), dtype<span style=\"color: #A2F; font-weight: bold\">=</span><span style=\"color: #BA2121\">&quot;float32&quot;</span>)\n",
              ") <span style=\"color: #A2F; font-weight: bold\">-&gt;</span> R<span style=\"color: #A2F; font-weight: bold\">.</span>Tensor((<span style=\"color: #BA2121\">&quot;m&quot;</span>, <span style=\"color: #BA2121\">&quot;n&quot;</span>), dtype<span style=\"color: #A2F; font-weight: bold\">=</span><span style=\"color: #BA2121\">&quot;float32&quot;</span>):\n",
              "    m <span style=\"color: #A2F; font-weight: bold\">=</span> T<span style=\"color: #A2F; font-weight: bold\">.</span>int64()\n",
              "    n <span style=\"color: #A2F; font-weight: bold\">=</span> T<span style=\"color: #A2F; font-weight: bold\">.</span>int64()\n",
              "    <span style=\"color: #008000; font-weight: bold\">with</span> R<span style=\"color: #A2F; font-weight: bold\">.</span>dataflow():\n",
              "        lv: R<span style=\"color: #A2F; font-weight: bold\">.</span>Tensor((m, n), dtype<span style=\"color: #A2F; font-weight: bold\">=</span><span style=\"color: #BA2121\">&quot;float32&quot;</span>) <span style=\"color: #A2F; font-weight: bold\">=</span> R<span style=\"color: #A2F; font-weight: bold\">.</span>add(x, y)\n",
              "        gv: R<span style=\"color: #A2F; font-weight: bold\">.</span>Tensor((m, n), dtype<span style=\"color: #A2F; font-weight: bold\">=</span><span style=\"color: #BA2121\">&quot;float32&quot;</span>) <span style=\"color: #A2F; font-weight: bold\">=</span> lv\n",
              "        R<span style=\"color: #A2F; font-weight: bold\">.</span>output(gv)\n",
              "    <span style=\"color: #008000; font-weight: bold\">return</span> gv\n",
              "</pre></div>\n"
            ],
            "text/plain": [
              "<IPython.core.display.HTML object>"
            ]
          },
          "metadata": {},
          "output_type": "display_data"
        }
      ],
      "source": [
        "@register\n",
        "def test_block_builder():\n",
        "    m = tir.Var(\"m\", \"int64\")\n",
        "    n = tir.Var(\"n\", \"int64\")\n",
        "\n",
        "    x = rx.Var(\"x\", rx.TensorStructInfo([m, n], \"float32\"))\n",
        "    y = rx.Var(\"y\", rx.TensorStructInfo([m, n], \"float32\"))\n",
        "\n",
        "    bb = rx.BlockBuilder()\n",
        "\n",
        "    with bb.function(\"func\", [x, y]):\n",
        "        with bb.dataflow():\n",
        "            lv0 = bb.emit(rx.op.add(x, y))\n",
        "            assert lv0.name_hint == \"lv\"\n",
        "            gv0 = bb.emit_output(lv0)\n",
        "\n",
        "        bb.emit_func_output(gv0)\n",
        "\n",
        "    # Finalize the building process and return the result IRModule.\n",
        "    mod = bb.finalize()\n",
        "    func = mod[\"func\"]\n",
        "\n",
        "    showmod(mod)\n",
        "    showmod(func)\n",
        "\n",
        "\n",
        "testSuites[\"test_block_builder\"]()"
      ]
    }
  ],
  "metadata": {
    "kernelspec": {
      "display_name": "",
      "language": "python",
      "name": "python3"
    },
    "language_info": {
      "codemirror_mode": {
        "name": "ipython",
        "version": 3
      },
      "file_extension": ".py",
      "mimetype": "text/x-python",
      "name": "python",
      "nbconvert_exporter": "python",
      "pygments_lexer": "ipython3",
      "version": ""
    }
  },
  "nbformat": 4,
  "nbformat_minor": 5
}