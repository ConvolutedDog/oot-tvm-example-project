{
  "cells": [
    {
      "cell_type": "code",
      "execution_count": null,
      "id": "0",
      "metadata": {},
      "outputs": [],
      "source": [
        "import tvm\n",
        "\n",
        "import numpy as np\n",
        "\n",
        "import tvm.te as te\n",
        "import tvm.relax as rx\n",
        "import tvm.tir as tir\n",
        "\n",
        "from tvm.script import ir as I\n",
        "from tvm.script import tir as T\n",
        "from tvm.script import relax as R\n",
        "\n",
        "from tvm.relax.binding_rewrite import DataflowBlockRewrite\n",
        "from tvm.relax.analysis import name_to_binding\n",
        "\n",
        "\n",
        "def showmod(mod: tvm.ir.module.IRModule):\n",
        "    mod.show(\n",
        "        black_format=True,\n",
        "        show_meta=False,\n",
        "        verbose_expr=True,\n",
        "        show_object_address=False,\n",
        "        show_all_struct_info=True,\n",
        "    )\n",
        "\n",
        "\n",
        "def createandshowmod(ops):\n",
        "    te_func = te.create_prim_func(ops).with_attrs({\"global_symbol\": \"test\"})\n",
        "    mod = tvm.IRModule({\"test\": te_func})\n",
        "    showmod(mod)\n",
        "\n",
        "\n",
        "import tvm.testing\n",
        "import tvm.relax.testing.vm"
      ]
    },
    {
      "cell_type": "code",
      "execution_count": null,
      "id": "1",
      "metadata": {},
      "outputs": [
        {
          "name": "stdout",
          "output_type": "stream",
          "text": [
            "y.numpy(): \n",
            "[[0.10472399 0.66643685 0.35652795 0.4084878 ]\n",
            " [0.41518262 0.6130509  0.6014363  0.10648939]\n",
            " [0.816477   0.5540616  0.7546119  0.37130144]]\n",
            "\n",
            "res.numpy(): \n",
            "[[16.189398 17.059381 17.948286 ... 17.370955 17.224758 16.96119 ]\n",
            " [15.189768 16.005981 17.682283 ... 16.872387 17.490295 17.65356 ]\n",
            " [16.778374 14.794839 17.757568 ... 17.0416   17.32591  15.865465]\n",
            " ...\n",
            " [14.329997 14.277385 16.929363 ... 16.507309 16.752064 16.218044]\n",
            " [18.177542 16.748013 19.14382  ... 18.983114 19.113914 18.340569]\n",
            " [15.993771 14.182335 16.262959 ... 15.553992 16.757072 17.118176]]\n",
            "\n"
          ]
        }
      ],
      "source": [
        "def test_vm_build():\n",
        "    @tvm.script.ir_module\n",
        "    class test_vm_build_mod:\n",
        "        @R.function\n",
        "        def foo(x: R.Tensor((3, 4), \"float32\"), y: R.Tensor((3, 4), \"float32\")):\n",
        "            # NOTE `test.vm.identity` is registered in `tvm/relax/testing/vm.py`\n",
        "            _ = R.call_pure_packed(\n",
        "                \"test.vm.identity\", x, y, sinfo_args=(R.Tensor(ndim=2, dtype=\"float32\"))\n",
        "            )\n",
        "            return y\n",
        "\n",
        "    mod = test_vm_build_mod\n",
        "    target = tvm.target.Target(\"llvm\", host=\"llvm\")\n",
        "    ex = tvm.relax.build(mod, target, exec_mode=\"bytecode\")\n",
        "    vm = tvm.relax.VirtualMachine(ex, tvm.cpu())\n",
        "\n",
        "    np1 = tvm.nd.array(np.random.rand(3, 4).astype(np.float32))\n",
        "    np2 = tvm.nd.array(np.random.rand(3, 4).astype(np.float32))\n",
        "\n",
        "    y = vm[\"foo\"](np1, np2)\n",
        "    print(f\"y.numpy(): \\n{y.numpy()}\\n\")\n",
        "    tvm.testing.assert_allclose(np2.numpy(), np1.numpy(), rtol=1e-7, atol=1e-7)\n",
        "\n",
        "    # matmul mod\n",
        "    @tvm.script.ir_module\n",
        "    class matmul_mod:\n",
        "        @R.function\n",
        "        def matmul(x: R.Tensor((64, 64), \"float32\"), y: R.Tensor((64, 64), \"float32\")):\n",
        "            z = R.matmul(x, y)\n",
        "            return z\n",
        "\n",
        "    mod2 = matmul_mod\n",
        "    target = tvm.target.Target(\"llvm\", host=\"llvm\")\n",
        "    ex = tvm.relax.build(mod2, target, exec_mode=\"compiled\")\n",
        "    # we can aslo use `tvm.compile` to build the module\n",
        "    # ex = tvm.compile(mod2, target=target)\n",
        "\n",
        "    # BUG @benkangpeng The content printed below is meaningless.\n",
        "    # ex: VMExecutable\n",
        "    # print(ex.stats())\n",
        "    # print(ex.as_python())\n",
        "    # print(ex.as_text())\n",
        "\n",
        "    vm = tvm.relax.VirtualMachine(ex, tvm.cpu())\n",
        "\n",
        "    np1 = np.random.rand(64, 64).astype(np.float32)\n",
        "    np2 = np.random.rand(64, 64).astype(np.float32)\n",
        "\n",
        "    np3 = np.matmul(np1, np2)\n",
        "    res = vm[\"matmul\"](tvm.nd.array(np1), tvm.nd.array(np2))\n",
        "    tvm.testing.assert_allclose(res.numpy(), np3, rtol=1e-5, atol=1e-5)\n",
        "    print(f\"res.numpy(): \\n{res.numpy()}\\n\")\n",
        "\n",
        "    return ex\n",
        "\n",
        "\n",
        "ex = test_vm_build()"
      ]
    },
    {
      "cell_type": "code",
      "execution_count": null,
      "id": "2",
      "metadata": {},
      "outputs": [
        {
          "name": "stdout",
          "output_type": "stream",
          "text": [
            "; ModuleID = 'TVMMod'\n",
            "source_filename = \"TVMMod\"\n",
            "target datalayout = \"e-m:e-p270:32:32-p271:32:32-p272:64:64-i64:64-i128:128-f80:128-n8:16:32:64-S128\"\n",
            "target triple = \"x86_64-unknown-linux-gnu\"\n",
            "\n",
            "%0 = type { double }\n",
            "\n",
            "@__tvm_module_ctx = linkonce dllexport local_unnamed_addr global ptr null, align 8\n",
            "@__TVMFuncCall = linkonce dllexport local_unnamed_addr global ptr null, align 8\n",
            "@__TVMBackendGetFuncFromEnv = linkonce dllexport local_unnamed_addr global ptr null, align 8\n",
            "@__TVMAPISetLastError = linkonce dllexport local_unnamed_addr global ptr null, align 8\n",
            "@.str = private constant [66 x i8] c\"Assert fail: num_args == 4, __vmtir__matmul: num_args should be 4\\00\", align 1\n",
            "@.str.1 = private constant [84 x i8] c\"Assert fail: not T.isnullptr(args), __vmtir__matmul: TVMValue* arg pointer was NULL\\00\", align 1\n",
            "@.str.2 = private constant [86 x i8] c\"Assert fail: not T.isnullptr(arg_type_ids), __vmtir__matmul: int* type_codes was NULL\\00\", align 1\n",
            "@.str.3 = private constant [141 x i8] c\"Assert fai\n"
          ]
        }
      ],
      "source": [
        "# Get LLVM IR code\n",
        "code = ex.mod.imported_modules[0].get_source(\"ll\")  # Or get_source(\"\")\n",
        "print(code[:1000])  # Print the first 1000 characters"
      ]
    },
    {
      "cell_type": "code",
      "execution_count": null,
      "id": "3",
      "metadata": {},
      "outputs": [
        {
          "name": "stdout",
          "output_type": "stream",
          "text": [
            "\t.text\n",
            "\t.file\t\"TVMMod\"\n",
            "\t.globl\t__vmtir__matmul\n",
            "\t.p2align\t4\n",
            "\t.type\t__vmtir__matmul,@function\n",
            "__vmtir__matmul:\n",
            ".Lfunc_begin0:\n",
            "\t.file\t1 \".\" \"IRModule.CodeGenLLVM\"\n",
            "\t.loc\t1 0 0\n",
            "\t.cfi_startproc\n",
            "\tsubq\t$120, %rsp\n",
            "\t.cfi_def_cfa_offset 128\n",
            ".Ltmp0:\n",
            "\tcmpl\t$4, %edx\n",
            "\tjne\t.LBB0_1\n",
            ".Ltmp1:\n",
            "\ttestq\t%rdi, %rdi\n",
            "\tje\t.LBB0_4\n",
            ".Ltmp2:\n",
            "\ttestq\t%rsi, %rsi\n",
            "\tje\t.LBB0_6\n",
            ".Ltmp3:\n",
            "\tmovl\t(%rsi), %eax\n",
            ".Ltmp4:\n",
            "\tcmpl\t$13, %eax\n",
            "\tja\t.LB\n"
          ]
        }
      ],
      "source": [
        "# Get Assembly code\n",
        "code = ex.mod.imported_modules[0].get_source(\"asm\")  # Or get_source(\"s\")\n",
        "print(code[:400])  # Print the first 400 characters"
      ]
    },
    {
      "cell_type": "code",
      "execution_count": null,
      "id": "4",
      "metadata": {},
      "outputs": [
        {
          "data": {
            "text/html": [
              "<div class=\"highlight\" style=\"background: \"><pre style=\"line-height: 125%;\"><span></span><span style=\"color: #007979; font-style: italic\"># from tvm.script import ir as I</span>\n",
              "<span style=\"color: #007979; font-style: italic\"># from tvm.script import tir as T</span>\n",
              "\n",
              "\n",
              "<span style=\"color: #A2F\">@I</span><span style=\"color: #A2F; font-weight: bold\">.</span>ir_module\n",
              "<span style=\"color: #008000; font-weight: bold\">class</span> <span style=\"color: #00F; font-weight: bold\">Module</span>:\n",
              "    <span style=\"color: #A2F\">@T</span><span style=\"color: #A2F; font-weight: bold\">.</span>prim_func\n",
              "    <span style=\"color: #008000; font-weight: bold\">def</span> <span style=\"color: #00F\">matmul</span>(\n",
              "        x: T<span style=\"color: #A2F; font-weight: bold\">.</span>Buffer((<span style=\"color: #008000\">16</span>, <span style=\"color: #008000\">32</span>), <span style=\"color: #BA2121\">&quot;float32&quot;</span>),\n",
              "        y: T<span style=\"color: #A2F; font-weight: bold\">.</span>Buffer((<span style=\"color: #008000\">32</span>, <span style=\"color: #008000\">64</span>), <span style=\"color: #BA2121\">&quot;float32&quot;</span>),\n",
              "        z: T<span style=\"color: #A2F; font-weight: bold\">.</span>Buffer((<span style=\"color: #008000\">16</span>, <span style=\"color: #008000\">64</span>), <span style=\"color: #BA2121\">&quot;float32&quot;</span>),\n",
              "    ):\n",
              "        <span style=\"color: #007979; font-style: italic\"># with T.block(&quot;root&quot;):</span>\n",
              "        <span style=\"color: #008000; font-weight: bold\">for</span> i, j, k <span style=\"color: #008000; font-weight: bold\">in</span> T<span style=\"color: #A2F; font-weight: bold\">.</span>grid(<span style=\"color: #008000\">16</span>, <span style=\"color: #008000\">64</span>, <span style=\"color: #008000\">32</span>):\n",
              "            <span style=\"color: #008000; font-weight: bold\">with</span> T<span style=\"color: #A2F; font-weight: bold\">.</span>block(<span style=\"color: #BA2121\">&quot;T_matmul&quot;</span>):\n",
              "                i_1, j_1, k_1 <span style=\"color: #A2F; font-weight: bold\">=</span> T<span style=\"color: #A2F; font-weight: bold\">.</span>axis<span style=\"color: #A2F; font-weight: bold\">.</span>remap(<span style=\"color: #BA2121\">&quot;SSR&quot;</span>, [i, j, k])\n",
              "                T<span style=\"color: #A2F; font-weight: bold\">.</span>reads(x[i_1, k_1], y[k_1, j_1])\n",
              "                T<span style=\"color: #A2F; font-weight: bold\">.</span>writes(z[i_1, j_1])\n",
              "                <span style=\"color: #008000; font-weight: bold\">with</span> T<span style=\"color: #A2F; font-weight: bold\">.</span>init():\n",
              "                    z[i_1, j_1] <span style=\"color: #A2F; font-weight: bold\">=</span> T<span style=\"color: #A2F; font-weight: bold\">.</span>float32(<span style=\"color: #008000\">0.0</span>)\n",
              "                z[i_1, j_1] <span style=\"color: #A2F; font-weight: bold\">=</span> z[i_1, j_1] <span style=\"color: #A2F; font-weight: bold\">+</span> x[i_1, k_1] <span style=\"color: #A2F; font-weight: bold\">*</span> y[k_1, j_1]\n",
              "</pre></div>\n"
            ],
            "text/plain": [
              "<IPython.core.display.HTML object>"
            ]
          },
          "metadata": {},
          "output_type": "display_data"
        }
      ],
      "source": [
        "def test_vmcodegen():\n",
        "    @tvm.script.ir_module\n",
        "    class test_vmcodegen_mod:\n",
        "        @T.prim_func\n",
        "        def matmul(\n",
        "            x: T.Buffer((16, 32), \"float32\"),\n",
        "            y: T.Buffer((32, 64), \"float32\"),\n",
        "            z: T.Buffer((16, 64), \"float32\"),\n",
        "        ):\n",
        "            T.func_attr({\"global_symbol\": \"matmul\"})\n",
        "            for i, j, k in T.grid(16, 64, 32):\n",
        "                with T.block(\"T_matmul\"):\n",
        "                    i_1, j_1, k_1 = T.axis.remap(\"SSR\", [i, j, k])\n",
        "                    with T.init():\n",
        "                        z[i_1, j_1] = T.float32(0)\n",
        "                    z[i_1, j_1] = z[i_1, j_1] + x[i_1, k_1] * y[k_1, j_1]\n",
        "\n",
        "    builder = tvm.relax.ExecBuilder()\n",
        "    mod = tvm.relax.vm_build._vmcodegen(\n",
        "        builder, test_vmcodegen_mod, exec_mode=\"compiled\"\n",
        "    )\n",
        "    showmod(mod)\n",
        "\n",
        "\n",
        "test_vmcodegen()"
      ]
    },
    {
      "cell_type": "markdown",
      "id": "5",
      "metadata": {},
      "source": [
        "#### _vmcodegen"
      ]
    },
    {
      "cell_type": "code",
      "execution_count": null,
      "id": "6",
      "metadata": {},
      "outputs": [
        {
          "data": {
            "text/html": [
              "<div class=\"highlight\" style=\"background: \"><pre style=\"line-height: 125%;\"><span></span><span style=\"color: #007979; font-style: italic\"># from tvm.script import ir as I</span>\n",
              "<span style=\"color: #007979; font-style: italic\"># from tvm.script import relax as R</span>\n",
              "\n",
              "\n",
              "<span style=\"color: #A2F\">@I</span><span style=\"color: #A2F; font-weight: bold\">.</span>ir_module\n",
              "<span style=\"color: #008000; font-weight: bold\">class</span> <span style=\"color: #00F; font-weight: bold\">Module</span>:\n",
              "    <span style=\"color: #A2F\">@R</span><span style=\"color: #A2F; font-weight: bold\">.</span>function\n",
              "    <span style=\"color: #008000; font-weight: bold\">def</span> <span style=\"color: #00F\">add</span>(x: R<span style=\"color: #A2F; font-weight: bold\">.</span>Tensor((<span style=\"color: #008000\">3</span>, <span style=\"color: #008000\">4</span>), dtype<span style=\"color: #A2F; font-weight: bold\">=</span><span style=\"color: #BA2121\">&quot;float32&quot;</span>)) <span style=\"color: #A2F; font-weight: bold\">-&gt;</span> R<span style=\"color: #A2F; font-weight: bold\">.</span>Tensor((<span style=\"color: #008000\">3</span>, <span style=\"color: #008000\">4</span>), dtype<span style=\"color: #A2F; font-weight: bold\">=</span><span style=\"color: #BA2121\">&quot;float32&quot;</span>):\n",
              "        <span style=\"color: #008000; font-weight: bold\">return</span> x\n",
              "</pre></div>\n"
            ],
            "text/plain": [
              "<IPython.core.display.HTML object>"
            ]
          },
          "metadata": {},
          "output_type": "display_data"
        },
        {
          "data": {
            "text/html": [
              "<div class=\"highlight\" style=\"background: \"><pre style=\"line-height: 125%;\"><span></span><span style=\"color: #007979; font-style: italic\"># from tvm.script import ir as I</span>\n",
              "<span style=\"color: #007979; font-style: italic\"># from tvm.script import tir as T</span>\n",
              "\n",
              "\n",
              "<span style=\"color: #A2F\">@I</span><span style=\"color: #A2F; font-weight: bold\">.</span>ir_module\n",
              "<span style=\"color: #008000; font-weight: bold\">class</span> <span style=\"color: #00F; font-weight: bold\">Module</span>:\n",
              "    <span style=\"color: #A2F\">@T</span><span style=\"color: #A2F; font-weight: bold\">.</span>prim_func\n",
              "    <span style=\"color: #008000; font-weight: bold\">def</span> <span style=\"color: #00F\">__vmtir__add</span>(ctx_ptr: T<span style=\"color: #A2F; font-weight: bold\">.</span>handle, r: T<span style=\"color: #A2F; font-weight: bold\">.</span>handle, c: T<span style=\"color: #A2F; font-weight: bold\">.</span>handle, f: T<span style=\"color: #A2F; font-weight: bold\">.</span>handle):\n",
              "        T<span style=\"color: #A2F; font-weight: bold\">.</span>anylist_setitem_call_packed(r, <span style=\"color: #008000\">1</span>, <span style=\"color: #BA2121\">&quot;vm.builtin.copy&quot;</span>, T<span style=\"color: #A2F; font-weight: bold\">.</span>anylist_getitem(r, <span style=\"color: #008000\">0</span>))\n",
              "</pre></div>\n"
            ],
            "text/plain": [
              "<IPython.core.display.HTML object>"
            ]
          },
          "metadata": {},
          "output_type": "display_data"
        }
      ],
      "source": [
        "builder = tvm.relax.ExecBuilder()\n",
        "\n",
        "\n",
        "@tvm.script.ir_module\n",
        "class Module:\n",
        "    @R.function\n",
        "    def add(x: R.Tensor((3, 4), \"float32\")):\n",
        "        return x\n",
        "\n",
        "\n",
        "mod = Module\n",
        "showmod(mod)\n",
        "\n",
        "mod = tvm.relax.vm_build._vmcodegen(builder, mod, exec_mode=\"compiled\")\n",
        "showmod(mod)"
      ]
    },
    {
      "cell_type": "markdown",
      "id": "7",
      "metadata": {},
      "source": [
        "#### VMExecutable"
      ]
    },
    {
      "cell_type": "code",
      "execution_count": null,
      "id": "8",
      "metadata": {},
      "outputs": [
        {
          "data": {
            "text/html": [
              "<div class=\"highlight\" style=\"background: \"><pre style=\"line-height: 125%;\"><span></span><span style=\"color: #007979; font-style: italic\"># from tvm.script import ir as I</span>\n",
              "<span style=\"color: #007979; font-style: italic\"># from tvm.script import tir as T</span>\n",
              "\n",
              "\n",
              "<span style=\"color: #A2F\">@I</span><span style=\"color: #A2F; font-weight: bold\">.</span>ir_module\n",
              "<span style=\"color: #008000; font-weight: bold\">class</span> <span style=\"color: #00F; font-weight: bold\">Module</span>:\n",
              "    <span style=\"color: #A2F\">@T</span><span style=\"color: #A2F; font-weight: bold\">.</span>prim_func\n",
              "    <span style=\"color: #008000; font-weight: bold\">def</span> <span style=\"color: #00F\">main</span>(A: T<span style=\"color: #A2F; font-weight: bold\">.</span>handle, B: T<span style=\"color: #A2F; font-weight: bold\">.</span>handle, C: T<span style=\"color: #A2F; font-weight: bold\">.</span>handle):\n",
              "        M, K <span style=\"color: #A2F; font-weight: bold\">=</span> T<span style=\"color: #A2F; font-weight: bold\">.</span>int64(), T<span style=\"color: #A2F; font-weight: bold\">.</span>int64()\n",
              "        A_Buf <span style=\"color: #A2F; font-weight: bold\">=</span> T<span style=\"color: #A2F; font-weight: bold\">.</span>match_buffer(A, (M, K))\n",
              "        N <span style=\"color: #A2F; font-weight: bold\">=</span> T<span style=\"color: #A2F; font-weight: bold\">.</span>int64()\n",
              "        B_Buf <span style=\"color: #A2F; font-weight: bold\">=</span> T<span style=\"color: #A2F; font-weight: bold\">.</span>match_buffer(B, (K, N))\n",
              "        C_Buf <span style=\"color: #A2F; font-weight: bold\">=</span> T<span style=\"color: #A2F; font-weight: bold\">.</span>match_buffer(C, (M, N))\n",
              "        <span style=\"color: #007979; font-style: italic\"># with T.block(&quot;root&quot;):</span>\n",
              "        Y_Buf <span style=\"color: #A2F; font-weight: bold\">=</span> T<span style=\"color: #A2F; font-weight: bold\">.</span>alloc_buffer((M, N))\n",
              "        <span style=\"color: #008000; font-weight: bold\">for</span> i, j, k <span style=\"color: #008000; font-weight: bold\">in</span> T<span style=\"color: #A2F; font-weight: bold\">.</span>grid(M, N, K):\n",
              "            <span style=\"color: #008000; font-weight: bold\">with</span> T<span style=\"color: #A2F; font-weight: bold\">.</span>block(<span style=\"color: #BA2121\">&quot;Y_Buf&quot;</span>):\n",
              "                vi, vj, vk <span style=\"color: #A2F; font-weight: bold\">=</span> T<span style=\"color: #A2F; font-weight: bold\">.</span>axis<span style=\"color: #A2F; font-weight: bold\">.</span>remap(<span style=\"color: #BA2121\">&quot;SSR&quot;</span>, [i, j, k])\n",
              "                T<span style=\"color: #A2F; font-weight: bold\">.</span>reads(A_Buf[vi, vk], B_Buf[vk, vj])\n",
              "                T<span style=\"color: #A2F; font-weight: bold\">.</span>writes(Y_Buf[vi, vj])\n",
              "                <span style=\"color: #008000; font-weight: bold\">with</span> T<span style=\"color: #A2F; font-weight: bold\">.</span>init():\n",
              "                    Y_Buf[vi, vj] <span style=\"color: #A2F; font-weight: bold\">=</span> T<span style=\"color: #A2F; font-weight: bold\">.</span>float32(<span style=\"color: #008000\">0.0</span>)\n",
              "                Y_Buf[vi, vj] <span style=\"color: #A2F; font-weight: bold\">=</span> Y_Buf[vi, vj] <span style=\"color: #A2F; font-weight: bold\">+</span> A_Buf[vi, vk] <span style=\"color: #A2F; font-weight: bold\">*</span> B_Buf[vk, vj]\n",
              "        <span style=\"color: #008000; font-weight: bold\">for</span> i, j <span style=\"color: #008000; font-weight: bold\">in</span> T<span style=\"color: #A2F; font-weight: bold\">.</span>grid(M, N):\n",
              "            <span style=\"color: #008000; font-weight: bold\">with</span> T<span style=\"color: #A2F; font-weight: bold\">.</span>block(<span style=\"color: #BA2121\">&quot;C&quot;</span>):\n",
              "                vi, vj <span style=\"color: #A2F; font-weight: bold\">=</span> T<span style=\"color: #A2F; font-weight: bold\">.</span>axis<span style=\"color: #A2F; font-weight: bold\">.</span>remap(<span style=\"color: #BA2121\">&quot;SS&quot;</span>, [i, j])\n",
              "                T<span style=\"color: #A2F; font-weight: bold\">.</span>reads(Y_Buf[vi, vj])\n",
              "                T<span style=\"color: #A2F; font-weight: bold\">.</span>writes(C_Buf[vi, vj])\n",
              "                C_Buf[vi, vj] <span style=\"color: #A2F; font-weight: bold\">=</span> T<span style=\"color: #A2F; font-weight: bold\">.</span>max(Y_Buf[vi, vj], T<span style=\"color: #A2F; font-weight: bold\">.</span>float32(<span style=\"color: #008000\">0.0</span>))\n",
              "</pre></div>\n"
            ],
            "text/plain": [
              "<IPython.core.display.HTML object>"
            ]
          },
          "metadata": {},
          "output_type": "display_data"
        },
        {
          "name": "stdout",
          "output_type": "stream",
          "text": [
            "Relax VM executable statistics:\n",
            "  Constant pool (# 0): []\n",
            "  Globals (#0): []\n",
            "\n"
          ]
        }
      ],
      "source": [
        "import numpy as np\n",
        "\n",
        "dtype = \"float32\"\n",
        "\n",
        "\n",
        "@I.ir_module\n",
        "class mm_relu:\n",
        "    @T.prim_func\n",
        "    def main(A: T.handle, B: T.handle, C: T.handle):\n",
        "        M, K, N = T.int64(), T.int64(), T.int64()\n",
        "\n",
        "        A_Buf = T.match_buffer(A, [M, K], dtype)\n",
        "        B_Buf = T.match_buffer(B, [K, N], dtype)\n",
        "        C_Buf = T.match_buffer(C, [M, N], dtype)\n",
        "\n",
        "        Y_Buf = T.alloc_buffer(shape=[M, N], dtype=dtype)\n",
        "\n",
        "        for i, j, k in T.grid(M, N, K):\n",
        "            with T.block(\"Y_Buf\"):\n",
        "                vi, vj, vk = T.axis.remap(\"SSR\", [i, j, k])\n",
        "                with T.init():\n",
        "                    Y_Buf[vi, vj] = T.cast(0.0, dtype)\n",
        "                Y_Buf[vi, vj] = Y_Buf[vi, vj] + A_Buf[vi, vk] * B_Buf[vk, vj]\n",
        "\n",
        "        for i, j in T.grid(M, N):\n",
        "            with T.block(\"C\"):\n",
        "                vi, vj = T.axis.remap(\"SS\", [i, j])\n",
        "                C_Buf[vi, vj] = T.max(Y_Buf[vi, vj], T.cast(0.0, dtype))\n",
        "\n",
        "\n",
        "mod = mm_relu\n",
        "showmod(mod)\n",
        "\n",
        "\n",
        "# 构建 Relax 虚拟机模块\n",
        "ex = tvm.relax.build(mod, target=\"llvm\")\n",
        "vmexecutable = tvm.relax.VMExecutable(ex)\n",
        "\n",
        "print(vmexecutable.stats())\n",
        "\n",
        "# 或者直接创建虚拟机\n",
        "vm = tvm.relax.VirtualMachine(ex, tvm.cpu())"
      ]
    }
  ],
  "metadata": {
    "kernelspec": {
      "display_name": "",
      "language": "python",
      "name": "python3"
    },
    "language_info": {
      "codemirror_mode": {
        "name": "ipython",
        "version": 3
      },
      "file_extension": ".py",
      "mimetype": "text/x-python",
      "name": "python",
      "nbconvert_exporter": "python",
      "pygments_lexer": "ipython3",
      "version": ""
    }
  },
  "nbformat": 4,
  "nbformat_minor": 5
}