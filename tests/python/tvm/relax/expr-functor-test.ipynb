{
  "cells": [
    {
      "cell_type": "code",
      "execution_count": null,
      "id": "0",
      "metadata": {},
      "outputs": [],
      "source": [
        "from tvm.relax.expr_functor import PyExprMutator, PyExprVisitor\n",
        "from tvm import relax\n",
        "\n",
        "\n",
        "# If we want to visit a specific node, we must define a visitor class inheriting from\n",
        "# PyExprVisitor and override the related method. The methods that can be overridden\n",
        "# are listed in `PyExprVisitor._tvm_metadata`.\n",
        "\n",
        "# The decorator `@relax.expr_functor.visitor` is the key design to make the visitor\n",
        "# class a TVM object, it uses all the methods and fields of `ASTVisitor` as initial\n",
        "# arguments to create a TVM object `_PyExprVisitor`. In this example, we can just\n",
        "# simply think that `ASTVisitor = _PyExprVisitor(None,visit_constant_)`.\n",
        "\n",
        "# C++ side:\n",
        "# C++ class `PyExprVisitor` is constructed by the function `MakePyExprVisitor` with\n",
        "# the arguments of all the methods and fields of python class `ASTVisitor` (for\n",
        "# example, `visit_constant_` is implicitly converted to `f_visit_constant_`). After\n",
        "# initialization, `_PyExprVisitor`(also ASTVisitor) is binded with the C++ class\n",
        "# `PyExprVisitor`(see also docs/Analysis-of-TVM-python-cpp-binding-mechanism.md).\n",
        "\n",
        "# You can just use visitor to visit the expr, but you cannot modify the expr.\n",
        "# If you want to modify the expr, you need to use `PyExprMutator`.\n",
        "\n",
        "@relax.expr_functor.visitor\n",
        "class ASTVisitor(PyExprVisitor):\n",
        "    def __init__(self):\n",
        "        super().__init__()\n",
        "\n",
        "    def visit_constant_(self, expr):\n",
        "        print(f\"Visiting expr: {expr}\")\n",
        "        return expr"
      ]
    },
    {
      "cell_type": "code",
      "execution_count": null,
      "id": "1",
      "metadata": {},
      "outputs": [
        {
          "name": "stdout",
          "output_type": "stream",
          "text": [
            "R.const(1, \"int32\")\n",
            "Visiting expr: R.const(1, \"int32\")\n"
          ]
        }
      ],
      "source": [
        "cons = relax.const(1, dtype=\"int32\")\n",
        "print(cons)\n",
        "\n",
        "astVisitor = ASTVisitor()\n",
        "\n",
        "# depatched to visit_constant_\n",
        "astVisitor.visit_expr(cons)"
      ]
    },
    {
      "cell_type": "code",
      "execution_count": null,
      "metadata": {},
      "outputs": [
        {
          "name": "stdout",
          "output_type": "stream",
          "text": [
            "Mutating expr: R.const(1, \"int32\")\n",
            "Original constant: R.const(1, \"int32\")\n",
            "Mutated constant: R.const(2, \"int32\")\n"
          ]
        }
      ],
      "source": [
        "# Use ASTMutator to modify the constant node, e.g., change its value to 2\n",
        "@relax.expr_functor.mutator\n",
        "class ASTMutator(PyExprMutator):\n",
        "    def visit_constant_(self, expr):\n",
        "        print(f\"Mutating expr: {expr}\")\n",
        "        # Replace the constant value with 2\n",
        "        return relax.const(2, dtype=expr.data.dtype)\n",
        "\n",
        "astMutator = ASTMutator()\n",
        "new_cons = astMutator.visit_expr(cons)\n",
        "print(\"Original constant:\", cons)\n",
        "print(\"Mutated constant:\", new_cons)"
      ]
    }
  ],
  "metadata": {
    "kernelspec": {
      "display_name": "",
      "language": "python",
      "name": "python3"
    },
    "language_info": {
      "codemirror_mode": {
        "name": "ipython",
        "version": 3
      },
      "file_extension": ".py",
      "mimetype": "text/x-python",
      "name": "python",
      "nbconvert_exporter": "python",
      "pygments_lexer": "ipython3",
      "version": ""
    }
  },
  "nbformat": 4,
  "nbformat_minor": 2
}