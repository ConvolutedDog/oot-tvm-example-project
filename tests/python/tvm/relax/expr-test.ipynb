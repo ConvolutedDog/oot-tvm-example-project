{
  "cells": [
    {
      "cell_type": "code",
      "execution_count": null,
      "id": "0",
      "metadata": {},
      "outputs": [],
      "source": [
        "import tvm\n",
        "\n",
        "import tvm.te as te\n",
        "import tvm.relax as rx\n",
        "import tvm.tir as tir\n",
        "\n",
        "from tvm.script import ir as I\n",
        "from tvm.script import tir as T\n",
        "from tvm.script import relax as R\n",
        "\n",
        "from tvm.relax.binding_rewrite import DataflowBlockRewrite\n",
        "from tvm.relax.analysis import name_to_binding\n",
        "\n",
        "\n",
        "def showmod(mod: tvm.ir.module.IRModule, show_meta=False):\n",
        "    mod.show(\n",
        "        black_format=True,\n",
        "        show_meta=show_meta,\n",
        "        verbose_expr=True,\n",
        "        show_object_address=False,\n",
        "        show_all_struct_info=True,\n",
        "    )\n",
        "\n",
        "\n",
        "def createandshowmod(ops):\n",
        "    te_func = te.create_prim_func(ops).with_attrs({\"global_symbol\": \"test\"})\n",
        "    mod = tvm.IRModule({\"test\": te_func})\n",
        "    showmod(mod)"
      ]
    },
    {
      "cell_type": "code",
      "execution_count": null,
      "id": "1",
      "metadata": {},
      "outputs": [],
      "source": [
        "testSuites = {}\n",
        "\n",
        "\n",
        "def register(func):\n",
        "    if func.__name__ in testSuites:\n",
        "        raise Exception(\"Duplicated test suite name: \" + func.__name__)\n",
        "    else:\n",
        "        testSuites[func.__name__] = func\n",
        "    return func"
      ]
    },
    {
      "cell_type": "code",
      "execution_count": null,
      "id": "2",
      "metadata": {},
      "outputs": [
        {
          "data": {
            "text/html": [
              "<div class=\"highlight\" style=\"background: \"><pre style=\"line-height: 125%;\"><span></span>v0: R<span style=\"color: #A2F; font-weight: bold\">.</span>Tensor((<span style=\"color: #008000\">1</span>, <span style=\"color: #008000\">2</span>, <span style=\"color: #008000\">3</span>), dtype<span style=\"color: #A2F; font-weight: bold\">=</span><span style=\"color: #BA2121\">&quot;float32&quot;</span>)\n",
              "v0\n",
              "</pre></div>\n"
            ],
            "text/plain": [
              "<IPython.core.display.HTML object>"
            ]
          },
          "metadata": {},
          "output_type": "display_data"
        }
      ],
      "source": [
        "@register\n",
        "def test_var():\n",
        "    v0 = rx.Var(\"v0\", R.Tensor((1, 2, 3), \"float32\"))\n",
        "    showmod(v0)\n",
        "    assert v0.name_hint == \"v0\"\n",
        "    assert v0.struct_info == R.Tensor((1, 2, 3), \"float32\")\n",
        "\n",
        "\n",
        "testSuites[\"test_var\"]()"
      ]
    },
    {
      "cell_type": "code",
      "execution_count": null,
      "id": "3",
      "metadata": {},
      "outputs": [
        {
          "data": {
            "text/html": [
              "<div class=\"highlight\" style=\"background: \"><pre style=\"line-height: 125%;\"><span></span>v0: R<span style=\"color: #A2F; font-weight: bold\">.</span>Tensor((<span style=\"color: #008000\">1</span>, <span style=\"color: #008000\">2</span>, <span style=\"color: #008000\">3</span>), dtype<span style=\"color: #A2F; font-weight: bold\">=</span><span style=\"color: #BA2121\">&quot;float32&quot;</span>)\n",
              "v0\n",
              "</pre></div>\n"
            ],
            "text/plain": [
              "<IPython.core.display.HTML object>"
            ]
          },
          "metadata": {},
          "output_type": "display_data"
        }
      ],
      "source": [
        "@register\n",
        "def test_dataflow_var():\n",
        "    v0 = rx.DataflowVar(\"v0\", R.Tensor((1, 2, 3), \"float32\"))\n",
        "    showmod(v0)\n",
        "    assert v0.name_hint == \"v0\"\n",
        "    assert v0.struct_info == R.Tensor((1, 2, 3), \"float32\")\n",
        "\n",
        "\n",
        "testSuites[\"test_dataflow_var\"]()"
      ]
    },
    {
      "cell_type": "code",
      "execution_count": null,
      "id": "4",
      "metadata": {},
      "outputs": [
        {
          "data": {
            "text/html": [
              "<div class=\"highlight\" style=\"background: \"><pre style=\"line-height: 125%;\"><span></span>m <span style=\"color: #A2F; font-weight: bold\">=</span> T<span style=\"color: #A2F; font-weight: bold\">.</span>int64()\n",
              "n <span style=\"color: #A2F; font-weight: bold\">=</span> T<span style=\"color: #A2F; font-weight: bold\">.</span>int64()\n",
              "x: R<span style=\"color: #A2F; font-weight: bold\">.</span>Tensor((m, n), dtype<span style=\"color: #A2F; font-weight: bold\">=</span><span style=\"color: #BA2121\">&quot;float32&quot;</span>)\n",
              "y <span style=\"color: #A2F; font-weight: bold\">=</span> R<span style=\"color: #A2F; font-weight: bold\">.</span>match_cast(x, R<span style=\"color: #A2F; font-weight: bold\">.</span>Tensor((n, m), dtype<span style=\"color: #A2F; font-weight: bold\">=</span><span style=\"color: #BA2121\">&quot;float32&quot;</span>))\n",
              "</pre></div>\n"
            ],
            "text/plain": [
              "<IPython.core.display.HTML object>"
            ]
          },
          "metadata": {},
          "output_type": "display_data"
        },
        {
          "data": {
            "text/html": [
              "<div class=\"highlight\" style=\"background: \"><pre style=\"line-height: 125%;\"><span></span>m <span style=\"color: #A2F; font-weight: bold\">=</span> T<span style=\"color: #A2F; font-weight: bold\">.</span>int64()\n",
              "n <span style=\"color: #A2F; font-weight: bold\">=</span> T<span style=\"color: #A2F; font-weight: bold\">.</span>int64()\n",
              "b0 <span style=\"color: #A2F; font-weight: bold\">=</span> R<span style=\"color: #A2F; font-weight: bold\">.</span>match_cast(metadata[<span style=\"color: #BA2121\">&quot;relax.expr.Constant&quot;</span>][<span style=\"color: #008000\">0</span>], R<span style=\"color: #A2F; font-weight: bold\">.</span>Tensor((m, n), dtype<span style=\"color: #A2F; font-weight: bold\">=</span><span style=\"color: #BA2121\">&quot;int32&quot;</span>))\n",
              "<span style=\"color: #007979; font-style: italic\"># Metadata omitted. Use show_meta=True in script() method to show it.</span>\n",
              "</pre></div>\n"
            ],
            "text/plain": [
              "<IPython.core.display.HTML object>"
            ]
          },
          "metadata": {},
          "output_type": "display_data"
        },
        {
          "data": {
            "text/html": [
              "<div class=\"highlight\" style=\"background: \"><pre style=\"line-height: 125%;\"><span></span>m <span style=\"color: #A2F; font-weight: bold\">=</span> T<span style=\"color: #A2F; font-weight: bold\">.</span>int64()\n",
              "n <span style=\"color: #A2F; font-weight: bold\">=</span> T<span style=\"color: #A2F; font-weight: bold\">.</span>int64()\n",
              "value: R<span style=\"color: #A2F; font-weight: bold\">.</span>Tensor(dtype<span style=\"color: #A2F; font-weight: bold\">=</span><span style=\"color: #BA2121\">&quot;float32&quot;</span>)\n",
              "var: R<span style=\"color: #A2F; font-weight: bold\">.</span>Tensor((m, n), dtype<span style=\"color: #A2F; font-weight: bold\">=</span><span style=\"color: #BA2121\">&quot;float32&quot;</span>) <span style=\"color: #A2F; font-weight: bold\">=</span> R<span style=\"color: #A2F; font-weight: bold\">.</span>match_cast(\n",
              "    value, R<span style=\"color: #A2F; font-weight: bold\">.</span>Tensor((<span style=\"color: #008000\">10</span>, <span style=\"color: #008000\">10</span>), dtype<span style=\"color: #A2F; font-weight: bold\">=</span><span style=\"color: #BA2121\">&quot;float32&quot;</span>)\n",
              ")\n",
              "</pre></div>\n"
            ],
            "text/plain": [
              "<IPython.core.display.HTML object>"
            ]
          },
          "metadata": {},
          "output_type": "display_data"
        }
      ],
      "source": [
        "@register\n",
        "def test_match_cast():\n",
        "\n",
        "    # rx.MatchCast(var,value,struct_info)\n",
        "    # if `value` match `struct_info`, cast `value`'s struct_info into `struct_info` in runtime,\n",
        "    # then assign `value` to `var`.\n",
        "    # rx.MatchCast is mainly used to dynamic shape inference\n",
        "    m = tir.Var(\"m\", \"int64\")\n",
        "    n = tir.Var(\"n\", \"int64\")\n",
        "\n",
        "    x = rx.Var(\"x\", R.Tensor([m, n], \"float32\"))\n",
        "    y = rx.MatchCast(rx.Var(\"y\"), x, R.Tensor([n, m], \"float32\"))\n",
        "    showmod(y)\n",
        "\n",
        "    assert y.struct_info == R.Tensor([n, m], \"float32\")\n",
        "\n",
        "    shape = rx.const([16, 8], \"int32\")\n",
        "    b0 = rx.MatchCast(rx.Var(\"b0\"), shape, R.Tensor([m, n], \"int32\"))\n",
        "    showmod(b0)\n",
        "    assert b0.struct_info == R.Tensor([m, n], \"int32\")\n",
        "\n",
        "    value = rx.Var(\"value\", R.Tensor(None, \"float32\", ndim=-1))\n",
        "    var = rx.Var(\"var\", R.Tensor([m, n], \"float32\"))\n",
        "    b1 = rx.MatchCast(var, value, R.Tensor([10, 10], \"float32\"))\n",
        "    showmod(b1)\n",
        "\n",
        "    assert b1.value == value\n",
        "    assert b1.struct_info == R.Tensor([10, 10], \"float32\")\n",
        "\n",
        "\n",
        "testSuites[\"test_match_cast\"]()"
      ]
    },
    {
      "cell_type": "code",
      "execution_count": null,
      "id": "5",
      "metadata": {},
      "outputs": [
        {
          "data": {
            "text/html": [
              "<div class=\"highlight\" style=\"background: \"><pre style=\"line-height: 125%;\"><span></span>bind1 <span style=\"color: #A2F; font-weight: bold\">=</span> metadata[<span style=\"color: #BA2121\">&quot;relax.expr.Constant&quot;</span>][<span style=\"color: #008000\">0</span>]\n",
              "<span style=\"color: #007979; font-style: italic\"># Metadata omitted. Use show_meta=True in script() method to show it.</span>\n",
              "</pre></div>\n"
            ],
            "text/plain": [
              "<IPython.core.display.HTML object>"
            ]
          },
          "metadata": {},
          "output_type": "display_data"
        },
        {
          "data": {
            "text/html": [
              "<div class=\"highlight\" style=\"background: \"><pre style=\"line-height: 125%;\"><span></span>m <span style=\"color: #A2F; font-weight: bold\">=</span> T<span style=\"color: #A2F; font-weight: bold\">.</span>int64()\n",
              "n <span style=\"color: #A2F; font-weight: bold\">=</span> T<span style=\"color: #A2F; font-weight: bold\">.</span>int64()\n",
              "bind2 <span style=\"color: #A2F; font-weight: bold\">=</span> R<span style=\"color: #A2F; font-weight: bold\">.</span>match_cast(\n",
              "    metadata[<span style=\"color: #BA2121\">&quot;relax.expr.Constant&quot;</span>][<span style=\"color: #008000\">0</span>], R<span style=\"color: #A2F; font-weight: bold\">.</span>Tensor((m, n), dtype<span style=\"color: #A2F; font-weight: bold\">=</span><span style=\"color: #BA2121\">&quot;int32&quot;</span>)\n",
              ")\n",
              "<span style=\"color: #007979; font-style: italic\"># Metadata omitted. Use show_meta=True in script() method to show it.</span>\n",
              "</pre></div>\n"
            ],
            "text/plain": [
              "<IPython.core.display.HTML object>"
            ]
          },
          "metadata": {},
          "output_type": "display_data"
        },
        {
          "data": {
            "text/html": [
              "<div class=\"highlight\" style=\"background: \"><pre style=\"line-height: 125%;\"><span></span>m <span style=\"color: #A2F; font-weight: bold\">=</span> T<span style=\"color: #A2F; font-weight: bold\">.</span>int64()\n",
              "n <span style=\"color: #A2F; font-weight: bold\">=</span> T<span style=\"color: #A2F; font-weight: bold\">.</span>int64()\n",
              "bind1 <span style=\"color: #A2F; font-weight: bold\">=</span> metadata[<span style=\"color: #BA2121\">&quot;relax.expr.Constant&quot;</span>][<span style=\"color: #008000\">0</span>]\n",
              "bind2 <span style=\"color: #A2F; font-weight: bold\">=</span> R<span style=\"color: #A2F; font-weight: bold\">.</span>match_cast(\n",
              "    metadata[<span style=\"color: #BA2121\">&quot;relax.expr.Constant&quot;</span>][<span style=\"color: #008000\">1</span>], R<span style=\"color: #A2F; font-weight: bold\">.</span>Tensor((m, n), dtype<span style=\"color: #A2F; font-weight: bold\">=</span><span style=\"color: #BA2121\">&quot;int32&quot;</span>)\n",
              ")\n",
              "<span style=\"color: #007979; font-style: italic\"># Metadata omitted. Use show_meta=True in script() method to show it.</span>\n",
              "</pre></div>\n"
            ],
            "text/plain": [
              "<IPython.core.display.HTML object>"
            ]
          },
          "metadata": {},
          "output_type": "display_data"
        }
      ],
      "source": [
        "@register\n",
        "def test_var_binding():\n",
        "    m = tir.Var(\"m\", \"int64\")\n",
        "    n = tir.Var(\"n\", \"int64\")\n",
        "\n",
        "    import numpy as np\n",
        "\n",
        "    # binding a value to a var\n",
        "\n",
        "    # rx.const support numpy array as arguments\n",
        "    value1 = rx.const(np.random.rand(24, 56))\n",
        "    bind1 = rx.VarBinding(rx.Var(\"bind1\"), value1)\n",
        "    showmod(bind1)\n",
        "\n",
        "    assert bind1.var.name_hint == \"bind1\"\n",
        "    assert bind1.value == value1\n",
        "\n",
        "    shape = rx.const(np.array([16, 8]), \"int32\")\n",
        "    bind2 = rx.MatchCast(rx.Var(\"bind2\"), shape, R.Tensor([m, n], \"int32\"))\n",
        "    showmod(bind2)\n",
        "    assert bind2.struct_info == R.Tensor([m, n], \"int32\")\n",
        "    assert bind2.value == shape\n",
        "    # rx.MatchCast is also a relax.Binding\n",
        "\n",
        "    block0 = rx.BindingBlock([bind1, bind2])\n",
        "    assert block0.bindings[0] == bind1\n",
        "    assert block0.bindings[1] == bind2\n",
        "    showmod(block0)\n",
        "\n",
        "\n",
        "testSuites[\"test_var_binding\"]()"
      ]
    },
    {
      "cell_type": "code",
      "execution_count": null,
      "id": "6",
      "metadata": {},
      "outputs": [
        {
          "data": {
            "text/html": [
              "<div class=\"highlight\" style=\"background: \"><pre style=\"line-height: 125%;\"><span></span>m <span style=\"color: #A2F; font-weight: bold\">=</span> T<span style=\"color: #A2F; font-weight: bold\">.</span>int64()\n",
              "n <span style=\"color: #A2F; font-weight: bold\">=</span> T<span style=\"color: #A2F; font-weight: bold\">.</span>int64()\n",
              "<span style=\"color: #008000; font-weight: bold\">with</span> R<span style=\"color: #A2F; font-weight: bold\">.</span>dataflow():\n",
              "    v0 <span style=\"color: #A2F; font-weight: bold\">=</span> R<span style=\"color: #A2F; font-weight: bold\">.</span>match_cast(\n",
              "        metadata[<span style=\"color: #BA2121\">&quot;relax.expr.Constant&quot;</span>][<span style=\"color: #008000\">0</span>], R<span style=\"color: #A2F; font-weight: bold\">.</span>Tensor((m, n), dtype<span style=\"color: #A2F; font-weight: bold\">=</span><span style=\"color: #BA2121\">&quot;int32&quot;</span>)\n",
              "    )\n",
              "    v1 <span style=\"color: #A2F; font-weight: bold\">=</span> metadata[<span style=\"color: #BA2121\">&quot;relax.expr.Constant&quot;</span>][<span style=\"color: #008000\">1</span>]\n",
              "    R<span style=\"color: #A2F; font-weight: bold\">.</span>output(v0, v1)\n",
              "<span style=\"color: #007979; font-style: italic\"># Metadata omitted. Use show_meta=True in script() method to show it.</span>\n",
              "</pre></div>\n"
            ],
            "text/plain": [
              "<IPython.core.display.HTML object>"
            ]
          },
          "metadata": {},
          "output_type": "display_data"
        }
      ],
      "source": [
        "@register\n",
        "def test_dataflow_block():\n",
        "    m = tir.Var(\"m\", \"int64\")\n",
        "    n = tir.Var(\"n\", \"int64\")\n",
        "\n",
        "    shape = rx.const([16, 8], \"int32\")\n",
        "    b0 = rx.MatchCast(rx.Var(\"v0\"), shape, R.Tensor([m, n], \"int32\"))\n",
        "\n",
        "    import numpy as np\n",
        "\n",
        "    v1 = rx.Var(\"v1\")\n",
        "    val1 = rx.const([1, 2], \"int32\")\n",
        "    b1 = rx.VarBinding(v1, val1)\n",
        "\n",
        "    block1 = rx.DataflowBlock([b0, b1])\n",
        "    assert block1.bindings[0] == b0\n",
        "    assert block1.bindings[1] == b1\n",
        "    showmod(block1)\n",
        "\n",
        "\n",
        "testSuites[\"test_dataflow_block\"]()"
      ]
    },
    {
      "cell_type": "code",
      "execution_count": null,
      "id": "7",
      "metadata": {},
      "outputs": [
        {
          "data": {
            "text/html": [
              "<div class=\"highlight\" style=\"background: \"><pre style=\"line-height: 125%;\"><span></span>x: R<span style=\"color: #A2F; font-weight: bold\">.</span>Tensor((<span style=\"color: #008000\">2</span>, <span style=\"color: #008000\">4</span>), dtype<span style=\"color: #A2F; font-weight: bold\">=</span><span style=\"color: #BA2121\">&quot;int32&quot;</span>)\n",
              "y: R<span style=\"color: #A2F; font-weight: bold\">.</span>Tensor((<span style=\"color: #008000\">4</span>, <span style=\"color: #008000\">8</span>), dtype<span style=\"color: #A2F; font-weight: bold\">=</span><span style=\"color: #BA2121\">&quot;int32&quot;</span>)\n",
              "x: R<span style=\"color: #A2F; font-weight: bold\">.</span>Tensor((<span style=\"color: #008000\">2</span>, <span style=\"color: #008000\">4</span>), dtype<span style=\"color: #A2F; font-weight: bold\">=</span><span style=\"color: #BA2121\">&quot;int32&quot;</span>) <span style=\"color: #A2F; font-weight: bold\">=</span> R<span style=\"color: #A2F; font-weight: bold\">.</span>add(x, x)\n",
              "ret: R<span style=\"color: #A2F; font-weight: bold\">.</span>Tensor <span style=\"color: #A2F; font-weight: bold\">=</span> R<span style=\"color: #A2F; font-weight: bold\">.</span>multiply(x, y)\n",
              "ret\n",
              "</pre></div>\n"
            ],
            "text/plain": [
              "<IPython.core.display.HTML object>"
            ]
          },
          "metadata": {},
          "output_type": "display_data"
        },
        {
          "name": "stdout",
          "output_type": "stream",
          "text": [
            "==========\n"
          ]
        },
        {
          "data": {
            "text/html": [
              "<div class=\"highlight\" style=\"background: \"><pre style=\"line-height: 125%;\"><span></span>R<span style=\"color: #A2F; font-weight: bold\">.</span>Tensor\n",
              "</pre></div>\n"
            ],
            "text/plain": [
              "<IPython.core.display.HTML object>"
            ]
          },
          "metadata": {},
          "output_type": "display_data"
        }
      ],
      "source": [
        "@register\n",
        "def test_seq_expr():\n",
        "    x = rx.Var(\"x\", R.Tensor([2, 4], \"int32\"))\n",
        "    y = rx.Var(\"y\", R.Tensor([4, 8], \"int32\"))\n",
        "    res = rx.Var(\"ret\", R.Tensor(ndim=-1))\n",
        "\n",
        "    varBind1 = rx.VarBinding(x, rx.Call(tvm.ir.Op.get(\"relax.add\"), [x, x]))\n",
        "    varBind2 = rx.VarBinding(res, rx.Call(tvm.ir.Op.get(\"relax.multiply\"), [x, y]))\n",
        "\n",
        "    bindBlock = rx.BindingBlock([varBind1, varBind2])\n",
        "\n",
        "    seq1 = rx.SeqExpr([bindBlock], res)\n",
        "    assert seq1.body == res\n",
        "    assert seq1.blocks[0].bindings[0] == varBind1\n",
        "    assert seq1.blocks[0].bindings[1] == varBind2\n",
        "\n",
        "    showmod(seq1)\n",
        "    print(\"=\" * 10)\n",
        "    showmod(res.struct_info)\n",
        "\n",
        "\n",
        "testSuites[\"test_seq_expr\"]()"
      ]
    },
    {
      "cell_type": "code",
      "execution_count": null,
      "id": "8",
      "metadata": {},
      "outputs": [
        {
          "data": {
            "text/html": [
              "<div class=\"highlight\" style=\"background: \"><pre style=\"line-height: 125%;\"><span></span><span style=\"color: #007979; font-style: italic\"># from tvm.script import ir as I</span>\n",
              "<span style=\"color: #007979; font-style: italic\"># from tvm.script import tir as T</span>\n",
              "<span style=\"color: #007979; font-style: italic\"># from tvm.script import relax as R</span>\n",
              "\n",
              "\n",
              "<span style=\"color: #A2F\">@I</span><span style=\"color: #A2F; font-weight: bold\">.</span>ir_module\n",
              "<span style=\"color: #008000; font-weight: bold\">class</span> <span style=\"color: #00F; font-weight: bold\">Module</span>:\n",
              "    <span style=\"color: #A2F\">@R</span><span style=\"color: #A2F; font-weight: bold\">.</span>function\n",
              "    <span style=\"color: #008000; font-weight: bold\">def</span> <span style=\"color: #00F\">func</span>(\n",
              "        a: R<span style=\"color: #A2F; font-weight: bold\">.</span>Tensor((<span style=\"color: #BA2121\">&quot;m&quot;</span>, <span style=\"color: #BA2121\">&quot;k&quot;</span>), dtype<span style=\"color: #A2F; font-weight: bold\">=</span><span style=\"color: #BA2121\">&quot;int32&quot;</span>), b: R<span style=\"color: #A2F; font-weight: bold\">.</span>Tensor((<span style=\"color: #BA2121\">&quot;k&quot;</span>, <span style=\"color: #BA2121\">&quot;n&quot;</span>), dtype<span style=\"color: #A2F; font-weight: bold\">=</span><span style=\"color: #BA2121\">&quot;int32&quot;</span>)\n",
              "    ) <span style=\"color: #A2F; font-weight: bold\">-&gt;</span> R<span style=\"color: #A2F; font-weight: bold\">.</span>Tensor:\n",
              "        m <span style=\"color: #A2F; font-weight: bold\">=</span> T<span style=\"color: #A2F; font-weight: bold\">.</span>int64()\n",
              "        k <span style=\"color: #A2F; font-weight: bold\">=</span> T<span style=\"color: #A2F; font-weight: bold\">.</span>int64()\n",
              "        n <span style=\"color: #A2F; font-weight: bold\">=</span> T<span style=\"color: #A2F; font-weight: bold\">.</span>int64()\n",
              "        <span style=\"color: #008000; font-weight: bold\">return</span> R<span style=\"color: #A2F; font-weight: bold\">.</span>matmul(a, b)\n",
              "</pre></div>\n"
            ],
            "text/plain": [
              "<IPython.core.display.HTML object>"
            ]
          },
          "metadata": {},
          "output_type": "display_data"
        },
        {
          "data": {
            "text/html": [
              "<div class=\"highlight\" style=\"background: \"><pre style=\"line-height: 125%;\"><span></span><span style=\"color: #007979; font-style: italic\"># from tvm.script import tir as T</span>\n",
              "<span style=\"color: #007979; font-style: italic\"># from tvm.script import relax as R</span>\n",
              "\n",
              "\n",
              "<span style=\"color: #A2F\">@R</span><span style=\"color: #A2F; font-weight: bold\">.</span>function\n",
              "<span style=\"color: #008000; font-weight: bold\">def</span> <span style=\"color: #00F\">func</span>(\n",
              "    a: R<span style=\"color: #A2F; font-weight: bold\">.</span>Tensor((<span style=\"color: #BA2121\">&quot;m&quot;</span>, <span style=\"color: #BA2121\">&quot;k&quot;</span>), dtype<span style=\"color: #A2F; font-weight: bold\">=</span><span style=\"color: #BA2121\">&quot;int32&quot;</span>), b: R<span style=\"color: #A2F; font-weight: bold\">.</span>Tensor((<span style=\"color: #BA2121\">&quot;k&quot;</span>, <span style=\"color: #BA2121\">&quot;n&quot;</span>), dtype<span style=\"color: #A2F; font-weight: bold\">=</span><span style=\"color: #BA2121\">&quot;int32&quot;</span>)\n",
              ") <span style=\"color: #A2F; font-weight: bold\">-&gt;</span> R<span style=\"color: #A2F; font-weight: bold\">.</span>Tensor:\n",
              "    m <span style=\"color: #A2F; font-weight: bold\">=</span> T<span style=\"color: #A2F; font-weight: bold\">.</span>int64()\n",
              "    k <span style=\"color: #A2F; font-weight: bold\">=</span> T<span style=\"color: #A2F; font-weight: bold\">.</span>int64()\n",
              "    n <span style=\"color: #A2F; font-weight: bold\">=</span> T<span style=\"color: #A2F; font-weight: bold\">.</span>int64()\n",
              "    <span style=\"color: #008000; font-weight: bold\">return</span> R<span style=\"color: #A2F; font-weight: bold\">.</span>matmul(a, b)\n",
              "</pre></div>\n"
            ],
            "text/plain": [
              "<IPython.core.display.HTML object>"
            ]
          },
          "metadata": {},
          "output_type": "display_data"
        }
      ],
      "source": [
        "@register\n",
        "def test_func():\n",
        "    m, k, n = (\n",
        "        tvm.tir.Var(\"m\", \"int64\"),\n",
        "        tvm.tir.Var(\"k\", \"int64\"),\n",
        "        tvm.tir.Var(\"n\", \"int64\"),\n",
        "    )\n",
        "\n",
        "    a = rx.Var(\"a\", R.Tensor([m, k], \"int32\"))\n",
        "    b = rx.Var(\"b\", R.Tensor([k, n], \"int32\"))\n",
        "\n",
        "    c = rx.Call(tvm.ir.Op.get(\"relax.matmul\"), [a, b])\n",
        "\n",
        "    func = rx.Function([a, b], c, R.Tensor(ndim=-1))\n",
        "\n",
        "    # update the attribute of func\n",
        "    func = func.with_attr(\"global_symbol\", \"func\")\n",
        "    mod = tvm.IRModule.from_expr(func)\n",
        "    showmod(mod)\n",
        "    showmod(mod[\"func\"])\n",
        "\n",
        "\n",
        "testSuites[\"test_func\"]()"
      ]
    },
    {
      "cell_type": "code",
      "execution_count": null,
      "id": "9",
      "metadata": {},
      "outputs": [
        {
          "data": {
            "text/html": [
              "<div class=\"highlight\" style=\"background: \"><pre style=\"line-height: 125%;\"><span></span>R<span style=\"color: #A2F; font-weight: bold\">.</span>shape([<span style=\"color: #008000\">96</span>, <span style=\"color: #008000\">54</span>])\n",
              "</pre></div>\n"
            ],
            "text/plain": [
              "<IPython.core.display.HTML object>"
            ]
          },
          "metadata": {},
          "output_type": "display_data"
        },
        {
          "data": {
            "text/html": [
              "<div class=\"highlight\" style=\"background: \"><pre style=\"line-height: 125%;\"><span></span>R<span style=\"color: #A2F; font-weight: bold\">.</span>shape([<span style=\"color: #008000\">10</span>, <span style=\"color: #008000\">20</span>])\n",
              "</pre></div>\n"
            ],
            "text/plain": [
              "<IPython.core.display.HTML object>"
            ]
          },
          "metadata": {},
          "output_type": "display_data"
        }
      ],
      "source": [
        "@register\n",
        "def test_shape_expr():\n",
        "    shape = [96, 54]\n",
        "    v1 = rx.Var(\"v1\", R.Tensor(shape))\n",
        "    s1 = rx.get_shape_of(v1)\n",
        "    showmod(s1)\n",
        "\n",
        "    shape_expr = rx.ShapeExpr([10, 20])\n",
        "    showmod(shape_expr)\n",
        "\n",
        "\n",
        "testSuites[\"test_shape_expr\"]()"
      ]
    },
    {
      "cell_type": "code",
      "execution_count": null,
      "id": "10",
      "metadata": {},
      "outputs": [
        {
          "data": {
            "text/html": [
              "<div class=\"highlight\" style=\"background: \"><pre style=\"line-height: 125%;\"><span></span>R<span style=\"color: #A2F; font-weight: bold\">.</span>prim_value(<span style=\"color: #008000\">1</span>)\n",
              "</pre></div>\n"
            ],
            "text/plain": [
              "<IPython.core.display.HTML object>"
            ]
          },
          "metadata": {},
          "output_type": "display_data"
        },
        {
          "data": {
            "text/html": [
              "<div class=\"highlight\" style=\"background: \"><pre style=\"line-height: 125%;\"><span></span>R<span style=\"color: #A2F; font-weight: bold\">.</span>prim_value(T<span style=\"color: #A2F; font-weight: bold\">.</span>Mul(<span style=\"color: #008000\">2</span>, <span style=\"color: #008000\">3</span>))\n",
              "</pre></div>\n"
            ],
            "text/plain": [
              "<IPython.core.display.HTML object>"
            ]
          },
          "metadata": {},
          "output_type": "display_data"
        },
        {
          "data": {
            "text/html": [
              "<div class=\"highlight\" style=\"background: \"><pre style=\"line-height: 125%;\"><span></span>n <span style=\"color: #A2F; font-weight: bold\">=</span> T<span style=\"color: #A2F; font-weight: bold\">.</span>int32()\n",
              "R<span style=\"color: #A2F; font-weight: bold\">.</span>prim_value(n <span style=\"color: #A2F; font-weight: bold\">+</span> <span style=\"color: #008000\">1</span>)\n",
              "</pre></div>\n"
            ],
            "text/plain": [
              "<IPython.core.display.HTML object>"
            ]
          },
          "metadata": {},
          "output_type": "display_data"
        },
        {
          "data": {
            "text/html": [
              "<div class=\"highlight\" style=\"background: \"><pre style=\"line-height: 125%;\"><span></span>R<span style=\"color: #A2F; font-weight: bold\">.</span>prim_value(<span style=\"color: #008000\">1</span>)\n",
              "</pre></div>\n"
            ],
            "text/plain": [
              "<IPython.core.display.HTML object>"
            ]
          },
          "metadata": {},
          "output_type": "display_data"
        }
      ],
      "source": [
        "@register\n",
        "def test_prim_value():\n",
        "    pv0 = rx.PrimValue(1)\n",
        "    pv1 = rx.PrimValue(tvm.tir.Mul(2, 3))  # R.prim_value(T.Mul(2, 3))\n",
        "    pv2 = rx.PrimValue(tvm.tir.Var(\"n\", \"int32\") + 1)  # R.prim_value(n + 1)\n",
        "    pv3 = rx.PrimValue(tvm.tir.IntImm(\"int64\", 1))\n",
        "    showmod(pv0)\n",
        "    showmod(pv1)\n",
        "    showmod(pv2)\n",
        "    showmod(pv3)\n",
        "\n",
        "\n",
        "testSuites[\"test_prim_value\"]()"
      ]
    },
    {
      "cell_type": "code",
      "execution_count": null,
      "id": "11",
      "metadata": {},
      "outputs": [
        {
          "data": {
            "text/html": [
              "<div class=\"highlight\" style=\"background: \"><pre style=\"line-height: 125%;\"><span></span><span style=\"color: #007979; font-style: italic\"># from tvm.script import relax as R</span>\n",
              "\n",
              "\n",
              "<span style=\"color: #A2F\">@R</span><span style=\"color: #A2F; font-weight: bold\">.</span>function(private<span style=\"color: #A2F; font-weight: bold\">=</span><span style=\"color: #008000; font-weight: bold\">True</span>)\n",
              "<span style=\"color: #008000; font-weight: bold\">def</span> <span style=\"color: #00F\">main</span>(x: R<span style=\"color: #A2F; font-weight: bold\">.</span>Tensor, y: R<span style=\"color: #A2F; font-weight: bold\">.</span>Tensor) <span style=\"color: #A2F; font-weight: bold\">-&gt;</span> R<span style=\"color: #A2F; font-weight: bold\">.</span>Tensor:\n",
              "    <span style=\"color: #008000; font-weight: bold\">return</span> R<span style=\"color: #A2F; font-weight: bold\">.</span>add(x, R<span style=\"color: #A2F; font-weight: bold\">.</span>add(x, y))\n",
              "</pre></div>\n"
            ],
            "text/plain": [
              "<IPython.core.display.HTML object>"
            ]
          },
          "metadata": {},
          "output_type": "display_data"
        }
      ],
      "source": [
        "@register\n",
        "def test_call():\n",
        "    x = rx.Var(\"x\", R.Tensor(ndim=-1))\n",
        "    y = rx.Var(\"y\", R.Tensor(ndim=-1))\n",
        "    z = rx.Call(tvm.ir.Op.get(\"relax.add\"), [x, y])\n",
        "    m = rx.op.add(x, z)\n",
        "\n",
        "    func = rx.Function([x, y], m, R.Tensor(ndim=-1))\n",
        "    showmod(func)\n",
        "\n",
        "\n",
        "testSuites[\"test_call\"]()"
      ]
    }
  ],
  "metadata": {
    "kernelspec": {
      "display_name": "",
      "language": "python",
      "name": "python3"
    },
    "language_info": {
      "codemirror_mode": {
        "name": "ipython",
        "version": 3
      },
      "file_extension": ".py",
      "mimetype": "text/x-python",
      "name": "python",
      "nbconvert_exporter": "python",
      "pygments_lexer": "ipython3",
      "version": ""
    }
  },
  "nbformat": 4,
  "nbformat_minor": 5
}