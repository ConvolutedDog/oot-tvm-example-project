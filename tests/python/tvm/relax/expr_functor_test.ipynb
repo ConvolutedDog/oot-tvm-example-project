{
  "cells": [
    {
      "cell_type": "code",
      "execution_count": null,
      "id": "0",
      "metadata": {},
      "outputs": [],
      "source": [
        "from tvm.relax.expr_functor import PyExprVisitor\n",
        "from tvm import relax\n",
        "\n",
        "\n",
        "# If we want to visit a specific node, we must define a visitor class inheriting from PyExprVisitor and override the related method.\n",
        "# The methods that can be overridden are listed in `PyExprVisitor._tvm_metadata`.\n",
        "\n",
        "# The decorator `@relax.expr_functor.visitor` is the key design to make the visitor class a TVM object,\n",
        "# it uses all the methods and fields of `ASTVisitor` as initial arguments to create a TVM object `_PyExprVisitor`.\n",
        "# In this example, we can just simply think that `ASTVisitor = _PyExprVisitor(None,visit_constant_)`.\n",
        "\n",
        "# C++ side: C++ class `PyExprVisitor` is constructed by the function `MakePyExprVisitor` with the arguments of all the methods and fields of python class `ASTVisitor`\n",
        "# (for example, `visit_constant_` is implicitly converted to `f_visit_constant_`).\n",
        "# After initialization, `_PyExprVisitor`(also ASTVisitor) is binded with the C++ class `PyExprVisitor`(see also docs/Analysis-of-TVM-python-cpp-binding-mechanism.md).\n",
        "@relax.expr_functor.visitor\n",
        "class ASTVisitor(PyExprVisitor):\n",
        "    def __init__(self):\n",
        "        super().__init__()\n",
        "\n",
        "    def visit_constant_(self, expr):\n",
        "        print(f\"Visiting expr: {expr}\")\n",
        "        return expr"
      ]
    },
    {
      "cell_type": "code",
      "execution_count": null,
      "id": "1",
      "metadata": {},
      "outputs": [],
      "source": [
        "cons = relax.const(1, dtype=\"int32\")\n",
        "astVisitor = ASTVisitor()\n",
        "\n",
        "# depatched to visit_constant_\n",
        "astVisitor.visit_expr(cons)\n",
        "print(cons)"
      ]
    }
  ],
  "metadata": {
    "language_info": {
      "name": "python"
    }
  },
  "nbformat": 4,
  "nbformat_minor": 2
}