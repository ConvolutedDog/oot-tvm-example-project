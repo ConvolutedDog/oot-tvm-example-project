{
 "cells": [
  {
   "cell_type": "code",
   "execution_count": 54,
   "id": "aa08a79f",
   "metadata": {},
   "outputs": [],
   "source": [
    "import tvm\n",
    "\n",
    "import numpy as np\n",
    "\n",
    "import tvm.te as te\n",
    "import tvm.relax as rx\n",
    "import tvm.tir as tir\n",
    "\n",
    "from tvm.script import ir as I\n",
    "from tvm.script import tir as T\n",
    "from tvm.script import relax as R\n",
    "\n",
    "\n",
    "def showmod(mod: tvm.ir.module.IRModule):\n",
    "    mod.show(\n",
    "        black_format=True,\n",
    "        show_meta=False,\n",
    "        verbose_expr=True,\n",
    "        show_object_address=False,\n",
    "        show_all_struct_info=True,\n",
    "    )\n",
    "\n",
    "\n",
    "def createandshowmod(ops):\n",
    "    te_func = te.create_prim_func(ops).with_attrs({\"global_symbol\": \"test\"})\n",
    "    mod = tvm.IRModule({\"test\": te_func})\n",
    "    showmod(mod)\n",
    "\n",
    "\n",
    "from tvm.relax.frontend import nn"
   ]
  },
  {
   "cell_type": "code",
   "execution_count": 55,
   "id": "84c38ff2",
   "metadata": {},
   "outputs": [],
   "source": [
    "testSuites = {}\n",
    "\n",
    "\n",
    "def register(func):\n",
    "    if func.__name__ in testSuites:\n",
    "        raise Exception(\"Duplicated test suite name: \" + func.__name__)\n",
    "    else:\n",
    "        testSuites[func.__name__] = func\n",
    "    return func"
   ]
  },
  {
   "cell_type": "code",
   "execution_count": 56,
   "id": "74db796b",
   "metadata": {},
   "outputs": [
    {
     "name": "stdout",
     "output_type": "stream",
     "text": [
      "param0: Tensor([4, 4], \"float32\")\n",
      "param0.data: None\n",
      "param0.data: [[-0.05631397  2.2376904  -0.29770148 -0.65897965]\n",
      " [ 0.13761097 -0.9416021   1.3386246   0.70951796]\n",
      " [ 1.8505553  -0.17791286 -0.7759552   0.00947368]\n",
      " [-0.23217033 -1.293148   -0.29679146  1.0891947 ]]\n",
      "param1.dtype: float32\n",
      "param1.dtype: int32\n"
     ]
    }
   ],
   "source": [
    "@register\n",
    "def test_Parameter():\n",
    "    param0 = nn.Parameter((4, 4), \"float32\")\n",
    "    print(f\"param0: {param0}\")\n",
    "    print(f\"param0.data: {param0.data}\")\n",
    "    param0.data = np.random.randn(4, 4).astype(\"float32\")\n",
    "    print(f\"param0.data: {param0.data}\")\n",
    "\n",
    "    param1 = nn.Parameter((4, 4), \"float32\")\n",
    "    print(f\"param1.dtype: {param1.dtype}\")\n",
    "    # change the dtype of param1\n",
    "    param1.to(\"int32\")\n",
    "    print(f\"param1.dtype: {param1.dtype}\")\n",
    "\n",
    "\n",
    "testSuites[\"test_Parameter\"]()"
   ]
  },
  {
   "cell_type": "code",
   "execution_count": 57,
   "id": "68d015b9",
   "metadata": {},
   "outputs": [
    {
     "data": {
      "text/html": [
       "<div class=\"highlight\" style=\"background: \"><pre style=\"line-height: 125%;\"><span></span><span style=\"color: #007979; font-style: italic\"># from tvm.script import ir as I</span>\n",
       "<span style=\"color: #007979; font-style: italic\"># from tvm.script import relax as R</span>\n",
       "\n",
       "\n",
       "<span style=\"color: #A2F\">@I</span><span style=\"color: #A2F; font-weight: bold\">.</span>ir_module\n",
       "<span style=\"color: #008000; font-weight: bold\">class</span> <span style=\"color: #00F; font-weight: bold\">Module</span>:\n",
       "    <span style=\"color: #A2F\">@R</span><span style=\"color: #A2F; font-weight: bold\">.</span>function\n",
       "    <span style=\"color: #008000; font-weight: bold\">def</span> <span style=\"color: #00F\">forward</span>(\n",
       "        x: R<span style=\"color: #A2F; font-weight: bold\">.</span>Tensor((<span style=\"color: #008000\">1</span>, <span style=\"color: #008000\">784</span>), dtype<span style=\"color: #A2F; font-weight: bold\">=</span><span style=\"color: #BA2121\">&quot;float32&quot;</span>),\n",
       "        fc1_weight: R<span style=\"color: #A2F; font-weight: bold\">.</span>Tensor((<span style=\"color: #008000\">256</span>, <span style=\"color: #008000\">784</span>), dtype<span style=\"color: #A2F; font-weight: bold\">=</span><span style=\"color: #BA2121\">&quot;float32&quot;</span>),\n",
       "        fc1_bias: R<span style=\"color: #A2F; font-weight: bold\">.</span>Tensor((<span style=\"color: #008000\">256</span>,), dtype<span style=\"color: #A2F; font-weight: bold\">=</span><span style=\"color: #BA2121\">&quot;float32&quot;</span>),\n",
       "        fc2_weight: R<span style=\"color: #A2F; font-weight: bold\">.</span>Tensor((<span style=\"color: #008000\">10</span>, <span style=\"color: #008000\">256</span>), dtype<span style=\"color: #A2F; font-weight: bold\">=</span><span style=\"color: #BA2121\">&quot;float32&quot;</span>),\n",
       "        fc2_bias: R<span style=\"color: #A2F; font-weight: bold\">.</span>Tensor((<span style=\"color: #008000\">10</span>,), dtype<span style=\"color: #A2F; font-weight: bold\">=</span><span style=\"color: #BA2121\">&quot;float32&quot;</span>),\n",
       "    ) <span style=\"color: #A2F; font-weight: bold\">-&gt;</span> R<span style=\"color: #A2F; font-weight: bold\">.</span>Tensor((<span style=\"color: #008000\">1</span>, <span style=\"color: #008000\">10</span>), dtype<span style=\"color: #A2F; font-weight: bold\">=</span><span style=\"color: #BA2121\">&quot;float32&quot;</span>):\n",
       "        R<span style=\"color: #A2F; font-weight: bold\">.</span>func_attr({<span style=\"color: #BA2121\">&quot;num_input&quot;</span>: <span style=\"color: #008000\">1</span>})\n",
       "        <span style=\"color: #008000; font-weight: bold\">with</span> R<span style=\"color: #A2F; font-weight: bold\">.</span>dataflow():\n",
       "            permute_dims: R<span style=\"color: #A2F; font-weight: bold\">.</span>Tensor((<span style=\"color: #008000\">784</span>, <span style=\"color: #008000\">256</span>), dtype<span style=\"color: #A2F; font-weight: bold\">=</span><span style=\"color: #BA2121\">&quot;float32&quot;</span>) <span style=\"color: #A2F; font-weight: bold\">=</span> R<span style=\"color: #A2F; font-weight: bold\">.</span>permute_dims(\n",
       "                fc1_weight, axes<span style=\"color: #A2F; font-weight: bold\">=</span><span style=\"color: #008000; font-weight: bold\">None</span>\n",
       "            )\n",
       "            matmul: R<span style=\"color: #A2F; font-weight: bold\">.</span>Tensor((<span style=\"color: #008000\">1</span>, <span style=\"color: #008000\">256</span>), dtype<span style=\"color: #A2F; font-weight: bold\">=</span><span style=\"color: #BA2121\">&quot;float32&quot;</span>) <span style=\"color: #A2F; font-weight: bold\">=</span> R<span style=\"color: #A2F; font-weight: bold\">.</span>matmul(\n",
       "                x, permute_dims, out_dtype<span style=\"color: #A2F; font-weight: bold\">=</span><span style=\"color: #BA2121\">&quot;void&quot;</span>\n",
       "            )\n",
       "            add: R<span style=\"color: #A2F; font-weight: bold\">.</span>Tensor((<span style=\"color: #008000\">1</span>, <span style=\"color: #008000\">256</span>), dtype<span style=\"color: #A2F; font-weight: bold\">=</span><span style=\"color: #BA2121\">&quot;float32&quot;</span>) <span style=\"color: #A2F; font-weight: bold\">=</span> R<span style=\"color: #A2F; font-weight: bold\">.</span>add(matmul, fc1_bias)\n",
       "            relu: R<span style=\"color: #A2F; font-weight: bold\">.</span>Tensor((<span style=\"color: #008000\">1</span>, <span style=\"color: #008000\">256</span>), dtype<span style=\"color: #A2F; font-weight: bold\">=</span><span style=\"color: #BA2121\">&quot;float32&quot;</span>) <span style=\"color: #A2F; font-weight: bold\">=</span> R<span style=\"color: #A2F; font-weight: bold\">.</span>nn<span style=\"color: #A2F; font-weight: bold\">.</span>relu(add)\n",
       "            permute_dims1: R<span style=\"color: #A2F; font-weight: bold\">.</span>Tensor((<span style=\"color: #008000\">256</span>, <span style=\"color: #008000\">10</span>), dtype<span style=\"color: #A2F; font-weight: bold\">=</span><span style=\"color: #BA2121\">&quot;float32&quot;</span>) <span style=\"color: #A2F; font-weight: bold\">=</span> R<span style=\"color: #A2F; font-weight: bold\">.</span>permute_dims(\n",
       "                fc2_weight, axes<span style=\"color: #A2F; font-weight: bold\">=</span><span style=\"color: #008000; font-weight: bold\">None</span>\n",
       "            )\n",
       "            matmul1: R<span style=\"color: #A2F; font-weight: bold\">.</span>Tensor((<span style=\"color: #008000\">1</span>, <span style=\"color: #008000\">10</span>), dtype<span style=\"color: #A2F; font-weight: bold\">=</span><span style=\"color: #BA2121\">&quot;float32&quot;</span>) <span style=\"color: #A2F; font-weight: bold\">=</span> R<span style=\"color: #A2F; font-weight: bold\">.</span>matmul(\n",
       "                relu, permute_dims1, out_dtype<span style=\"color: #A2F; font-weight: bold\">=</span><span style=\"color: #BA2121\">&quot;void&quot;</span>\n",
       "            )\n",
       "            add1: R<span style=\"color: #A2F; font-weight: bold\">.</span>Tensor((<span style=\"color: #008000\">1</span>, <span style=\"color: #008000\">10</span>), dtype<span style=\"color: #A2F; font-weight: bold\">=</span><span style=\"color: #BA2121\">&quot;float32&quot;</span>) <span style=\"color: #A2F; font-weight: bold\">=</span> R<span style=\"color: #A2F; font-weight: bold\">.</span>add(matmul1, fc2_bias)\n",
       "            gv: R<span style=\"color: #A2F; font-weight: bold\">.</span>Tensor((<span style=\"color: #008000\">1</span>, <span style=\"color: #008000\">10</span>), dtype<span style=\"color: #A2F; font-weight: bold\">=</span><span style=\"color: #BA2121\">&quot;float32&quot;</span>) <span style=\"color: #A2F; font-weight: bold\">=</span> add1\n",
       "            R<span style=\"color: #A2F; font-weight: bold\">.</span>output(gv)\n",
       "        <span style=\"color: #008000; font-weight: bold\">return</span> gv\n",
       "</pre></div>\n"
      ],
      "text/plain": [
       "<IPython.core.display.HTML object>"
      ]
     },
     "metadata": {},
     "output_type": "display_data"
    },
    {
     "name": "stdout",
     "output_type": "stream",
     "text": [
      "[('fc1.weight', Tensor([256, 784], \"float32\")), ('fc1.bias', Tensor([256], \"float32\")), ('fc2.weight', Tensor([10, 256], \"float32\")), ('fc2.bias', Tensor([10], \"float32\"))]\n"
     ]
    },
    {
     "name": "stdout",
     "output_type": "stream",
     "text": [
      "[[828.9319  836.31006 842.11    820.2735  824.8049  833.589   899.34827\n",
      "  764.0125  840.08215 798.19147]]\n"
     ]
    }
   ],
   "source": [
    "@register\n",
    "def test_Module():\n",
    "    # define a custom model\n",
    "    class MyModel(nn.Module):\n",
    "        def __init__(self):\n",
    "            super(MyModel, self).__init__()\n",
    "            self.fc1 = nn.Linear(784, 256)\n",
    "            self.relu1 = nn.ReLU()\n",
    "            self.fc2 = nn.Linear(256, 10)\n",
    "\n",
    "        def forward(self, x):\n",
    "            x = self.fc1(x)\n",
    "            x = self.relu1(x)\n",
    "            x = self.fc2(x)\n",
    "            return x\n",
    "\n",
    "    # NOTE use the `export_tvm` to export the model to IRModule\n",
    "    # `spec` is the dictionary where\n",
    "    # * the keys are the method names to export\n",
    "    # * the values are dictionaries mapping parameter names to their specifications.\n",
    "    mod, param_spec = MyModel().export_tvm(\n",
    "        spec={\"forward\": {\"x\": nn.spec.Tensor((1, 784), \"float32\")}}\n",
    "    )\n",
    "    showmod(mod)\n",
    "    print(param_spec)\n",
    "    # [('fc1.weight', Tensor([256, 784], \"float32\")), ('fc1.bias', Tensor([256], \"float32\")),\n",
    "    # ('fc2.weight', Tensor([10, 256], \"float32\")), ('fc2.bias', Tensor([10], \"float32\"))]\n",
    "\n",
    "    mod = rx.get_pipeline(\"zero\")(mod)\n",
    "    target = tvm.target.Target(\"llvm\", host=\"llvm\")\n",
    "    ex = rx.build(mod, target=target)\n",
    "    vm = rx.VirtualMachine(ex, tvm.cpu())\n",
    "\n",
    "    _data = np.random.randn(1, 784).astype(\"float32\")\n",
    "    tvm_data = tvm.nd.array(_data, device=tvm.cpu())\n",
    "\n",
    "    # generate the random values for the weights and biases\n",
    "    params = [np.random.rand(*param.shape).astype(\"float32\") for _, param in param_spec]\n",
    "    params = [tvm.nd.array(param, device=tvm.cpu()) for param in params]\n",
    "    print(vm[\"forward\"](tvm_data, *params).numpy())\n",
    "\n",
    "\n",
    "testSuites[\"test_Module\"]()"
   ]
  },
  {
   "cell_type": "code",
   "execution_count": 58,
   "id": "35f9ca2b",
   "metadata": {},
   "outputs": [
    {
     "name": "stdout",
     "output_type": "stream",
     "text": [
      "{'layers.0.weight': Tensor([4, 4], \"float32\")}\n",
      "OrderedDict([('layers.0.weight', Tensor([4, 4], \"float32\"))])\n"
     ]
    }
   ],
   "source": [
    "@register\n",
    "def test_module_list():\n",
    "    class MyModule(nn.Module):\n",
    "        def __init__(self):\n",
    "            self.layers = nn.ModuleList([nn.Linear(4, 4, bias=False), nn.ReLU()])\n",
    "\n",
    "        def forward(self, x: nn.Tensor):\n",
    "            return self.layers(x)\n",
    "\n",
    "    mod = MyModule()\n",
    "    print(dict(mod.named_parameters()))\n",
    "    print(mod.state_dict())\n",
    "\n",
    "\n",
    "testSuites[\"test_module_list\"]()"
   ]
  },
  {
   "cell_type": "code",
   "execution_count": 59,
   "id": "29193dbb",
   "metadata": {},
   "outputs": [],
   "source": [
    "@register\n",
    "def test_wrap_nested():\n",
    "    pass\n",
    "    # pv0 = rx.Tuple([1, 2, 3])\n",
    "    # BUG Don't know how to use wrap_nested\n",
    "    # print(wrap_nested(pv0, \"tensor0\"))\n",
    "\n",
    "\n",
    "testSuites[\"test_wrap_nested\"]()"
   ]
  }
 ],
 "metadata": {
  "kernelspec": {
   "display_name": "tvm-build-venv",
   "language": "python",
   "name": "python3"
  },
  "language_info": {
   "codemirror_mode": {
    "name": "ipython",
    "version": 3
   },
   "file_extension": ".py",
   "mimetype": "text/x-python",
   "name": "python",
   "nbconvert_exporter": "python",
   "pygments_lexer": "ipython3",
   "version": "3.11.13"
  }
 },
 "nbformat": 4,
 "nbformat_minor": 5
}
