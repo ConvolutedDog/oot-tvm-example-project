{
 "cells": [
  {
   "cell_type": "code",
   "execution_count": 1,
   "id": "69d77618",
   "metadata": {},
   "outputs": [],
   "source": [
    "import tvm\n",
    "\n",
    "import tvm.te as te\n",
    "import tvm.relax as rx\n",
    "import tvm.tir as tir\n",
    "\n",
    "from tvm.script import ir as I\n",
    "from tvm.script import tir as T\n",
    "from tvm.script import relax as R\n",
    "\n",
    "from tvm.relax.binding_rewrite import DataflowBlockRewrite\n",
    "from tvm.relax.analysis import name_to_binding\n",
    "\n",
    "\n",
    "def showmod(mod: tvm.ir.module.IRModule):\n",
    "    mod.show(\n",
    "        black_format=True,\n",
    "        show_meta=False,\n",
    "        verbose_expr=True,\n",
    "        show_object_address=False,\n",
    "        show_all_struct_info=True,\n",
    "    )\n",
    "\n",
    "\n",
    "def createandshowmod(ops):\n",
    "    te_func = te.create_prim_func(ops).with_attrs({\"global_symbol\": \"test\"})\n",
    "    mod = tvm.IRModule({\"test\": te_func})\n",
    "    showmod(mod)"
   ]
  },
  {
   "cell_type": "code",
   "execution_count": null,
   "id": "28378f46",
   "metadata": {},
   "outputs": [
    {
     "data": {
      "text/html": [
       "<div class=\"highlight\" style=\"background: \"><pre style=\"line-height: 125%;\"><span></span>R<span style=\"color: #A2F; font-weight: bold\">.</span>Shape(ndim<span style=\"color: #A2F; font-weight: bold\">=</span><span style=\"color: #008000\">2</span>)\n",
       "</pre></div>\n"
      ],
      "text/plain": [
       "<IPython.core.display.HTML object>"
      ]
     },
     "metadata": {},
     "output_type": "display_data"
    },
    {
     "data": {
      "text/html": [
       "<div class=\"highlight\" style=\"background: \"><pre style=\"line-height: 125%;\"><span></span>R<span style=\"color: #A2F; font-weight: bold\">.</span>Object\n",
       "</pre></div>\n"
      ],
      "text/plain": [
       "<IPython.core.display.HTML object>"
      ]
     },
     "metadata": {},
     "output_type": "display_data"
    },
    {
     "data": {
      "text/html": [
       "<div class=\"highlight\" style=\"background: \"><pre style=\"line-height: 125%;\"><span></span>R<span style=\"color: #A2F; font-weight: bold\">.</span>Tensor(ndim<span style=\"color: #A2F; font-weight: bold\">=</span><span style=\"color: #008000\">2</span>, dtype<span style=\"color: #A2F; font-weight: bold\">=</span><span style=\"color: #BA2121\">&quot;float32&quot;</span>)\n",
       "</pre></div>\n"
      ],
      "text/plain": [
       "<IPython.core.display.HTML object>"
      ]
     },
     "metadata": {},
     "output_type": "display_data"
    },
    {
     "data": {
      "text/html": [
       "<div class=\"highlight\" style=\"background: \"><pre style=\"line-height: 125%;\"><span></span>R<span style=\"color: #A2F; font-weight: bold\">.</span>PackedFunc\n",
       "</pre></div>\n"
      ],
      "text/plain": [
       "<IPython.core.display.HTML object>"
      ]
     },
     "metadata": {},
     "output_type": "display_data"
    }
   ],
   "source": [
    "from tvm.relax.ty import *\n",
    "\n",
    "s0 = ShapeType(ndim=2)\n",
    "showmod(s0)\n",
    "\n",
    "objtype = ObjectType()\n",
    "showmod(objtype)\n",
    "\n",
    "dyn_tensor_type = TensorType(ndim=2, dtype=\"float32\")\n",
    "showmod(dyn_tensor_type)\n",
    "\n",
    "f0 = PackedFuncType()\n",
    "showmod(f0)"
   ]
  }
 ],
 "metadata": {
  "kernelspec": {
   "display_name": "tvm-build-venv",
   "language": "python",
   "name": "python3"
  },
  "language_info": {
   "codemirror_mode": {
    "name": "ipython",
    "version": 3
   },
   "file_extension": ".py",
   "mimetype": "text/x-python",
   "name": "python",
   "nbconvert_exporter": "python",
   "pygments_lexer": "ipython3",
   "version": "3.11.13"
  }
 },
 "nbformat": 4,
 "nbformat_minor": 5
}
