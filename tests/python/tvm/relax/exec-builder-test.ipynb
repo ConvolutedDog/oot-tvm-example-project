{
  "cells": [
    {
      "cell_type": "code",
      "execution_count": null,
      "id": "0",
      "metadata": {},
      "outputs": [],
      "source": [
        "import tvm\n",
        "import numpy as np\n",
        "\n",
        "import tvm.te as te\n",
        "import tvm.relax as rx\n",
        "import tvm.tir as tir\n",
        "\n",
        "from tvm.script import ir as I\n",
        "from tvm.script import tir as T\n",
        "from tvm.script import relax as R\n",
        "\n",
        "from tvm.relax import ExecBuilder\n",
        "\n",
        "\n",
        "def showmod(mod: tvm.ir.module.IRModule):\n",
        "    mod.show(\n",
        "        black_format=True,\n",
        "        show_meta=False,\n",
        "        verbose_expr=True,\n",
        "        show_object_address=False,\n",
        "        show_all_struct_info=True,\n",
        "    )\n",
        "\n",
        "\n",
        "def createandshowmod(ops):\n",
        "    te_func = te.create_prim_func(ops).with_attrs({\"global_symbol\": \"test\"})\n",
        "    mod = tvm.IRModule({\"test\": te_func})\n",
        "    showmod(mod)"
      ]
    },
    {
      "cell_type": "code",
      "execution_count": null,
      "id": "1",
      "metadata": {},
      "outputs": [
        {
          "name": "stdout",
          "output_type": "stream",
          "text": [
            "[ 7.1757183   7.512619   -4.311302   -4.0354824  -0.50937843  3.5278237\n",
            " -4.9293637  -6.478323   -1.2307802   2.965952  ]\n"
          ]
        }
      ],
      "source": [
        "@tvm.script.ir_module\n",
        "class Model:\n",
        "    @R.function\n",
        "    def main(x: R.Tensor([1, 3, 224, 224], \"float32\")):\n",
        "        weight = R.const(np.random.randn(16, 3, 3, 3), \"float32\")\n",
        "        conv = tvm.relax.op.nn.conv2d(x, weight)\n",
        "        return conv\n",
        "\n",
        "# Build the model\n",
        "target = tvm.target.Target(\"llvm\")\n",
        "ex = tvm.relax.build(Model, target)\n",
        "\n",
        "# Create vritual machine\n",
        "dev = tvm.device(str(target), 0)\n",
        "vm = tvm.relax.VirtualMachine(ex, dev)\n",
        "\n",
        "# Prepare input data and transform to tvm.nd.array\n",
        "input_data = np.random.randn(1, 3, 224, 224).astype(\"float32\")\n",
        "input_tvm = tvm.nd.array(input_data, dev)\n",
        "\n",
        "# Execute\n",
        "output = vm[\"main\"](input_tvm)\n",
        "print(output.numpy()[0][0][0][0:10])"
      ]
    },
    {
      "cell_type": "code",
      "execution_count": null,
      "id": "2",
      "metadata": {},
      "outputs": [
        {
          "name": "stdout",
          "output_type": "stream",
          "text": [
            "[3.]\n"
          ]
        }
      ],
      "source": [
        "eb = ExecBuilder()\n",
        "eb.declare_function(\"test.vm.add\", kind=tvm.relax.exec_builder.VMFuncKind.VM_FUNC)\n",
        "\n",
        "# Register custom_add function\n",
        "if not tvm.get_global_func(\"custom_add\", allow_missing=True):\n",
        "  @tvm.register_func(\"custom_add\")\n",
        "  def custom_add(a: tvm.nd.array, b: tvm.nd.array) -> tvm.nd.array:\n",
        "      np_a = a.numpy()\n",
        "      np_b = b.numpy()\n",
        "      return tvm.nd.array(np_a + np_b)\n",
        "\n",
        "with eb.function(\"test.vm.add\", num_inputs=2):\n",
        "    eb.emit_call(\"custom_add\", args=[eb.r(0), eb.r(1)], dst=eb.r(2))\n",
        "    eb.emit_ret(eb.r(2))\n",
        "\n",
        "with eb.function(\"main\", num_inputs=2):\n",
        "    eb.emit_call(\"test.vm.add\", args=[eb.r(0), eb.r(1)], dst=eb.r(2))\n",
        "    eb.emit_ret(eb.r(2))\n",
        "\n",
        "# Get execution module\n",
        "ex = eb.get()\n",
        "\n",
        "# Create virtual machine\n",
        "dev = tvm.cpu()\n",
        "vm = tvm.relax.VirtualMachine(ex, dev)\n",
        "\n",
        "# Prepare input data and transform to tvm.nd.array\n",
        "input1 = tvm.nd.array(np.array([1.0], dtype=\"float32\"))\n",
        "input2 = tvm.nd.array(np.array([2.0], dtype=\"float32\"))\n",
        "\n",
        "# Execute\n",
        "result = vm[\"main\"](input1, input2)\n",
        "print(result.numpy())"
      ]
    }
  ],
  "metadata": {
    "kernelspec": {
      "display_name": "",
      "language": "python",
      "name": "python3"
    },
    "language_info": {
      "codemirror_mode": {
        "name": "ipython",
        "version": 3
      },
      "file_extension": ".py",
      "mimetype": "text/x-python",
      "name": "python",
      "nbconvert_exporter": "python",
      "pygments_lexer": "ipython3",
      "version": ""
    }
  },
  "nbformat": 4,
  "nbformat_minor": 5
}