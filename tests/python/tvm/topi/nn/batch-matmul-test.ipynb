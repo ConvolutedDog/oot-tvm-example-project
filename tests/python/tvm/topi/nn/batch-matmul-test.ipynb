{
  "cells": [
    {
      "cell_type": "code",
      "execution_count": null,
      "id": "0",
      "metadata": {},
      "outputs": [],
      "source": [
        "import tvm\n",
        "\n",
        "import tvm.te as te\n",
        "\n",
        "from tvm.script import ir as I\n",
        "from tvm.script import tir as T\n",
        "from tvm.script import relax as R\n",
        "\n",
        "\n",
        "def showmod(mod: tvm.ir.module.IRModule):\n",
        "    mod.show(\n",
        "        black_format=True,\n",
        "        show_meta=False,\n",
        "        verbose_expr=True,\n",
        "        show_object_address=False,\n",
        "        show_all_struct_info=True,\n",
        "    )\n",
        "\n",
        "\n",
        "def createandshowmod(ops):\n",
        "    te_func = te.create_prim_func(ops).with_attrs({\"global_symbol\": \"test\"})\n",
        "    mod = tvm.IRModule({\"test\": te_func})\n",
        "    showmod(mod)\n",
        "\n",
        "\n",
        "from tvm.topi.nn.batch_matmul import *"
      ]
    },
    {
      "cell_type": "markdown",
      "id": "1",
      "metadata": {},
      "source": [
        "#### batch_matmul"
      ]
    },
    {
      "cell_type": "code",
      "execution_count": null,
      "id": "2",
      "metadata": {},
      "outputs": [
        {
          "data": {
            "text/html": [
              "<div class=\"highlight\" style=\"background: \"><pre style=\"line-height: 125%;\"><span></span><span style=\"color: #007979; font-style: italic\"># from tvm.script import ir as I</span>\n",
              "<span style=\"color: #007979; font-style: italic\"># from tvm.script import tir as T</span>\n",
              "\n",
              "\n",
              "<span style=\"color: #A2F\">@I</span><span style=\"color: #A2F; font-weight: bold\">.</span>ir_module\n",
              "<span style=\"color: #008000; font-weight: bold\">class</span> <span style=\"color: #00F; font-weight: bold\">Module</span>:\n",
              "    <span style=\"color: #A2F\">@T</span><span style=\"color: #A2F; font-weight: bold\">.</span>prim_func\n",
              "    <span style=\"color: #008000; font-weight: bold\">def</span> <span style=\"color: #00F\">test</span>(\n",
              "        A: T<span style=\"color: #A2F; font-weight: bold\">.</span>Buffer((<span style=\"color: #008000\">4</span>, <span style=\"color: #008000\">256</span>, <span style=\"color: #008000\">128</span>), <span style=\"color: #BA2121\">&quot;float32&quot;</span>),\n",
              "        B: T<span style=\"color: #A2F; font-weight: bold\">.</span>Buffer((<span style=\"color: #008000\">4</span>, <span style=\"color: #008000\">512</span>, <span style=\"color: #008000\">256</span>), <span style=\"color: #BA2121\">&quot;float32&quot;</span>),\n",
              "        T_batch_matmul_TT: T<span style=\"color: #A2F; font-weight: bold\">.</span>Buffer((<span style=\"color: #008000\">4</span>, <span style=\"color: #008000\">128</span>, <span style=\"color: #008000\">512</span>), <span style=\"color: #BA2121\">&quot;float32&quot;</span>),\n",
              "    ):\n",
              "        T<span style=\"color: #A2F; font-weight: bold\">.</span>func_attr({<span style=\"color: #BA2121\">&quot;layout_free_buffers&quot;</span>: [<span style=\"color: #008000\">1</span>], <span style=\"color: #BA2121\">&quot;tir.noalias&quot;</span>: T<span style=\"color: #A2F; font-weight: bold\">.</span>bool(<span style=\"color: #008000; font-weight: bold\">True</span>)})\n",
              "        <span style=\"color: #007979; font-style: italic\"># with T.block(&quot;root&quot;):</span>\n",
              "        <span style=\"color: #008000; font-weight: bold\">for</span> b, i, j, k <span style=\"color: #008000; font-weight: bold\">in</span> T<span style=\"color: #A2F; font-weight: bold\">.</span>grid(<span style=\"color: #008000\">4</span>, <span style=\"color: #008000\">128</span>, <span style=\"color: #008000\">512</span>, <span style=\"color: #008000\">256</span>):\n",
              "            <span style=\"color: #008000; font-weight: bold\">with</span> T<span style=\"color: #A2F; font-weight: bold\">.</span>block(<span style=\"color: #BA2121\">&quot;T_batch_matmul_TT&quot;</span>):\n",
              "                v_b, v_i, v_j, v_k <span style=\"color: #A2F; font-weight: bold\">=</span> T<span style=\"color: #A2F; font-weight: bold\">.</span>axis<span style=\"color: #A2F; font-weight: bold\">.</span>remap(<span style=\"color: #BA2121\">&quot;SSSR&quot;</span>, [b, i, j, k])\n",
              "                T<span style=\"color: #A2F; font-weight: bold\">.</span>reads(A[v_b, v_k, v_i], B[v_b, v_j, v_k])\n",
              "                T<span style=\"color: #A2F; font-weight: bold\">.</span>writes(T_batch_matmul_TT[v_b, v_i, v_j])\n",
              "                <span style=\"color: #008000; font-weight: bold\">with</span> T<span style=\"color: #A2F; font-weight: bold\">.</span>init():\n",
              "                    T_batch_matmul_TT[v_b, v_i, v_j] <span style=\"color: #A2F; font-weight: bold\">=</span> T<span style=\"color: #A2F; font-weight: bold\">.</span>float32(<span style=\"color: #008000\">0.0</span>)\n",
              "                T_batch_matmul_TT[v_b, v_i, v_j] <span style=\"color: #A2F; font-weight: bold\">=</span> (\n",
              "                    T_batch_matmul_TT[v_b, v_i, v_j]\n",
              "                    <span style=\"color: #A2F; font-weight: bold\">+</span> A[v_b, v_k, v_i] <span style=\"color: #A2F; font-weight: bold\">*</span> B[v_b, v_j, v_k]\n",
              "                )\n",
              "</pre></div>\n"
            ],
            "text/plain": [
              "<IPython.core.display.HTML object>"
            ]
          },
          "metadata": {},
          "output_type": "display_data"
        }
      ],
      "source": [
        "batch = 4\n",
        "tensor_a: tvm.te.Tensor = tvm.te.placeholder(\n",
        "    shape=(batch, 256, 128), dtype=\"float32\", name=\"A\"\n",
        ")\n",
        "tensor_b: tvm.te.Tensor = tvm.te.placeholder(\n",
        "    shape=(batch, 512, 256), dtype=\"float32\", name=\"B\"\n",
        ")\n",
        "oshape = (batch, 128, 512)\n",
        "out_dtype = \"float32\"\n",
        "transpose_a = True\n",
        "transpose_b = True\n",
        "output = batch_matmul(\n",
        "    tensor_a=tensor_a,\n",
        "    tensor_b=tensor_b,\n",
        "    oshape=oshape,\n",
        "    out_dtype=out_dtype,\n",
        "    transpose_a=transpose_a,\n",
        "    transpose_b=transpose_b,\n",
        ")\n",
        "createandshowmod([tensor_a, tensor_b, output])"
      ]
    }
  ],
  "metadata": {
    "kernelspec": {
      "display_name": "",
      "language": "python",
      "name": "python3"
    },
    "language_info": {
      "codemirror_mode": {
        "name": "ipython",
        "version": 3
      },
      "file_extension": ".py",
      "mimetype": "text/x-python",
      "name": "python",
      "nbconvert_exporter": "python",
      "pygments_lexer": "ipython3",
      "version": ""
    }
  },
  "nbformat": 4,
  "nbformat_minor": 5
}