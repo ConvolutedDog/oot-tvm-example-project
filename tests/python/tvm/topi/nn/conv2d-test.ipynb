{
  "cells": [
    {
      "cell_type": "code",
      "execution_count": null,
      "id": "0",
      "metadata": {},
      "outputs": [],
      "source": [
        "import tvm\n",
        "\n",
        "import tvm.te as te\n",
        "\n",
        "from tvm.script import ir as I\n",
        "from tvm.script import tir as T\n",
        "from tvm.script import relax as R\n",
        "\n",
        "\n",
        "def showmod(mod: tvm.ir.module.IRModule):\n",
        "    mod.show(\n",
        "        black_format=True,\n",
        "        show_meta=False,\n",
        "        verbose_expr=True,\n",
        "        show_object_address=False,\n",
        "        show_all_struct_info=True,\n",
        "    )\n",
        "\n",
        "\n",
        "def createandshowmod(ops):\n",
        "    te_func = te.create_prim_func(ops).with_attrs({\"global_symbol\": \"test\"})\n",
        "    mod = tvm.IRModule({\"test\": te_func})\n",
        "    showmod(mod)\n",
        "\n",
        "\n",
        "from tvm.topi.nn.conv2d import *"
      ]
    },
    {
      "cell_type": "code",
      "execution_count": null,
      "id": "1",
      "metadata": {},
      "outputs": [
        {
          "data": {
            "text/html": [
              "<div class=\"highlight\" style=\"background: \"><pre style=\"line-height: 125%;\"><span></span><span style=\"color: #007979; font-style: italic\"># from tvm.script import ir as I</span>\n",
              "<span style=\"color: #007979; font-style: italic\"># from tvm.script import tir as T</span>\n",
              "\n",
              "\n",
              "<span style=\"color: #A2F\">@I</span><span style=\"color: #A2F; font-weight: bold\">.</span>ir_module\n",
              "<span style=\"color: #008000; font-weight: bold\">class</span> <span style=\"color: #00F; font-weight: bold\">Module</span>:\n",
              "    <span style=\"color: #A2F\">@T</span><span style=\"color: #A2F; font-weight: bold\">.</span>prim_func\n",
              "    <span style=\"color: #008000; font-weight: bold\">def</span> <span style=\"color: #00F\">test</span>(\n",
              "        weight: T<span style=\"color: #A2F; font-weight: bold\">.</span>Buffer((<span style=\"color: #008000\">64</span>, <span style=\"color: #008000\">3</span>, <span style=\"color: #008000\">4</span>, <span style=\"color: #008000\">4</span>), <span style=\"color: #BA2121\">&quot;float32&quot;</span>),\n",
              "        data: T<span style=\"color: #A2F; font-weight: bold\">.</span>Buffer((<span style=\"color: #008000\">1</span>, <span style=\"color: #008000\">3</span>, <span style=\"color: #008000\">224</span>, <span style=\"color: #008000\">224</span>), <span style=\"color: #BA2121\">&quot;float32&quot;</span>),\n",
              "        conv2d_nchw: T<span style=\"color: #A2F; font-weight: bold\">.</span>Buffer((<span style=\"color: #008000\">1</span>, <span style=\"color: #008000\">64</span>, <span style=\"color: #008000\">75</span>, <span style=\"color: #008000\">75</span>), <span style=\"color: #BA2121\">&quot;float32&quot;</span>),\n",
              "    ):\n",
              "        T<span style=\"color: #A2F; font-weight: bold\">.</span>func_attr({<span style=\"color: #BA2121\">&quot;tir.noalias&quot;</span>: T<span style=\"color: #A2F; font-weight: bold\">.</span>bool(<span style=\"color: #008000; font-weight: bold\">True</span>)})\n",
              "        <span style=\"color: #007979; font-style: italic\"># with T.block(&quot;root&quot;):</span>\n",
              "        pad_temp <span style=\"color: #A2F; font-weight: bold\">=</span> T<span style=\"color: #A2F; font-weight: bold\">.</span>alloc_buffer((<span style=\"color: #008000\">1</span>, <span style=\"color: #008000\">3</span>, <span style=\"color: #008000\">226</span>, <span style=\"color: #008000\">226</span>))\n",
              "        <span style=\"color: #008000; font-weight: bold\">for</span> i0, i1, i2, i3 <span style=\"color: #008000; font-weight: bold\">in</span> T<span style=\"color: #A2F; font-weight: bold\">.</span>grid(<span style=\"color: #008000\">1</span>, <span style=\"color: #008000\">3</span>, <span style=\"color: #008000\">226</span>, <span style=\"color: #008000\">226</span>):\n",
              "            <span style=\"color: #008000; font-weight: bold\">with</span> T<span style=\"color: #A2F; font-weight: bold\">.</span>block(<span style=\"color: #BA2121\">&quot;pad_temp&quot;</span>):\n",
              "                v_i0, v_i1, v_i2, v_i3 <span style=\"color: #A2F; font-weight: bold\">=</span> T<span style=\"color: #A2F; font-weight: bold\">.</span>axis<span style=\"color: #A2F; font-weight: bold\">.</span>remap(<span style=\"color: #BA2121\">&quot;SSSS&quot;</span>, [i0, i1, i2, i3])\n",
              "                T<span style=\"color: #A2F; font-weight: bold\">.</span>reads(data[v_i0, v_i1, v_i2 <span style=\"color: #A2F; font-weight: bold\">-</span> <span style=\"color: #008000\">1</span>, v_i3 <span style=\"color: #A2F; font-weight: bold\">-</span> <span style=\"color: #008000\">1</span>])\n",
              "                T<span style=\"color: #A2F; font-weight: bold\">.</span>writes(pad_temp[v_i0, v_i1, v_i2, v_i3])\n",
              "                pad_temp[v_i0, v_i1, v_i2, v_i3] <span style=\"color: #A2F; font-weight: bold\">=</span> T<span style=\"color: #A2F; font-weight: bold\">.</span>if_then_else(\n",
              "                    <span style=\"color: #008000\">1</span> <span style=\"color: #A2F; font-weight: bold\">&lt;=</span> v_i2 <span style=\"color: #008000; font-weight: bold\">and</span> v_i2 <span style=\"color: #A2F; font-weight: bold\">&lt;</span> <span style=\"color: #008000\">225</span> <span style=\"color: #008000; font-weight: bold\">and</span> <span style=\"color: #008000\">1</span> <span style=\"color: #A2F; font-weight: bold\">&lt;=</span> v_i3 <span style=\"color: #008000; font-weight: bold\">and</span> v_i3 <span style=\"color: #A2F; font-weight: bold\">&lt;</span> <span style=\"color: #008000\">225</span>,\n",
              "                    data[v_i0, v_i1, v_i2 <span style=\"color: #A2F; font-weight: bold\">-</span> <span style=\"color: #008000\">1</span>, v_i3 <span style=\"color: #A2F; font-weight: bold\">-</span> <span style=\"color: #008000\">1</span>],\n",
              "                    T<span style=\"color: #A2F; font-weight: bold\">.</span>float32(<span style=\"color: #008000\">0.0</span>),\n",
              "                )\n",
              "        <span style=\"color: #008000; font-weight: bold\">for</span> nn, ff, yy, xx, rc, ry, rx <span style=\"color: #008000; font-weight: bold\">in</span> T<span style=\"color: #A2F; font-weight: bold\">.</span>grid(<span style=\"color: #008000\">1</span>, <span style=\"color: #008000\">64</span>, <span style=\"color: #008000\">75</span>, <span style=\"color: #008000\">75</span>, <span style=\"color: #008000\">3</span>, <span style=\"color: #008000\">4</span>, <span style=\"color: #008000\">4</span>):\n",
              "            <span style=\"color: #008000; font-weight: bold\">with</span> T<span style=\"color: #A2F; font-weight: bold\">.</span>block(<span style=\"color: #BA2121\">&quot;conv2d_nchw&quot;</span>):\n",
              "                v_nn, v_ff, v_yy, v_xx, v_rc, v_ry, v_rx <span style=\"color: #A2F; font-weight: bold\">=</span> T<span style=\"color: #A2F; font-weight: bold\">.</span>axis<span style=\"color: #A2F; font-weight: bold\">.</span>remap(\n",
              "                    <span style=\"color: #BA2121\">&quot;SSSSRRR&quot;</span>, [nn, ff, yy, xx, rc, ry, rx]\n",
              "                )\n",
              "                T<span style=\"color: #A2F; font-weight: bold\">.</span>reads(\n",
              "                    pad_temp[v_nn, v_rc, v_yy <span style=\"color: #A2F; font-weight: bold\">*</span> <span style=\"color: #008000\">3</span> <span style=\"color: #A2F; font-weight: bold\">+</span> v_ry, v_xx <span style=\"color: #A2F; font-weight: bold\">*</span> <span style=\"color: #008000\">3</span> <span style=\"color: #A2F; font-weight: bold\">+</span> v_rx],\n",
              "                    weight[v_ff, v_rc, v_ry, v_rx],\n",
              "                )\n",
              "                T<span style=\"color: #A2F; font-weight: bold\">.</span>writes(conv2d_nchw[v_nn, v_ff, v_yy, v_xx])\n",
              "                <span style=\"color: #008000; font-weight: bold\">with</span> T<span style=\"color: #A2F; font-weight: bold\">.</span>init():\n",
              "                    conv2d_nchw[v_nn, v_ff, v_yy, v_xx] <span style=\"color: #A2F; font-weight: bold\">=</span> T<span style=\"color: #A2F; font-weight: bold\">.</span>float32(<span style=\"color: #008000\">0.0</span>)\n",
              "                conv2d_nchw[v_nn, v_ff, v_yy, v_xx] <span style=\"color: #A2F; font-weight: bold\">=</span> (\n",
              "                    conv2d_nchw[v_nn, v_ff, v_yy, v_xx]\n",
              "                    <span style=\"color: #A2F; font-weight: bold\">+</span> pad_temp[v_nn, v_rc, v_yy <span style=\"color: #A2F; font-weight: bold\">*</span> <span style=\"color: #008000\">3</span> <span style=\"color: #A2F; font-weight: bold\">+</span> v_ry, v_xx <span style=\"color: #A2F; font-weight: bold\">*</span> <span style=\"color: #008000\">3</span> <span style=\"color: #A2F; font-weight: bold\">+</span> v_rx]\n",
              "                    <span style=\"color: #A2F; font-weight: bold\">*</span> weight[v_ff, v_rc, v_ry, v_rx]\n",
              "                )\n",
              "</pre></div>\n"
            ],
            "text/plain": [
              "<IPython.core.display.HTML object>"
            ]
          },
          "metadata": {},
          "output_type": "display_data"
        }
      ],
      "source": [
        "weight: te.Tensor = te.placeholder(shape=(64, 3, 4, 4), dtype=\"float32\", name=\"weight\")\n",
        "data: te.Tensor = te.placeholder(shape=(1, 3, 224, 224), dtype=\"float32\", name=\"data\")\n",
        "\n",
        "conv2d_output = conv2d(\n",
        "    data,\n",
        "    weight,\n",
        "    strides=(3, 3),\n",
        "    padding=(1, 1),\n",
        "    dilation=(1, 1),\n",
        "    data_layout=\"NCHW\",\n",
        "    kernel_layout=\"OIHW\",\n",
        "    out_dtype=\"float32\",\n",
        ")\n",
        "\n",
        "createandshowmod([weight, data, conv2d_output])"
      ]
    },
    {
      "cell_type": "markdown",
      "id": "2",
      "metadata": {},
      "source": [
        "# TODO"
      ]
    }
  ],
  "metadata": {
    "kernelspec": {
      "display_name": "",
      "language": "python",
      "name": "python3"
    },
    "language_info": {
      "codemirror_mode": {
        "name": "ipython",
        "version": 3
      },
      "file_extension": ".py",
      "mimetype": "text/x-python",
      "name": "python",
      "nbconvert_exporter": "python",
      "pygments_lexer": "ipython3",
      "version": ""
    }
  },
  "nbformat": 4,
  "nbformat_minor": 5
}