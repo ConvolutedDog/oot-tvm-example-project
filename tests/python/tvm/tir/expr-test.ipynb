{
  "cells": [
    {
      "cell_type": "code",
      "execution_count": null,
      "id": "0",
      "metadata": {},
      "outputs": [],
      "source": [
        "import tvm\n",
        "\n",
        "import tvm.te as te\n",
        "\n",
        "from tvm.script import ir as I\n",
        "from tvm.script import tir as T\n",
        "from tvm.script import relax as R\n",
        "\n",
        "\n",
        "def showmod(mod: tvm.ir.module.IRModule):\n",
        "    mod.show(\n",
        "        black_format=True,\n",
        "        show_meta=False,\n",
        "        verbose_expr=True,\n",
        "        show_object_address=False,\n",
        "        show_all_struct_info=True,\n",
        "    )\n",
        "\n",
        "\n",
        "def createandshowmod(ops):\n",
        "    te_func = te.create_prim_func(ops).with_attrs({\"global_symbol\": \"test\"})\n",
        "    mod = tvm.IRModule({\"test\": te_func})\n",
        "    showmod(mod)\n",
        "\n",
        "\n",
        "from tvm.tir.expr import *"
      ]
    },
    {
      "cell_type": "markdown",
      "id": "1",
      "metadata": {},
      "source": [
        "#### convert"
      ]
    },
    {
      "cell_type": "code",
      "execution_count": null,
      "id": "2",
      "metadata": {},
      "outputs": [
        {
          "name": "stdout",
          "output_type": "stream",
          "text": [
            "T.int64(1)\n",
            "<class 'tvm.tir.expr.IntImm'>\n",
            "T.LE(T.int64(1), T.int64(2))\n",
            "<class 'tvm.tir.expr.LE'>\n"
          ]
        }
      ],
      "source": [
        "# Convert an object to a PrimExpr.\n",
        "# All conversions to a PrimExpr are performed as part of the FFI,\n",
        "# when calling a function that accepts a PrimExpr as an argument.  If\n",
        "# a function must normalize to a PrimExpr (e.g. before accessing the\n",
        "# `expr.dtype` field), this function allows the FFI conversions to be\n",
        "# explicitly invoked.\n",
        "x: tvm.tir.IntImm = tvm.tir.IntImm(dtype=\"int64\", value=1)\n",
        "print(tvm.tir.convert(x))\n",
        "print(type(tvm.tir.convert(x)))\n",
        "\n",
        "y: tvm.tir.LE = tvm.tir.LE(x, tvm.tir.IntImm(dtype=\"int64\", value=2))\n",
        "print(tvm.tir.convert(y))\n",
        "print(type(tvm.tir.convert(y)))"
      ]
    },
    {
      "cell_type": "markdown",
      "id": "3",
      "metadata": {},
      "source": [
        "#### _dtype_is_int and _dtype_is_float"
      ]
    },
    {
      "cell_type": "code",
      "execution_count": null,
      "id": "4",
      "metadata": {},
      "outputs": [
        {
          "name": "stdout",
          "output_type": "stream",
          "text": [
            "True\n",
            "False\n",
            "False\n",
            "True\n"
          ]
        }
      ],
      "source": [
        "from tvm.tir.expr import _dtype_is_int, _dtype_is_float\n",
        "\n",
        "x: tvm.tir.IntImm = tvm.tir.IntImm(dtype=\"int64\", value=1)\n",
        "print(_dtype_is_int(x))\n",
        "print(_dtype_is_float(x))\n",
        "\n",
        "y: tvm.tir.FloatImm = tvm.tir.FloatImm(dtype=\"float32\", value=1.0)\n",
        "print(_dtype_is_int(y))\n",
        "print(_dtype_is_float(y))"
      ]
    },
    {
      "cell_type": "markdown",
      "id": "5",
      "metadata": {},
      "source": []
    },
    {
      "cell_type": "code",
      "execution_count": null,
      "id": "6",
      "metadata": {},
      "outputs": [],
      "source": [
        "# TODO"
      ]
    }
  ],
  "metadata": {
    "kernelspec": {
      "display_name": "",
      "language": "python",
      "name": "python3"
    },
    "language_info": {
      "codemirror_mode": {
        "name": "ipython",
        "version": 3
      },
      "file_extension": ".py",
      "mimetype": "text/x-python",
      "name": "python",
      "nbconvert_exporter": "python",
      "pygments_lexer": "ipython3",
      "version": ""
    }
  },
  "nbformat": 4,
  "nbformat_minor": 5
}