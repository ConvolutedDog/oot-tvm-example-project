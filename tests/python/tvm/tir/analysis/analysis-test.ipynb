{
  "cells": [
    {
      "cell_type": "code",
      "execution_count": null,
      "id": "0",
      "metadata": {},
      "outputs": [],
      "source": [
        "import tvm\n",
        "\n",
        "import tvm.te as te\n",
        "\n",
        "from tvm.script import ir as I\n",
        "from tvm.script import tir as T\n",
        "from tvm.script import relax as R\n",
        "\n",
        "\n",
        "def showmod(mod: tvm.ir.module.IRModule):\n",
        "    mod.show(\n",
        "        black_format=True,\n",
        "        show_meta=False,\n",
        "        verbose_expr=True,\n",
        "        show_object_address=False,\n",
        "        show_all_struct_info=True,\n",
        "    )\n",
        "\n",
        "\n",
        "def createandshowmod(ops):\n",
        "    te_func = te.create_prim_func(ops).with_attrs({\"global_symbol\": \"test\"})\n",
        "    mod = tvm.IRModule({\"test\": te_func})\n",
        "    showmod(mod)\n",
        "    return mod\n",
        "\n",
        "\n",
        "from tvm.tir.analysis import *"
      ]
    },
    {
      "cell_type": "markdown",
      "id": "1",
      "metadata": {},
      "source": [
        "#### expr_deep_equal"
      ]
    },
    {
      "cell_type": "code",
      "execution_count": null,
      "id": "2",
      "metadata": {},
      "outputs": [],
      "source": [
        "\"\"\"Deeply compare two nested expressions.\n",
        "\n",
        "Parameters\n",
        "----------\n",
        "lhs : PrimExpr\n",
        "    The left operand.\n",
        "\n",
        "rhs : PrimExpr\n",
        "    The right operand.\n",
        "\n",
        "Returns\n",
        "-------\n",
        "result : bool\n",
        "    The comparison result\n",
        "\n",
        "Note\n",
        "----\n",
        "\n",
        "This function does not remap variable bindings, it will not\n",
        "return true for (let x = 1 in x + 1) vs (let y = 1 in y + 1), unless x.same_as(y).\n",
        "Use py:func:`tvm.ir.structural_equal` to handle structural variable remapping.\n",
        "\n",
        "Due to the restriction of not remapping variables, this function can run\n",
        "faster than StructuralEqual and can be used as a utility function during arithmetic\n",
        "simplifications.\n",
        "\n",
        "Always consider py:func:`tvm.ir.structural_equal` first, which handles\n",
        "the structural remapping.\n",
        "\n",
        "See Also\n",
        "--------\n",
        "tvm.ir.structural_equal\n",
        "\"\"\"\n"
      ]
    }
  ],
  "metadata": {
    "kernelspec": {
      "display_name": "",
      "language": "python",
      "name": "python3"
    },
    "language_info": {
      "codemirror_mode": {
        "name": "ipython",
        "version": 3
      },
      "file_extension": ".py",
      "mimetype": "text/x-python",
      "name": "python",
      "nbconvert_exporter": "python",
      "pygments_lexer": "ipython3",
      "version": ""
    }
  },
  "nbformat": 4,
  "nbformat_minor": 5
}