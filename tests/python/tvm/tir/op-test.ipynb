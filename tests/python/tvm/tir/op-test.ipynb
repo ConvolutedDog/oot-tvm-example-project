{
  "cells": [
    {
      "cell_type": "code",
      "execution_count": null,
      "id": "0",
      "metadata": {},
      "outputs": [],
      "source": [
        "import tvm\n",
        "\n",
        "import tvm.te as te\n",
        "\n",
        "from tvm.script import ir as I\n",
        "from tvm.script import tir as T\n",
        "from tvm.script import relax as R\n",
        "\n",
        "\n",
        "def showmod(mod: tvm.ir.module.IRModule):\n",
        "    mod.show(\n",
        "        black_format=True,\n",
        "        show_meta=False,\n",
        "        verbose_expr=True,\n",
        "        show_object_address=False,\n",
        "        show_all_struct_info=True,\n",
        "    )\n",
        "\n",
        "\n",
        "def createandshowmod(ops):\n",
        "    te_func = te.create_prim_func(ops).with_attrs({\"global_symbol\": \"test\"})\n",
        "    mod = tvm.IRModule({\"test\": te_func})\n",
        "    showmod(mod)\n",
        "\n",
        "\n",
        "from tvm.tir.op import *"
      ]
    },
    {
      "cell_type": "markdown",
      "id": "1",
      "metadata": {},
      "source": [
        "#### _pack_buffer"
      ]
    },
    {
      "cell_type": "code",
      "execution_count": null,
      "id": "2",
      "metadata": {},
      "outputs": [
        {
          "data": {
            "text/html": [
              "<div class=\"highlight\" style=\"background: \"><pre style=\"line-height: 125%;\"><span></span>buffer <span style=\"color: #A2F; font-weight: bold\">=</span> T<span style=\"color: #A2F; font-weight: bold\">.</span>handle(<span style=\"color: #BA2121\">&quot;float32&quot;</span>)\n",
              "T<span style=\"color: #A2F; font-weight: bold\">.</span>tvm_stack_make_array(buffer, T<span style=\"color: #A2F; font-weight: bold\">.</span>tvm_stack_make_shape(<span style=\"color: #008000\">10</span>, <span style=\"color: #008000\">10</span>), <span style=\"color: #008000\">0</span>, <span style=\"color: #008000\">2</span>, T<span style=\"color: #A2F; font-weight: bold\">.</span>float32(<span style=\"color: #008000\">0.0</span>), <span style=\"color: #008000\">0</span>)\n",
              "</pre></div>\n"
            ],
            "text/plain": [
              "<IPython.core.display.HTML object>"
            ]
          },
          "metadata": {},
          "output_type": "display_data"
        }
      ],
      "source": [
        "\"\"\"Build intrinsics that packs the buffer.\"\"\"\n",
        "\n",
        "from tvm.tir.op import _pack_buffer\n",
        "\n",
        "buf = tvm.tir.decl_buffer(shape=(10, 10), dtype=\"float32\")\n",
        "showmod(_pack_buffer(buf))"
      ]
    },
    {
      "cell_type": "markdown",
      "id": "3",
      "metadata": {},
      "source": [
        "#### call_packed_lowered"
      ]
    },
    {
      "cell_type": "code",
      "execution_count": null,
      "id": "4",
      "metadata": {},
      "outputs": [
        {
          "data": {
            "text/html": [
              "<div class=\"highlight\" style=\"background: \"><pre style=\"line-height: 125%;\"><span></span>buffer <span style=\"color: #A2F; font-weight: bold\">=</span> T<span style=\"color: #A2F; font-weight: bold\">.</span>handle(<span style=\"color: #BA2121\">&quot;float32&quot;</span>)\n",
              "T<span style=\"color: #A2F; font-weight: bold\">.</span>call_packed_lowered(\n",
              "    T<span style=\"color: #A2F; font-weight: bold\">.</span>tvm_stack_make_array(\n",
              "        buffer, T<span style=\"color: #A2F; font-weight: bold\">.</span>tvm_stack_make_shape(<span style=\"color: #008000\">10</span>, <span style=\"color: #008000\">10</span>), <span style=\"color: #008000\">0</span>, <span style=\"color: #008000\">2</span>, T<span style=\"color: #A2F; font-weight: bold\">.</span>float32(<span style=\"color: #008000\">0.0</span>), <span style=\"color: #008000\">0</span>\n",
              "    ),\n",
              "    <span style=\"color: #008000\">100</span>,\n",
              "    T<span style=\"color: #A2F; font-weight: bold\">.</span>float32(<span style=\"color: #008000\">100.0</span>),\n",
              ")\n",
              "</pre></div>\n"
            ],
            "text/plain": [
              "<IPython.core.display.HTML object>"
            ]
          },
          "metadata": {},
          "output_type": "display_data"
        }
      ],
      "source": [
        "\"\"\"Lowered version of call packed.\n",
        "The argument to packed function can be Expr or Buffer.\n",
        "The argument is the corresponding POD type when Expr is presented.\n",
        "When the argument is Buffer, the corresponding PackedFunc\n",
        "will recieve an TVMArrayHandle whose content is valid during the callback period.\n",
        "If the PackedFunc is a python callback, then the corresponding argument is NDArray.\n",
        "\n",
        "Parameters\n",
        "----------\n",
        "args : list of Expr or Buffer.\n",
        "    Positional arguments.\n",
        "\n",
        "span : Optional[Span]\n",
        "    The location of this operator in the source code.\n",
        "\n",
        "Returns\n",
        "-------\n",
        "call : PrimExpr\n",
        "    The call expression.\n",
        "\n",
        "See Also\n",
        "--------\n",
        "te.extern : Create tensor with extern function call.\n",
        "\"\"\"\n",
        "\n",
        "x: tvm.tir.PrimExpr = tvm.tir.IntImm(\"int32\", 100)\n",
        "y: tvm.tir.PrimExpr = tvm.tir.FloatImm(\"float32\", 100)\n",
        "showmod(call_packed_lowered(buf, x, y))"
      ]
    },
    {
      "cell_type": "markdown",
      "id": "5",
      "metadata": {},
      "source": [
        "#### call_cpacked_lowered"
      ]
    },
    {
      "cell_type": "code",
      "execution_count": null,
      "id": "6",
      "metadata": {},
      "outputs": [
        {
          "data": {
            "text/html": [
              "<div class=\"highlight\" style=\"background: \"><pre style=\"line-height: 125%;\"><span></span>buffer <span style=\"color: #A2F; font-weight: bold\">=</span> T<span style=\"color: #A2F; font-weight: bold\">.</span>handle(<span style=\"color: #BA2121\">&quot;float32&quot;</span>)\n",
              "T<span style=\"color: #A2F; font-weight: bold\">.</span>call_cpacked_lowered(\n",
              "    T<span style=\"color: #A2F; font-weight: bold\">.</span>tvm_stack_make_array(\n",
              "        buffer, T<span style=\"color: #A2F; font-weight: bold\">.</span>tvm_stack_make_shape(<span style=\"color: #008000\">10</span>, <span style=\"color: #008000\">10</span>), <span style=\"color: #008000\">0</span>, <span style=\"color: #008000\">2</span>, T<span style=\"color: #A2F; font-weight: bold\">.</span>float32(<span style=\"color: #008000\">0.0</span>), <span style=\"color: #008000\">0</span>\n",
              "    ),\n",
              "    <span style=\"color: #008000\">100</span>,\n",
              "    T<span style=\"color: #A2F; font-weight: bold\">.</span>float32(<span style=\"color: #008000\">100.0</span>),\n",
              ")\n",
              "</pre></div>\n"
            ],
            "text/plain": [
              "<IPython.core.display.HTML object>"
            ]
          },
          "metadata": {},
          "output_type": "display_data"
        }
      ],
      "source": [
        "showmod(call_cpacked_lowered(buf, x, y))"
      ]
    },
    {
      "cell_type": "markdown",
      "id": "7",
      "metadata": {},
      "source": [
        "#### call_packed"
      ]
    },
    {
      "cell_type": "code",
      "execution_count": null,
      "id": "8",
      "metadata": {},
      "outputs": [
        {
          "data": {
            "text/html": [
              "<div class=\"highlight\" style=\"background: \"><pre style=\"line-height: 125%;\"><span></span>buffer <span style=\"color: #A2F; font-weight: bold\">=</span> T<span style=\"color: #A2F; font-weight: bold\">.</span>handle(<span style=\"color: #BA2121\">&quot;float32&quot;</span>)\n",
              "T<span style=\"color: #A2F; font-weight: bold\">.</span>call_packed(\n",
              "    T<span style=\"color: #A2F; font-weight: bold\">.</span>tvm_stack_make_array(\n",
              "        buffer, T<span style=\"color: #A2F; font-weight: bold\">.</span>tvm_stack_make_shape(<span style=\"color: #008000\">10</span>, <span style=\"color: #008000\">10</span>), <span style=\"color: #008000\">0</span>, <span style=\"color: #008000\">2</span>, T<span style=\"color: #A2F; font-weight: bold\">.</span>float32(<span style=\"color: #008000\">0.0</span>), <span style=\"color: #008000\">0</span>\n",
              "    ),\n",
              "    <span style=\"color: #008000\">100</span>,\n",
              "    T<span style=\"color: #A2F; font-weight: bold\">.</span>float32(<span style=\"color: #008000\">100.0</span>),\n",
              ")\n",
              "</pre></div>\n"
            ],
            "text/plain": [
              "<IPython.core.display.HTML object>"
            ]
          },
          "metadata": {},
          "output_type": "display_data"
        }
      ],
      "source": [
        "showmod(call_packed(buf, x, y))"
      ]
    },
    {
      "cell_type": "markdown",
      "id": "9",
      "metadata": {},
      "source": [
        "#### call_cpacked"
      ]
    },
    {
      "cell_type": "code",
      "execution_count": null,
      "id": "10",
      "metadata": {},
      "outputs": [
        {
          "data": {
            "text/html": [
              "<div class=\"highlight\" style=\"background: \"><pre style=\"line-height: 125%;\"><span></span>buffer <span style=\"color: #A2F; font-weight: bold\">=</span> T<span style=\"color: #A2F; font-weight: bold\">.</span>handle(<span style=\"color: #BA2121\">&quot;float32&quot;</span>)\n",
              "T<span style=\"color: #A2F; font-weight: bold\">.</span>call_cpacked(\n",
              "    T<span style=\"color: #A2F; font-weight: bold\">.</span>tvm_stack_make_array(\n",
              "        buffer, T<span style=\"color: #A2F; font-weight: bold\">.</span>tvm_stack_make_shape(<span style=\"color: #008000\">10</span>, <span style=\"color: #008000\">10</span>), <span style=\"color: #008000\">0</span>, <span style=\"color: #008000\">2</span>, T<span style=\"color: #A2F; font-weight: bold\">.</span>float32(<span style=\"color: #008000\">0.0</span>), <span style=\"color: #008000\">0</span>\n",
              "    ),\n",
              "    <span style=\"color: #008000\">100</span>,\n",
              "    T<span style=\"color: #A2F; font-weight: bold\">.</span>float32(<span style=\"color: #008000\">100.0</span>),\n",
              ")\n",
              "</pre></div>\n"
            ],
            "text/plain": [
              "<IPython.core.display.HTML object>"
            ]
          },
          "metadata": {},
          "output_type": "display_data"
        }
      ],
      "source": [
        "showmod(call_cpacked(buf, x, y))"
      ]
    },
    {
      "cell_type": "markdown",
      "id": "11",
      "metadata": {},
      "source": [
        "#### call_intrin"
      ]
    },
    {
      "cell_type": "code",
      "execution_count": null,
      "id": "12",
      "metadata": {},
      "outputs": [
        {
          "data": {
            "text/html": [
              "<div class=\"highlight\" style=\"background: \"><pre style=\"line-height: 125%;\"><span></span>T<span style=\"color: #A2F; font-weight: bold\">.</span>sqrt(T<span style=\"color: #A2F; font-weight: bold\">.</span>float32(<span style=\"color: #008000\">2.0</span>))\n",
              "</pre></div>\n"
            ],
            "text/plain": [
              "<IPython.core.display.HTML object>"
            ]
          },
          "metadata": {},
          "output_type": "display_data"
        },
        {
          "data": {
            "text/html": [
              "<div class=\"highlight\" style=\"background: \"><pre style=\"line-height: 125%;\"><span></span>T<span style=\"color: #A2F; font-weight: bold\">.</span>fabs(T<span style=\"color: #A2F; font-weight: bold\">.</span>float32(<span style=\"color: #008000\">2.0</span>))\n",
              "</pre></div>\n"
            ],
            "text/plain": [
              "<IPython.core.display.HTML object>"
            ]
          },
          "metadata": {},
          "output_type": "display_data"
        },
        {
          "data": {
            "text/html": [
              "<div class=\"highlight\" style=\"background: \"><pre style=\"line-height: 125%;\"><span></span>T<span style=\"color: #A2F; font-weight: bold\">.</span>bitwise_and(T<span style=\"color: #A2F; font-weight: bold\">.</span>float32(<span style=\"color: #008000\">2.0</span>), T<span style=\"color: #A2F; font-weight: bold\">.</span>float32(<span style=\"color: #008000\">3.0</span>))\n",
              "</pre></div>\n"
            ],
            "text/plain": [
              "<IPython.core.display.HTML object>"
            ]
          },
          "metadata": {},
          "output_type": "display_data"
        },
        {
          "data": {
            "text/html": [
              "<div class=\"highlight\" style=\"background: \"><pre style=\"line-height: 125%;\"><span></span>T<span style=\"color: #A2F; font-weight: bold\">.</span>fma(T<span style=\"color: #A2F; font-weight: bold\">.</span>float32(<span style=\"color: #008000\">2.0</span>), T<span style=\"color: #A2F; font-weight: bold\">.</span>float32(<span style=\"color: #008000\">3.0</span>), T<span style=\"color: #A2F; font-weight: bold\">.</span>float32(<span style=\"color: #008000\">4.0</span>))\n",
              "</pre></div>\n"
            ],
            "text/plain": [
              "<IPython.core.display.HTML object>"
            ]
          },
          "metadata": {},
          "output_type": "display_data"
        }
      ],
      "source": [
        "\"\"\"Build expression by calling an intrinsic function.\n",
        "\n",
        "Intrinsics can be overloaded with multiple data types via\n",
        "the intrinsic translation rule.\n",
        "\n",
        "Parameters\n",
        "----------\n",
        "dtype : str\n",
        "    The data type of the result.\n",
        "\n",
        "func_name: str\n",
        "    The intrinsic function name.\n",
        "\n",
        "args : list\n",
        "    Positional arguments.\n",
        "\n",
        "span : Optional[Span]\n",
        "    The location of this operator in the source code.\n",
        "\n",
        "Returns\n",
        "-------\n",
        "call : PrimExpr\n",
        "    The call expression.\n",
        "\"\"\"\n",
        "\n",
        "x = call_intrin(\"float32\", \"tir.sqrt\", tvm.tir.FloatImm(\"float32\", 2.0))\n",
        "showmod(x)\n",
        "\n",
        "x = call_intrin(\"float32\", \"tir.fabs\", tvm.tir.FloatImm(\"float32\", 2.0))\n",
        "showmod(x)\n",
        "\n",
        "x = call_intrin(\n",
        "    \"float32\",\n",
        "    \"tir.bitwise_and\",\n",
        "    tvm.tir.FloatImm(\"float32\", 2.0),\n",
        "    tvm.tir.FloatImm(\"float32\", 3.0),\n",
        ")\n",
        "showmod(x)\n",
        "\n",
        "x = call_intrin(\n",
        "    \"float32\",\n",
        "    \"tir.fma\",\n",
        "    tvm.tir.FloatImm(\"float32\", 2.0),\n",
        "    tvm.tir.FloatImm(\"float32\", 3.0),\n",
        "    tvm.tir.FloatImm(\"float32\", 4.0),\n",
        ")\n",
        "showmod(x)"
      ]
    },
    {
      "cell_type": "markdown",
      "id": "13",
      "metadata": {},
      "source": [
        "#### call_pure_extern"
      ]
    },
    {
      "cell_type": "code",
      "execution_count": null,
      "id": "14",
      "metadata": {},
      "outputs": [
        {
          "data": {
            "text/html": [
              "<div class=\"highlight\" style=\"background: \"><pre style=\"line-height: 125%;\"><span></span>T<span style=\"color: #A2F; font-weight: bold\">.</span>call_pure_extern(\n",
              "    <span style=\"color: #BA2121\">&quot;float32&quot;</span>,\n",
              "    <span style=\"color: #BA2121\">&quot;a_extern_func&quot;</span>,\n",
              "    T<span style=\"color: #A2F; font-weight: bold\">.</span>fma(T<span style=\"color: #A2F; font-weight: bold\">.</span>float32(<span style=\"color: #008000\">2.0</span>), T<span style=\"color: #A2F; font-weight: bold\">.</span>float32(<span style=\"color: #008000\">3.0</span>), T<span style=\"color: #A2F; font-weight: bold\">.</span>float32(<span style=\"color: #008000\">4.0</span>)),\n",
              "    T<span style=\"color: #A2F; font-weight: bold\">.</span>float32(<span style=\"color: #008000\">100.0</span>),\n",
              ")\n",
              "</pre></div>\n"
            ],
            "text/plain": [
              "<IPython.core.display.HTML object>"
            ]
          },
          "metadata": {},
          "output_type": "display_data"
        }
      ],
      "source": [
        "x = call_pure_extern(\"float32\", \"a_extern_func\", x, y)\n",
        "showmod(x)"
      ]
    },
    {
      "cell_type": "markdown",
      "id": "15",
      "metadata": {},
      "source": [
        "#### call_extern"
      ]
    },
    {
      "cell_type": "code",
      "execution_count": null,
      "id": "16",
      "metadata": {},
      "outputs": [
        {
          "data": {
            "text/html": [
              "<div class=\"highlight\" style=\"background: \"><pre style=\"line-height: 125%;\"><span></span>T<span style=\"color: #A2F; font-weight: bold\">.</span>call_extern(\n",
              "    <span style=\"color: #BA2121\">&quot;float32&quot;</span>,\n",
              "    <span style=\"color: #BA2121\">&quot;a_extern_func&quot;</span>,\n",
              "    T<span style=\"color: #A2F; font-weight: bold\">.</span>call_pure_extern(\n",
              "        <span style=\"color: #BA2121\">&quot;float32&quot;</span>,\n",
              "        <span style=\"color: #BA2121\">&quot;a_extern_func&quot;</span>,\n",
              "        T<span style=\"color: #A2F; font-weight: bold\">.</span>fma(T<span style=\"color: #A2F; font-weight: bold\">.</span>float32(<span style=\"color: #008000\">2.0</span>), T<span style=\"color: #A2F; font-weight: bold\">.</span>float32(<span style=\"color: #008000\">3.0</span>), T<span style=\"color: #A2F; font-weight: bold\">.</span>float32(<span style=\"color: #008000\">4.0</span>)),\n",
              "        T<span style=\"color: #A2F; font-weight: bold\">.</span>float32(<span style=\"color: #008000\">100.0</span>),\n",
              "    ),\n",
              "    T<span style=\"color: #A2F; font-weight: bold\">.</span>float32(<span style=\"color: #008000\">100.0</span>),\n",
              ")\n",
              "</pre></div>\n"
            ],
            "text/plain": [
              "<IPython.core.display.HTML object>"
            ]
          },
          "metadata": {},
          "output_type": "display_data"
        }
      ],
      "source": [
        "x = call_extern(\"float32\", \"a_extern_func\", x, y)\n",
        "showmod(x)"
      ]
    },
    {
      "cell_type": "markdown",
      "id": "17",
      "metadata": {},
      "source": [
        "#### call_llvm_intrin"
      ]
    },
    {
      "cell_type": "code",
      "execution_count": null,
      "id": "18",
      "metadata": {},
      "outputs": [
        {
          "data": {
            "text/html": [
              "<div class=\"highlight\" style=\"background: \"><pre style=\"line-height: 125%;\"><span></span>T<span style=\"color: #A2F; font-weight: bold\">.</span>call_llvm_intrin(<span style=\"color: #BA2121\">&quot;float32&quot;</span>, <span style=\"color: #BA2121\">&quot;llvm.x86.avx512.sqrt.ps.512&quot;</span>, <span style=\"color: #008000\">1</span>)\n",
              "</pre></div>\n"
            ],
            "text/plain": [
              "<IPython.core.display.HTML object>"
            ]
          },
          "metadata": {},
          "output_type": "display_data"
        }
      ],
      "source": [
        "x = call_llvm_intrin(\"float32\", \"llvm.x86.avx512.sqrt.ps.512\", 1)\n",
        "showmod(x)"
      ]
    },
    {
      "cell_type": "markdown",
      "id": "19",
      "metadata": {},
      "source": [
        "#### call_llvm_pure_intrin"
      ]
    },
    {
      "cell_type": "code",
      "execution_count": null,
      "id": "20",
      "metadata": {},
      "outputs": [
        {
          "data": {
            "text/html": [
              "<div class=\"highlight\" style=\"background: \"><pre style=\"line-height: 125%;\"><span></span>T<span style=\"color: #A2F; font-weight: bold\">.</span>call_llvm_pure_intrin(<span style=\"color: #BA2121\">&quot;float32&quot;</span>, <span style=\"color: #BA2121\">&quot;llvm.x86.avx512.sqrt.ps.512&quot;</span>, <span style=\"color: #008000\">1</span>)\n",
              "</pre></div>\n"
            ],
            "text/plain": [
              "<IPython.core.display.HTML object>"
            ]
          },
          "metadata": {},
          "output_type": "display_data"
        }
      ],
      "source": [
        "x = call_llvm_pure_intrin(\"float32\", \"llvm.x86.avx512.sqrt.ps.512\", 1)\n",
        "showmod(x)"
      ]
    },
    {
      "cell_type": "markdown",
      "id": "21",
      "metadata": {},
      "source": [
        "#### tvm_check_return"
      ]
    },
    {
      "cell_type": "code",
      "execution_count": null,
      "id": "22",
      "metadata": {},
      "outputs": [
        {
          "data": {
            "text/html": [
              "<div class=\"highlight\" style=\"background: \"><pre style=\"line-height: 125%;\"><span></span>T<span style=\"color: #A2F; font-weight: bold\">.</span>tvm_check_return(<span style=\"color: #008000\">1</span>, <span style=\"color: #008000\">0</span>, <span style=\"color: #008000\">1</span>)\n",
              "</pre></div>\n"
            ],
            "text/plain": [
              "<IPython.core.display.HTML object>"
            ]
          },
          "metadata": {},
          "output_type": "display_data"
        }
      ],
      "source": [
        "x = tvm_check_return(1, 0, tvm.tir.IntImm(\"int32\", 1))\n",
        "showmod(x)"
      ]
    },
    {
      "cell_type": "code",
      "execution_count": null,
      "id": "23",
      "metadata": {},
      "outputs": [],
      "source": [
        "# TODO"
      ]
    },
    {
      "cell_type": "markdown",
      "id": "24",
      "metadata": {},
      "source": [
        "#### "
      ]
    }
  ],
  "metadata": {
    "kernelspec": {
      "display_name": "",
      "language": "python",
      "name": "python3"
    },
    "language_info": {
      "codemirror_mode": {
        "name": "ipython",
        "version": 3
      },
      "file_extension": ".py",
      "mimetype": "text/x-python",
      "name": "python",
      "nbconvert_exporter": "python",
      "pygments_lexer": "ipython3",
      "version": ""
    }
  },
  "nbformat": 4,
  "nbformat_minor": 5
}