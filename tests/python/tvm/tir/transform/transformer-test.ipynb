{
  "cells": [
    {
      "cell_type": "code",
      "execution_count": null,
      "id": "0",
      "metadata": {},
      "outputs": [],
      "source": [
        "import tvm\n",
        "\n",
        "import tvm.te as te\n",
        "\n",
        "from tvm.script import ir as I\n",
        "from tvm.script import tir as T\n",
        "from tvm.script import relax as R\n",
        "\n",
        "\n",
        "def showmod(mod: tvm.ir.module.IRModule):\n",
        "    mod.show(\n",
        "        black_format=True,\n",
        "        show_meta=False,\n",
        "        verbose_expr=True,\n",
        "        show_object_address=False,\n",
        "        show_all_struct_info=True,\n",
        "    )\n",
        "\n",
        "\n",
        "def createandshowmod(ops):\n",
        "    te_func = te.create_prim_func(ops).with_attrs({\"global_symbol\": \"test\"})\n",
        "    mod = tvm.IRModule({\"test\": te_func})\n",
        "    showmod(mod)"
      ]
    },
    {
      "cell_type": "code",
      "execution_count": null,
      "id": "1",
      "metadata": {},
      "outputs": [],
      "source": [
        "testSuites = {}\n",
        "\n",
        "\n",
        "def register(func):\n",
        "    if func.__name__ in testSuites:\n",
        "        raise Exception(\"Duplicated test suite name: \" + func.__name__)\n",
        "    else:\n",
        "        testSuites[func.__name__] = func\n",
        "    return func"
      ]
    },
    {
      "cell_type": "code",
      "execution_count": null,
      "id": "2",
      "metadata": {},
      "outputs": [
        {
          "data": {
            "text/html": [
              "<div class=\"highlight\" style=\"background: \"><pre style=\"line-height: 125%;\"><span></span><span style=\"color: #007979; font-style: italic\"># from tvm.script import ir as I</span>\n",
              "<span style=\"color: #007979; font-style: italic\"># from tvm.script import tir as T</span>\n",
              "\n",
              "\n",
              "<span style=\"color: #A2F\">@I</span><span style=\"color: #A2F; font-weight: bold\">.</span>ir_module\n",
              "<span style=\"color: #008000; font-weight: bold\">class</span> <span style=\"color: #00F; font-weight: bold\">Module</span>:\n",
              "    <span style=\"color: #A2F\">@T</span><span style=\"color: #A2F; font-weight: bold\">.</span>prim_func\n",
              "    <span style=\"color: #008000; font-weight: bold\">def</span> <span style=\"color: #00F\">main</span>(n: T<span style=\"color: #A2F; font-weight: bold\">.</span>int32, m: T<span style=\"color: #A2F; font-weight: bold\">.</span>int32):\n",
              "        <span style=\"color: #008000; font-weight: bold\">for</span> i, j, k <span style=\"color: #008000; font-weight: bold\">in</span> T<span style=\"color: #A2F; font-weight: bold\">.</span>grid(<span style=\"color: #008000\">4</span>, n, m):\n",
              "            <span style=\"color: #008000; font-weight: bold\">if</span> T<span style=\"color: #A2F; font-weight: bold\">.</span>likely(i <span style=\"color: #A2F; font-weight: bold\">*</span> m <span style=\"color: #A2F; font-weight: bold\">+</span> j <span style=\"color: #A2F; font-weight: bold\">+</span> k <span style=\"color: #A2F; font-weight: bold\">&lt;</span> n):\n",
              "                T<span style=\"color: #A2F; font-weight: bold\">.</span>evaluate(m)\n",
              "            <span style=\"color: #008000; font-weight: bold\">else</span>:\n",
              "                T<span style=\"color: #A2F; font-weight: bold\">.</span>evaluate(n)\n",
              "</pre></div>\n"
            ],
            "text/plain": [
              "<IPython.core.display.HTML object>"
            ]
          },
          "metadata": {},
          "output_type": "display_data"
        },
        {
          "name": "stdout",
          "output_type": "stream",
          "text": [
            "Partitioned Module:\n"
          ]
        },
        {
          "data": {
            "text/html": [
              "<div class=\"highlight\" style=\"background: \"><pre style=\"line-height: 125%;\"><span></span><span style=\"color: #007979; font-style: italic\"># from tvm.script import ir as I</span>\n",
              "<span style=\"color: #007979; font-style: italic\"># from tvm.script import tir as T</span>\n",
              "\n",
              "\n",
              "<span style=\"color: #A2F\">@I</span><span style=\"color: #A2F; font-weight: bold\">.</span>ir_module\n",
              "<span style=\"color: #008000; font-weight: bold\">class</span> <span style=\"color: #00F; font-weight: bold\">Module</span>:\n",
              "    <span style=\"color: #A2F\">@T</span><span style=\"color: #A2F; font-weight: bold\">.</span>prim_func\n",
              "    <span style=\"color: #008000; font-weight: bold\">def</span> <span style=\"color: #00F\">main</span>(n: T<span style=\"color: #A2F; font-weight: bold\">.</span>int32, m: T<span style=\"color: #A2F; font-weight: bold\">.</span>int32):\n",
              "        <span style=\"color: #008000; font-weight: bold\">for</span> i <span style=\"color: #008000; font-weight: bold\">in</span> range(<span style=\"color: #008000\">4</span>):\n",
              "            <span style=\"color: #008000; font-weight: bold\">for</span> j, k <span style=\"color: #008000; font-weight: bold\">in</span> T<span style=\"color: #A2F; font-weight: bold\">.</span>grid(T<span style=\"color: #A2F; font-weight: bold\">.</span>min(n <span style=\"color: #A2F; font-weight: bold\">+</span> <span style=\"color: #008000\">1</span> <span style=\"color: #A2F; font-weight: bold\">-</span> m <span style=\"color: #A2F; font-weight: bold\">-</span> i <span style=\"color: #A2F; font-weight: bold\">*</span> m, n <span style=\"color: #A2F; font-weight: bold\">-</span> <span style=\"color: #008000\">1</span> <span style=\"color: #A2F; font-weight: bold\">+</span> <span style=\"color: #008000\">1</span>), m):\n",
              "                <span style=\"color: #008000; font-weight: bold\">if</span> T<span style=\"color: #A2F; font-weight: bold\">.</span>bool(<span style=\"color: #008000; font-weight: bold\">True</span>):\n",
              "                    T<span style=\"color: #A2F; font-weight: bold\">.</span>evaluate(m)\n",
              "                <span style=\"color: #008000; font-weight: bold\">else</span>:\n",
              "                    T<span style=\"color: #A2F; font-weight: bold\">.</span>evaluate(n)\n",
              "            <span style=\"color: #008000; font-weight: bold\">for</span> j, k <span style=\"color: #008000; font-weight: bold\">in</span> T<span style=\"color: #A2F; font-weight: bold\">.</span>grid(m <span style=\"color: #A2F; font-weight: bold\">*</span> (i <span style=\"color: #A2F; font-weight: bold\">+</span> <span style=\"color: #008000\">1</span>) <span style=\"color: #A2F; font-weight: bold\">-</span> <span style=\"color: #008000\">1</span>, m):\n",
              "                <span style=\"color: #008000; font-weight: bold\">if</span> i <span style=\"color: #A2F; font-weight: bold\">*</span> m <span style=\"color: #A2F; font-weight: bold\">+</span> (j <span style=\"color: #A2F; font-weight: bold\">+</span> T<span style=\"color: #A2F; font-weight: bold\">.</span>min(n <span style=\"color: #A2F; font-weight: bold\">+</span> <span style=\"color: #008000\">1</span> <span style=\"color: #A2F; font-weight: bold\">-</span> m <span style=\"color: #A2F; font-weight: bold\">-</span> i <span style=\"color: #A2F; font-weight: bold\">*</span> m, n <span style=\"color: #A2F; font-weight: bold\">-</span> <span style=\"color: #008000\">1</span> <span style=\"color: #A2F; font-weight: bold\">+</span> <span style=\"color: #008000\">1</span>)) <span style=\"color: #A2F; font-weight: bold\">+</span> k <span style=\"color: #A2F; font-weight: bold\">&lt;</span> n:\n",
              "                    T<span style=\"color: #A2F; font-weight: bold\">.</span>evaluate(m)\n",
              "                <span style=\"color: #008000; font-weight: bold\">else</span>:\n",
              "                    T<span style=\"color: #A2F; font-weight: bold\">.</span>evaluate(n)\n",
              "</pre></div>\n"
            ],
            "text/plain": [
              "<IPython.core.display.HTML object>"
            ]
          },
          "metadata": {},
          "output_type": "display_data"
        }
      ],
      "source": [
        "@register\n",
        "def testLoopPartition():\n",
        "    @I.ir_module\n",
        "    class Module:\n",
        "        @T.prim_func\n",
        "        def main(n: T.int32, m: T.int32):\n",
        "            for i, j, k in T.grid(4, n, m):\n",
        "                if T.likely(i * m + j + k < n):\n",
        "                    T.evaluate(m)\n",
        "                else:\n",
        "                    T.evaluate(n)\n",
        "\n",
        "    showmod(Module)\n",
        "\n",
        "    with tvm.transform.PassContext(\n",
        "        config={\"tir.LoopPartition\": {\"partition_const_loop\": True}}\n",
        "    ):\n",
        "        Module = tvm.tir.transform.LoopPartition()(Module)\n",
        "\n",
        "    print(\"Partitioned Module:\")\n",
        "    showmod(Module)\n",
        "\n",
        "\n",
        "testSuites[\"testLoopPartition\"]()"
      ]
    },
    {
      "cell_type": "code",
      "execution_count": null,
      "id": "3",
      "metadata": {},
      "outputs": [],
      "source": [
        "@register\n",
        "def testLoopVectorize():\n",
        "    pass\n",
        "\n",
        "\n",
        "testSuites[\"testLoopVectorize\"]()"
      ]
    },
    {
      "cell_type": "code",
      "execution_count": null,
      "id": "4",
      "metadata": {},
      "outputs": [
        {
          "data": {
            "text/html": [
              "<div class=\"highlight\" style=\"background: \"><pre style=\"line-height: 125%;\"><span></span><span style=\"color: #007979; font-style: italic\"># from tvm.script import ir as I</span>\n",
              "<span style=\"color: #007979; font-style: italic\"># from tvm.script import tir as T</span>\n",
              "\n",
              "\n",
              "<span style=\"color: #A2F\">@I</span><span style=\"color: #A2F; font-weight: bold\">.</span>ir_module\n",
              "<span style=\"color: #008000; font-weight: bold\">class</span> <span style=\"color: #00F; font-weight: bold\">Module</span>:\n",
              "    <span style=\"color: #A2F\">@T</span><span style=\"color: #A2F; font-weight: bold\">.</span>prim_func\n",
              "    <span style=\"color: #008000; font-weight: bold\">def</span> <span style=\"color: #00F\">main</span>(bufPtr: T<span style=\"color: #A2F; font-weight: bold\">.</span>handle):\n",
              "        n <span style=\"color: #A2F; font-weight: bold\">=</span> T<span style=\"color: #A2F; font-weight: bold\">.</span>int32(is_size_var<span style=\"color: #A2F; font-weight: bold\">=</span><span style=\"color: #008000; font-weight: bold\">True</span>)\n",
              "        buffer_1 <span style=\"color: #A2F; font-weight: bold\">=</span> T<span style=\"color: #A2F; font-weight: bold\">.</span>match_buffer(bufPtr, (n,), <span style=\"color: #BA2121\">&quot;int32&quot;</span>)\n",
              "        <span style=\"color: #008000; font-weight: bold\">for</span> i <span style=\"color: #008000; font-weight: bold\">in</span> range(n, n <span style=\"color: #A2F; font-weight: bold\">+</span> <span style=\"color: #008000\">2</span>):\n",
              "            <span style=\"color: #008000; font-weight: bold\">for</span> j <span style=\"color: #008000; font-weight: bold\">in</span> T<span style=\"color: #A2F; font-weight: bold\">.</span>unroll(<span style=\"color: #008000\">8</span>):\n",
              "                buffer_1[j <span style=\"color: #A2F; font-weight: bold\">+</span> <span style=\"color: #008000\">1</span>] <span style=\"color: #A2F; font-weight: bold\">=</span> buffer_1[i] <span style=\"color: #A2F; font-weight: bold\">+</span> <span style=\"color: #008000\">1</span>\n",
              "</pre></div>\n"
            ],
            "text/plain": [
              "<IPython.core.display.HTML object>"
            ]
          },
          "metadata": {},
          "output_type": "display_data"
        },
        {
          "data": {
            "text/html": [
              "<div class=\"highlight\" style=\"background: \"><pre style=\"line-height: 125%;\"><span></span><span style=\"color: #007979; font-style: italic\"># from tvm.script import ir as I</span>\n",
              "<span style=\"color: #007979; font-style: italic\"># from tvm.script import tir as T</span>\n",
              "\n",
              "\n",
              "<span style=\"color: #A2F\">@I</span><span style=\"color: #A2F; font-weight: bold\">.</span>ir_module\n",
              "<span style=\"color: #008000; font-weight: bold\">class</span> <span style=\"color: #00F; font-weight: bold\">Module</span>:\n",
              "    <span style=\"color: #A2F\">@T</span><span style=\"color: #A2F; font-weight: bold\">.</span>prim_func\n",
              "    <span style=\"color: #008000; font-weight: bold\">def</span> <span style=\"color: #00F\">main</span>(bufPtr: T<span style=\"color: #A2F; font-weight: bold\">.</span>handle):\n",
              "        n <span style=\"color: #A2F; font-weight: bold\">=</span> T<span style=\"color: #A2F; font-weight: bold\">.</span>int32(is_size_var<span style=\"color: #A2F; font-weight: bold\">=</span><span style=\"color: #008000; font-weight: bold\">True</span>)\n",
              "        buffer_1 <span style=\"color: #A2F; font-weight: bold\">=</span> T<span style=\"color: #A2F; font-weight: bold\">.</span>match_buffer(bufPtr, (n,), <span style=\"color: #BA2121\">&quot;int32&quot;</span>)\n",
              "        buffer_1[T<span style=\"color: #A2F; font-weight: bold\">.</span>Add(<span style=\"color: #008000\">0</span>, <span style=\"color: #008000\">1</span>)] <span style=\"color: #A2F; font-weight: bold\">=</span> buffer_1[n] <span style=\"color: #A2F; font-weight: bold\">+</span> <span style=\"color: #008000\">1</span>\n",
              "        buffer_1[T<span style=\"color: #A2F; font-weight: bold\">.</span>Add(<span style=\"color: #008000\">1</span>, <span style=\"color: #008000\">1</span>)] <span style=\"color: #A2F; font-weight: bold\">=</span> buffer_1[n] <span style=\"color: #A2F; font-weight: bold\">+</span> <span style=\"color: #008000\">1</span>\n",
              "        buffer_1[T<span style=\"color: #A2F; font-weight: bold\">.</span>Add(<span style=\"color: #008000\">2</span>, <span style=\"color: #008000\">1</span>)] <span style=\"color: #A2F; font-weight: bold\">=</span> buffer_1[n] <span style=\"color: #A2F; font-weight: bold\">+</span> <span style=\"color: #008000\">1</span>\n",
              "        buffer_1[T<span style=\"color: #A2F; font-weight: bold\">.</span>Add(<span style=\"color: #008000\">3</span>, <span style=\"color: #008000\">1</span>)] <span style=\"color: #A2F; font-weight: bold\">=</span> buffer_1[n] <span style=\"color: #A2F; font-weight: bold\">+</span> <span style=\"color: #008000\">1</span>\n",
              "        buffer_1[T<span style=\"color: #A2F; font-weight: bold\">.</span>Add(<span style=\"color: #008000\">4</span>, <span style=\"color: #008000\">1</span>)] <span style=\"color: #A2F; font-weight: bold\">=</span> buffer_1[n] <span style=\"color: #A2F; font-weight: bold\">+</span> <span style=\"color: #008000\">1</span>\n",
              "        buffer_1[T<span style=\"color: #A2F; font-weight: bold\">.</span>Add(<span style=\"color: #008000\">5</span>, <span style=\"color: #008000\">1</span>)] <span style=\"color: #A2F; font-weight: bold\">=</span> buffer_1[n] <span style=\"color: #A2F; font-weight: bold\">+</span> <span style=\"color: #008000\">1</span>\n",
              "        buffer_1[T<span style=\"color: #A2F; font-weight: bold\">.</span>Add(<span style=\"color: #008000\">6</span>, <span style=\"color: #008000\">1</span>)] <span style=\"color: #A2F; font-weight: bold\">=</span> buffer_1[n] <span style=\"color: #A2F; font-weight: bold\">+</span> <span style=\"color: #008000\">1</span>\n",
              "        buffer_1[T<span style=\"color: #A2F; font-weight: bold\">.</span>Add(<span style=\"color: #008000\">7</span>, <span style=\"color: #008000\">1</span>)] <span style=\"color: #A2F; font-weight: bold\">=</span> buffer_1[n] <span style=\"color: #A2F; font-weight: bold\">+</span> <span style=\"color: #008000\">1</span>\n",
              "        buffer_1[T<span style=\"color: #A2F; font-weight: bold\">.</span>Add(<span style=\"color: #008000\">0</span>, <span style=\"color: #008000\">1</span>)] <span style=\"color: #A2F; font-weight: bold\">=</span> buffer_1[n <span style=\"color: #A2F; font-weight: bold\">+</span> <span style=\"color: #008000\">1</span>] <span style=\"color: #A2F; font-weight: bold\">+</span> <span style=\"color: #008000\">1</span>\n",
              "        buffer_1[T<span style=\"color: #A2F; font-weight: bold\">.</span>Add(<span style=\"color: #008000\">1</span>, <span style=\"color: #008000\">1</span>)] <span style=\"color: #A2F; font-weight: bold\">=</span> buffer_1[n <span style=\"color: #A2F; font-weight: bold\">+</span> <span style=\"color: #008000\">1</span>] <span style=\"color: #A2F; font-weight: bold\">+</span> <span style=\"color: #008000\">1</span>\n",
              "        buffer_1[T<span style=\"color: #A2F; font-weight: bold\">.</span>Add(<span style=\"color: #008000\">2</span>, <span style=\"color: #008000\">1</span>)] <span style=\"color: #A2F; font-weight: bold\">=</span> buffer_1[n <span style=\"color: #A2F; font-weight: bold\">+</span> <span style=\"color: #008000\">1</span>] <span style=\"color: #A2F; font-weight: bold\">+</span> <span style=\"color: #008000\">1</span>\n",
              "        buffer_1[T<span style=\"color: #A2F; font-weight: bold\">.</span>Add(<span style=\"color: #008000\">3</span>, <span style=\"color: #008000\">1</span>)] <span style=\"color: #A2F; font-weight: bold\">=</span> buffer_1[n <span style=\"color: #A2F; font-weight: bold\">+</span> <span style=\"color: #008000\">1</span>] <span style=\"color: #A2F; font-weight: bold\">+</span> <span style=\"color: #008000\">1</span>\n",
              "        buffer_1[T<span style=\"color: #A2F; font-weight: bold\">.</span>Add(<span style=\"color: #008000\">4</span>, <span style=\"color: #008000\">1</span>)] <span style=\"color: #A2F; font-weight: bold\">=</span> buffer_1[n <span style=\"color: #A2F; font-weight: bold\">+</span> <span style=\"color: #008000\">1</span>] <span style=\"color: #A2F; font-weight: bold\">+</span> <span style=\"color: #008000\">1</span>\n",
              "        buffer_1[T<span style=\"color: #A2F; font-weight: bold\">.</span>Add(<span style=\"color: #008000\">5</span>, <span style=\"color: #008000\">1</span>)] <span style=\"color: #A2F; font-weight: bold\">=</span> buffer_1[n <span style=\"color: #A2F; font-weight: bold\">+</span> <span style=\"color: #008000\">1</span>] <span style=\"color: #A2F; font-weight: bold\">+</span> <span style=\"color: #008000\">1</span>\n",
              "        buffer_1[T<span style=\"color: #A2F; font-weight: bold\">.</span>Add(<span style=\"color: #008000\">6</span>, <span style=\"color: #008000\">1</span>)] <span style=\"color: #A2F; font-weight: bold\">=</span> buffer_1[n <span style=\"color: #A2F; font-weight: bold\">+</span> <span style=\"color: #008000\">1</span>] <span style=\"color: #A2F; font-weight: bold\">+</span> <span style=\"color: #008000\">1</span>\n",
              "        buffer_1[T<span style=\"color: #A2F; font-weight: bold\">.</span>Add(<span style=\"color: #008000\">7</span>, <span style=\"color: #008000\">1</span>)] <span style=\"color: #A2F; font-weight: bold\">=</span> buffer_1[n <span style=\"color: #A2F; font-weight: bold\">+</span> <span style=\"color: #008000\">1</span>] <span style=\"color: #A2F; font-weight: bold\">+</span> <span style=\"color: #008000\">1</span>\n",
              "</pre></div>\n"
            ],
            "text/plain": [
              "<IPython.core.display.HTML object>"
            ]
          },
          "metadata": {},
          "output_type": "display_data"
        }
      ],
      "source": [
        "@register\n",
        "def testLoopUnroll():\n",
        "    @I.ir_module\n",
        "    class Module:\n",
        "        @T.prim_func\n",
        "        def main(bufPtr: T.handle):\n",
        "            n = T.int32(is_size_var=True)\n",
        "            buffer_1 = T.match_buffer(bufPtr, (n,), \"int32\")\n",
        "            for i in range(n, n + (n + 2 - n)):\n",
        "                for j in T.unroll(8):\n",
        "                    buffer_1[j + 1] = buffer_1[i] + 1\n",
        "\n",
        "    showmod(Module)\n",
        "    with tvm.transform.PassContext(config={\"tir.UnrollLoop\": {\"auto_max_step\": 16}}):\n",
        "        ret = tvm.tir.transform.UnrollLoop()(Module)\n",
        "\n",
        "    showmod(ret)\n",
        "\n",
        "\n",
        "testSuites[\"testLoopUnroll\"]()"
      ]
    },
    {
      "cell_type": "code",
      "execution_count": null,
      "id": "5",
      "metadata": {},
      "outputs": [
        {
          "data": {
            "text/html": [
              "<div class=\"highlight\" style=\"background: \"><pre style=\"line-height: 125%;\"><span></span><span style=\"color: #007979; font-style: italic\"># from tvm.script import ir as I</span>\n",
              "<span style=\"color: #007979; font-style: italic\"># from tvm.script import tir as T</span>\n",
              "\n",
              "\n",
              "<span style=\"color: #A2F\">@I</span><span style=\"color: #A2F; font-weight: bold\">.</span>ir_module\n",
              "<span style=\"color: #008000; font-weight: bold\">class</span> <span style=\"color: #00F; font-weight: bold\">Module</span>:\n",
              "    <span style=\"color: #A2F\">@T</span><span style=\"color: #A2F; font-weight: bold\">.</span>prim_func\n",
              "    <span style=\"color: #008000; font-weight: bold\">def</span> <span style=\"color: #00F\">main</span>():\n",
              "        <span style=\"color: #008000; font-weight: bold\">for</span> i <span style=\"color: #008000; font-weight: bold\">in</span> range(<span style=\"color: #008000\">100</span>):\n",
              "            vthread <span style=\"color: #A2F; font-weight: bold\">=</span> T<span style=\"color: #A2F; font-weight: bold\">.</span>launch_thread(<span style=\"color: #BA2121\">&quot;vthread&quot;</span>, <span style=\"color: #008000\">2</span>)\n",
              "            vthread_1 <span style=\"color: #A2F; font-weight: bold\">=</span> T<span style=\"color: #A2F; font-weight: bold\">.</span>launch_thread(<span style=\"color: #BA2121\">&quot;vthread&quot;</span>, <span style=\"color: #008000\">2</span>)\n",
              "            A_1 <span style=\"color: #A2F; font-weight: bold\">=</span> T<span style=\"color: #A2F; font-weight: bold\">.</span>allocate([<span style=\"color: #008000\">4</span>], <span style=\"color: #BA2121\">&quot;float32&quot;</span>, <span style=\"color: #BA2121\">&quot;shared&quot;</span>)\n",
              "            B_1 <span style=\"color: #A2F; font-weight: bold\">=</span> T<span style=\"color: #A2F; font-weight: bold\">.</span>allocate([<span style=\"color: #008000\">4</span>], <span style=\"color: #BA2121\">&quot;float32&quot;</span>, <span style=\"color: #BA2121\">&quot;shared&quot;</span>)\n",
              "            C <span style=\"color: #A2F; font-weight: bold\">=</span> T<span style=\"color: #A2F; font-weight: bold\">.</span>allocate([<span style=\"color: #008000\">4</span>], <span style=\"color: #BA2121\">&quot;float32&quot;</span>, <span style=\"color: #BA2121\">&quot;shared&quot;</span>)\n",
              "            A_1_1 <span style=\"color: #A2F; font-weight: bold\">=</span> T<span style=\"color: #A2F; font-weight: bold\">.</span>Buffer((<span style=\"color: #008000\">4</span>,), data<span style=\"color: #A2F; font-weight: bold\">=</span>A_1, scope<span style=\"color: #A2F; font-weight: bold\">=</span><span style=\"color: #BA2121\">&quot;shared&quot;</span>)\n",
              "            A_1_1[vthread] <span style=\"color: #A2F; font-weight: bold\">=</span> T<span style=\"color: #A2F; font-weight: bold\">.</span>Cast(<span style=\"color: #BA2121\">&quot;float32&quot;</span>, vthread) <span style=\"color: #A2F; font-weight: bold\">+</span> T<span style=\"color: #A2F; font-weight: bold\">.</span>float32(<span style=\"color: #008000\">1.0</span>)\n",
              "            B_1_1 <span style=\"color: #A2F; font-weight: bold\">=</span> T<span style=\"color: #A2F; font-weight: bold\">.</span>Buffer((<span style=\"color: #008000\">4</span>,), data<span style=\"color: #A2F; font-weight: bold\">=</span>B_1, scope<span style=\"color: #A2F; font-weight: bold\">=</span><span style=\"color: #BA2121\">&quot;shared&quot;</span>)\n",
              "            B_1_1[vthread_1] <span style=\"color: #A2F; font-weight: bold\">=</span> T<span style=\"color: #A2F; font-weight: bold\">.</span>Cast(<span style=\"color: #BA2121\">&quot;float32&quot;</span>, vthread_1) <span style=\"color: #A2F; font-weight: bold\">+</span> T<span style=\"color: #A2F; font-weight: bold\">.</span>float32(<span style=\"color: #008000\">1.0</span>)\n",
              "            T<span style=\"color: #A2F; font-weight: bold\">.</span>call_extern(\n",
              "                <span style=\"color: #BA2121\">&quot;int32&quot;</span>,\n",
              "                <span style=\"color: #BA2121\">&quot;Run&quot;</span>,\n",
              "                T<span style=\"color: #A2F; font-weight: bold\">.</span>tvm_access_ptr(T<span style=\"color: #A2F; font-weight: bold\">.</span>type_annotation(<span style=\"color: #BA2121\">&quot;float32&quot;</span>), A_1, <span style=\"color: #008000\">0</span>, <span style=\"color: #008000\">4</span>, <span style=\"color: #008000\">1</span>),\n",
              "                T<span style=\"color: #A2F; font-weight: bold\">.</span>tvm_access_ptr(T<span style=\"color: #A2F; font-weight: bold\">.</span>type_annotation(<span style=\"color: #BA2121\">&quot;float32&quot;</span>), B_1, <span style=\"color: #008000\">0</span>, <span style=\"color: #008000\">4</span>, <span style=\"color: #008000\">1</span>),\n",
              "                T<span style=\"color: #A2F; font-weight: bold\">.</span>tvm_access_ptr(T<span style=\"color: #A2F; font-weight: bold\">.</span>type_annotation(<span style=\"color: #BA2121\">&quot;float32&quot;</span>), C, <span style=\"color: #008000\">0</span>, <span style=\"color: #008000\">4</span>, <span style=\"color: #008000\">3</span>),\n",
              "            )\n",
              "</pre></div>\n"
            ],
            "text/plain": [
              "<IPython.core.display.HTML object>"
            ]
          },
          "metadata": {},
          "output_type": "display_data"
        },
        {
          "data": {
            "text/html": [
              "<div class=\"highlight\" style=\"background: \"><pre style=\"line-height: 125%;\"><span></span><span style=\"color: #007979; font-style: italic\"># from tvm.script import ir as I</span>\n",
              "<span style=\"color: #007979; font-style: italic\"># from tvm.script import tir as T</span>\n",
              "\n",
              "\n",
              "<span style=\"color: #A2F\">@I</span><span style=\"color: #A2F; font-weight: bold\">.</span>ir_module\n",
              "<span style=\"color: #008000; font-weight: bold\">class</span> <span style=\"color: #00F; font-weight: bold\">Module</span>:\n",
              "    <span style=\"color: #A2F\">@T</span><span style=\"color: #A2F; font-weight: bold\">.</span>prim_func\n",
              "    <span style=\"color: #008000; font-weight: bold\">def</span> <span style=\"color: #00F\">main</span>():\n",
              "        <span style=\"color: #008000; font-weight: bold\">for</span> i <span style=\"color: #008000; font-weight: bold\">in</span> range(<span style=\"color: #008000\">100</span>):\n",
              "            A_1 <span style=\"color: #A2F; font-weight: bold\">=</span> T<span style=\"color: #A2F; font-weight: bold\">.</span>allocate([<span style=\"color: #008000\">8</span>], <span style=\"color: #BA2121\">&quot;float32&quot;</span>, <span style=\"color: #BA2121\">&quot;shared&quot;</span>)\n",
              "            B_1 <span style=\"color: #A2F; font-weight: bold\">=</span> T<span style=\"color: #A2F; font-weight: bold\">.</span>allocate([<span style=\"color: #008000\">8</span>], <span style=\"color: #BA2121\">&quot;float32&quot;</span>, <span style=\"color: #BA2121\">&quot;shared&quot;</span>)\n",
              "            C <span style=\"color: #A2F; font-weight: bold\">=</span> T<span style=\"color: #A2F; font-weight: bold\">.</span>allocate([<span style=\"color: #008000\">16</span>], <span style=\"color: #BA2121\">&quot;float32&quot;</span>, <span style=\"color: #BA2121\">&quot;shared&quot;</span>)\n",
              "            A_1_1 <span style=\"color: #A2F; font-weight: bold\">=</span> T<span style=\"color: #A2F; font-weight: bold\">.</span>Buffer((<span style=\"color: #008000\">16</span>,), data<span style=\"color: #A2F; font-weight: bold\">=</span>A_1, scope<span style=\"color: #A2F; font-weight: bold\">=</span><span style=\"color: #BA2121\">&quot;shared&quot;</span>)\n",
              "            A_1_1[T<span style=\"color: #A2F; font-weight: bold\">.</span>Mul(<span style=\"color: #008000\">0</span>, <span style=\"color: #008000\">5</span>)] <span style=\"color: #A2F; font-weight: bold\">=</span> T<span style=\"color: #A2F; font-weight: bold\">.</span>Cast(<span style=\"color: #BA2121\">&quot;float32&quot;</span>, <span style=\"color: #008000\">0</span>) <span style=\"color: #A2F; font-weight: bold\">+</span> T<span style=\"color: #A2F; font-weight: bold\">.</span>float32(<span style=\"color: #008000\">1.0</span>)\n",
              "            A_1_1[T<span style=\"color: #A2F; font-weight: bold\">.</span>Mul(<span style=\"color: #008000\">1</span>, <span style=\"color: #008000\">5</span>)] <span style=\"color: #A2F; font-weight: bold\">=</span> T<span style=\"color: #A2F; font-weight: bold\">.</span>Cast(<span style=\"color: #BA2121\">&quot;float32&quot;</span>, <span style=\"color: #008000\">1</span>) <span style=\"color: #A2F; font-weight: bold\">+</span> T<span style=\"color: #A2F; font-weight: bold\">.</span>float32(<span style=\"color: #008000\">1.0</span>)\n",
              "            B_1_1 <span style=\"color: #A2F; font-weight: bold\">=</span> T<span style=\"color: #A2F; font-weight: bold\">.</span>Buffer((<span style=\"color: #008000\">16</span>,), data<span style=\"color: #A2F; font-weight: bold\">=</span>B_1, scope<span style=\"color: #A2F; font-weight: bold\">=</span><span style=\"color: #BA2121\">&quot;shared&quot;</span>)\n",
              "            B_1_1[T<span style=\"color: #A2F; font-weight: bold\">.</span>Mul(<span style=\"color: #008000\">0</span>, <span style=\"color: #008000\">5</span>)] <span style=\"color: #A2F; font-weight: bold\">=</span> T<span style=\"color: #A2F; font-weight: bold\">.</span>Cast(<span style=\"color: #BA2121\">&quot;float32&quot;</span>, <span style=\"color: #008000\">0</span>) <span style=\"color: #A2F; font-weight: bold\">+</span> T<span style=\"color: #A2F; font-weight: bold\">.</span>float32(<span style=\"color: #008000\">1.0</span>)\n",
              "            B_1_1[T<span style=\"color: #A2F; font-weight: bold\">.</span>Mul(<span style=\"color: #008000\">1</span>, <span style=\"color: #008000\">5</span>)] <span style=\"color: #A2F; font-weight: bold\">=</span> T<span style=\"color: #A2F; font-weight: bold\">.</span>Cast(<span style=\"color: #BA2121\">&quot;float32&quot;</span>, <span style=\"color: #008000\">1</span>) <span style=\"color: #A2F; font-weight: bold\">+</span> T<span style=\"color: #A2F; font-weight: bold\">.</span>float32(<span style=\"color: #008000\">1.0</span>)\n",
              "            T<span style=\"color: #A2F; font-weight: bold\">.</span>call_extern(\n",
              "                <span style=\"color: #BA2121\">&quot;int32&quot;</span>,\n",
              "                <span style=\"color: #BA2121\">&quot;Run&quot;</span>,\n",
              "                T<span style=\"color: #A2F; font-weight: bold\">.</span>tvm_access_ptr(T<span style=\"color: #A2F; font-weight: bold\">.</span>type_annotation(<span style=\"color: #BA2121\">&quot;float32&quot;</span>), A_1, T<span style=\"color: #A2F; font-weight: bold\">.</span>Mul(<span style=\"color: #008000\">0</span>, <span style=\"color: #008000\">4</span>), <span style=\"color: #008000\">4</span>, <span style=\"color: #008000\">1</span>),\n",
              "                T<span style=\"color: #A2F; font-weight: bold\">.</span>tvm_access_ptr(T<span style=\"color: #A2F; font-weight: bold\">.</span>type_annotation(<span style=\"color: #BA2121\">&quot;float32&quot;</span>), B_1, T<span style=\"color: #A2F; font-weight: bold\">.</span>Mul(<span style=\"color: #008000\">0</span>, <span style=\"color: #008000\">4</span>), <span style=\"color: #008000\">4</span>, <span style=\"color: #008000\">1</span>),\n",
              "                T<span style=\"color: #A2F; font-weight: bold\">.</span>tvm_access_ptr(T<span style=\"color: #A2F; font-weight: bold\">.</span>type_annotation(<span style=\"color: #BA2121\">&quot;float32&quot;</span>), C, T<span style=\"color: #A2F; font-weight: bold\">.</span>Mul(<span style=\"color: #008000\">0</span>, <span style=\"color: #008000\">8</span>), <span style=\"color: #008000\">4</span>, <span style=\"color: #008000\">3</span>),\n",
              "            )\n",
              "            T<span style=\"color: #A2F; font-weight: bold\">.</span>call_extern(\n",
              "                <span style=\"color: #BA2121\">&quot;int32&quot;</span>,\n",
              "                <span style=\"color: #BA2121\">&quot;Run&quot;</span>,\n",
              "                T<span style=\"color: #A2F; font-weight: bold\">.</span>tvm_access_ptr(T<span style=\"color: #A2F; font-weight: bold\">.</span>type_annotation(<span style=\"color: #BA2121\">&quot;float32&quot;</span>), A_1, T<span style=\"color: #A2F; font-weight: bold\">.</span>Mul(<span style=\"color: #008000\">1</span>, <span style=\"color: #008000\">4</span>), <span style=\"color: #008000\">4</span>, <span style=\"color: #008000\">1</span>),\n",
              "                T<span style=\"color: #A2F; font-weight: bold\">.</span>tvm_access_ptr(T<span style=\"color: #A2F; font-weight: bold\">.</span>type_annotation(<span style=\"color: #BA2121\">&quot;float32&quot;</span>), B_1, T<span style=\"color: #A2F; font-weight: bold\">.</span>Mul(<span style=\"color: #008000\">0</span>, <span style=\"color: #008000\">4</span>), <span style=\"color: #008000\">4</span>, <span style=\"color: #008000\">1</span>),\n",
              "                T<span style=\"color: #A2F; font-weight: bold\">.</span>tvm_access_ptr(T<span style=\"color: #A2F; font-weight: bold\">.</span>type_annotation(<span style=\"color: #BA2121\">&quot;float32&quot;</span>), C, T<span style=\"color: #A2F; font-weight: bold\">.</span>Mul(<span style=\"color: #008000\">1</span>, <span style=\"color: #008000\">8</span>), <span style=\"color: #008000\">4</span>, <span style=\"color: #008000\">3</span>),\n",
              "            )\n",
              "            T<span style=\"color: #A2F; font-weight: bold\">.</span>call_extern(\n",
              "                <span style=\"color: #BA2121\">&quot;int32&quot;</span>,\n",
              "                <span style=\"color: #BA2121\">&quot;Run&quot;</span>,\n",
              "                T<span style=\"color: #A2F; font-weight: bold\">.</span>tvm_access_ptr(T<span style=\"color: #A2F; font-weight: bold\">.</span>type_annotation(<span style=\"color: #BA2121\">&quot;float32&quot;</span>), A_1, T<span style=\"color: #A2F; font-weight: bold\">.</span>Mul(<span style=\"color: #008000\">0</span>, <span style=\"color: #008000\">4</span>), <span style=\"color: #008000\">4</span>, <span style=\"color: #008000\">1</span>),\n",
              "                T<span style=\"color: #A2F; font-weight: bold\">.</span>tvm_access_ptr(T<span style=\"color: #A2F; font-weight: bold\">.</span>type_annotation(<span style=\"color: #BA2121\">&quot;float32&quot;</span>), B_1, T<span style=\"color: #A2F; font-weight: bold\">.</span>Mul(<span style=\"color: #008000\">1</span>, <span style=\"color: #008000\">4</span>), <span style=\"color: #008000\">4</span>, <span style=\"color: #008000\">1</span>),\n",
              "                T<span style=\"color: #A2F; font-weight: bold\">.</span>tvm_access_ptr(\n",
              "                    T<span style=\"color: #A2F; font-weight: bold\">.</span>type_annotation(<span style=\"color: #BA2121\">&quot;float32&quot;</span>), C, T<span style=\"color: #A2F; font-weight: bold\">.</span>Mul(<span style=\"color: #008000\">0</span>, <span style=\"color: #008000\">8</span>) <span style=\"color: #A2F; font-weight: bold\">+</span> <span style=\"color: #008000\">4</span>, <span style=\"color: #008000\">4</span>, <span style=\"color: #008000\">3</span>\n",
              "                ),\n",
              "            )\n",
              "            T<span style=\"color: #A2F; font-weight: bold\">.</span>call_extern(\n",
              "                <span style=\"color: #BA2121\">&quot;int32&quot;</span>,\n",
              "                <span style=\"color: #BA2121\">&quot;Run&quot;</span>,\n",
              "                T<span style=\"color: #A2F; font-weight: bold\">.</span>tvm_access_ptr(T<span style=\"color: #A2F; font-weight: bold\">.</span>type_annotation(<span style=\"color: #BA2121\">&quot;float32&quot;</span>), A_1, T<span style=\"color: #A2F; font-weight: bold\">.</span>Mul(<span style=\"color: #008000\">1</span>, <span style=\"color: #008000\">4</span>), <span style=\"color: #008000\">4</span>, <span style=\"color: #008000\">1</span>),\n",
              "                T<span style=\"color: #A2F; font-weight: bold\">.</span>tvm_access_ptr(T<span style=\"color: #A2F; font-weight: bold\">.</span>type_annotation(<span style=\"color: #BA2121\">&quot;float32&quot;</span>), B_1, T<span style=\"color: #A2F; font-weight: bold\">.</span>Mul(<span style=\"color: #008000\">1</span>, <span style=\"color: #008000\">4</span>), <span style=\"color: #008000\">4</span>, <span style=\"color: #008000\">1</span>),\n",
              "                T<span style=\"color: #A2F; font-weight: bold\">.</span>tvm_access_ptr(\n",
              "                    T<span style=\"color: #A2F; font-weight: bold\">.</span>type_annotation(<span style=\"color: #BA2121\">&quot;float32&quot;</span>), C, T<span style=\"color: #A2F; font-weight: bold\">.</span>Mul(<span style=\"color: #008000\">1</span>, <span style=\"color: #008000\">8</span>) <span style=\"color: #A2F; font-weight: bold\">+</span> <span style=\"color: #008000\">4</span>, <span style=\"color: #008000\">4</span>, <span style=\"color: #008000\">3</span>\n",
              "                ),\n",
              "            )\n",
              "</pre></div>\n"
            ],
            "text/plain": [
              "<IPython.core.display.HTML object>"
            ]
          },
          "metadata": {},
          "output_type": "display_data"
        }
      ],
      "source": [
        "@register\n",
        "def testInjectVirtualThread():\n",
        "    @T.prim_func\n",
        "    def main():\n",
        "        for i in range(100):\n",
        "            vthread = T.launch_thread(\"vthread\", 2)\n",
        "            vthread_1 = T.launch_thread(\"vthread\", 2)\n",
        "            A = T.allocate([4], \"float32\", \"shared\")\n",
        "            B = T.allocate([4], \"float32\", \"shared\")\n",
        "            C = T.allocate([4], \"float32\", \"shared\")\n",
        "\n",
        "            A_1 = T.Buffer((4,), data=A, scope=\"shared\")\n",
        "            A_1[vthread] = T.Cast(\"float32\", vthread) + T.float32(1.0)\n",
        "\n",
        "            B_1 = T.Buffer((4,), data=B, scope=\"shared\")\n",
        "            B_1[vthread_1] = T.Cast(\"float32\", vthread_1) + T.float32(1.0)\n",
        "\n",
        "            T.call_extern(\n",
        "                \"int32\",\n",
        "                \"Run\",\n",
        "                T.tvm_access_ptr(T.type_annotation(\"float32\"), A, 0, 4, 1),\n",
        "                T.tvm_access_ptr(T.type_annotation(\"float32\"), B, 0, 4, 1),\n",
        "                T.tvm_access_ptr(T.type_annotation(\"float32\"), C, 0, 4, 3),\n",
        "            )\n",
        "\n",
        "    mod = tvm.IRModule.from_expr(main)\n",
        "    showmod(mod)\n",
        "\n",
        "    newMod = tvm.tir.transform.InjectVirtualThread()(mod)\n",
        "    showmod(newMod)\n",
        "\n",
        "\n",
        "testSuites[\"testInjectVirtualThread\"]()"
      ]
    },
    {
      "cell_type": "code",
      "execution_count": null,
      "id": "6",
      "metadata": {},
      "outputs": [
        {
          "data": {
            "text/html": [
              "<div class=\"highlight\" style=\"background: \"><pre style=\"line-height: 125%;\"><span></span><span style=\"color: #007979; font-style: italic\"># from tvm.script import ir as I</span>\n",
              "<span style=\"color: #007979; font-style: italic\"># from tvm.script import tir as T</span>\n",
              "\n",
              "\n",
              "<span style=\"color: #A2F\">@I</span><span style=\"color: #A2F; font-weight: bold\">.</span>ir_module\n",
              "<span style=\"color: #008000; font-weight: bold\">class</span> <span style=\"color: #00F; font-weight: bold\">Module</span>:\n",
              "    <span style=\"color: #A2F\">@T</span><span style=\"color: #A2F; font-weight: bold\">.</span>prim_func\n",
              "    <span style=\"color: #008000; font-weight: bold\">def</span> <span style=\"color: #00F\">main</span>(A: T<span style=\"color: #A2F; font-weight: bold\">.</span>Buffer((<span style=\"color: #008000\">10</span>, <span style=\"color: #008000\">10</span>), <span style=\"color: #BA2121\">&quot;float32&quot;</span>)):\n",
              "        <span style=\"color: #008000; font-weight: bold\">for</span> i, j <span style=\"color: #008000; font-weight: bold\">in</span> T<span style=\"color: #A2F; font-weight: bold\">.</span>grid(<span style=\"color: #008000\">10</span>, <span style=\"color: #008000\">10</span>):\n",
              "            <span style=\"color: #008000; font-weight: bold\">if</span> i <span style=\"color: #A2F; font-weight: bold\">+</span> j <span style=\"color: #A2F; font-weight: bold\">&lt;</span> <span style=\"color: #008000\">16</span>:\n",
              "                T<span style=\"color: #A2F; font-weight: bold\">.</span>evaluate(<span style=\"color: #008000\">0</span>)\n",
              "            <span style=\"color: #008000; font-weight: bold\">else</span>:\n",
              "                A[i, j] <span style=\"color: #A2F; font-weight: bold\">=</span> T<span style=\"color: #A2F; font-weight: bold\">.</span>float32(<span style=\"color: #008000\">1.0</span>)\n",
              "</pre></div>\n"
            ],
            "text/plain": [
              "<IPython.core.display.HTML object>"
            ]
          },
          "metadata": {},
          "output_type": "display_data"
        },
        {
          "data": {
            "text/html": [
              "<div class=\"highlight\" style=\"background: \"><pre style=\"line-height: 125%;\"><span></span><span style=\"color: #008000; font-weight: bold\">for</span> i, j <span style=\"color: #008000; font-weight: bold\">in</span> T<span style=\"color: #A2F; font-weight: bold\">.</span>grid(<span style=\"color: #008000\">10</span>, <span style=\"color: #008000\">10</span>):\n",
              "    <span style=\"color: #008000; font-weight: bold\">if</span> <span style=\"color: #008000; font-weight: bold\">not</span> i <span style=\"color: #A2F; font-weight: bold\">+</span> j <span style=\"color: #A2F; font-weight: bold\">&lt;</span> <span style=\"color: #008000\">16</span>:\n",
              "        A <span style=\"color: #A2F; font-weight: bold\">=</span> T<span style=\"color: #A2F; font-weight: bold\">.</span>Buffer((<span style=\"color: #008000\">10</span>, <span style=\"color: #008000\">10</span>))\n",
              "        A[i, j] <span style=\"color: #A2F; font-weight: bold\">=</span> T<span style=\"color: #A2F; font-weight: bold\">.</span>float32(<span style=\"color: #008000\">1.0</span>)\n",
              "</pre></div>\n"
            ],
            "text/plain": [
              "<IPython.core.display.HTML object>"
            ]
          },
          "metadata": {},
          "output_type": "display_data"
        }
      ],
      "source": [
        "@register\n",
        "def testRemoveNoOp():\n",
        "    @T.prim_func\n",
        "    def main(A: T.Buffer((10, 10), \"float32\")):\n",
        "        for i, j in T.grid(10, 10):\n",
        "            if i + j < 16:\n",
        "                T.evaluate(0)  # nop\n",
        "            else:\n",
        "                A[i, j] = 1\n",
        "\n",
        "    mod = tvm.IRModule.from_expr(main)\n",
        "    showmod(mod)\n",
        "\n",
        "    ret = tvm.tir.transform.RemoveNoOp()(mod)[\"main\"].body\n",
        "    showmod(ret)\n",
        "\n",
        "\n",
        "testSuites[\"testRemoveNoOp\"]()"
      ]
    },
    {
      "cell_type": "code",
      "execution_count": null,
      "id": "7",
      "metadata": {},
      "outputs": [
        {
          "data": {
            "text/html": [
              "<div class=\"highlight\" style=\"background: \"><pre style=\"line-height: 125%;\"><span></span><span style=\"color: #007979; font-style: italic\"># from tvm.script import ir as I</span>\n",
              "<span style=\"color: #007979; font-style: italic\"># from tvm.script import tir as T</span>\n",
              "\n",
              "\n",
              "<span style=\"color: #A2F\">@I</span><span style=\"color: #A2F; font-weight: bold\">.</span>ir_module\n",
              "<span style=\"color: #008000; font-weight: bold\">class</span> <span style=\"color: #00F; font-weight: bold\">Module</span>:\n",
              "    <span style=\"color: #A2F\">@T</span><span style=\"color: #A2F; font-weight: bold\">.</span>prim_func(private<span style=\"color: #A2F; font-weight: bold\">=</span><span style=\"color: #008000; font-weight: bold\">True</span>)\n",
              "    <span style=\"color: #008000; font-weight: bold\">def</span> <span style=\"color: #00F\">main</span>(A: T<span style=\"color: #A2F; font-weight: bold\">.</span>Buffer((<span style=\"color: #008000\">16</span>,), <span style=\"color: #BA2121\">&quot;int32&quot;</span>)):\n",
              "        n: T<span style=\"color: #A2F; font-weight: bold\">.</span>int32 <span style=\"color: #A2F; font-weight: bold\">=</span> <span style=\"color: #008000\">10</span>\n",
              "        c: T<span style=\"color: #A2F; font-weight: bold\">.</span>int32 <span style=\"color: #A2F; font-weight: bold\">=</span> <span style=\"color: #008000\">6</span>\n",
              "        <span style=\"color: #008000; font-weight: bold\">for</span> i <span style=\"color: #008000; font-weight: bold\">in</span> range(n):\n",
              "            A[i] <span style=\"color: #A2F; font-weight: bold\">=</span> n <span style=\"color: #A2F; font-weight: bold\">+</span> c\n",
              "</pre></div>\n"
            ],
            "text/plain": [
              "<IPython.core.display.HTML object>"
            ]
          },
          "metadata": {},
          "output_type": "display_data"
        },
        {
          "data": {
            "text/html": [
              "<div class=\"highlight\" style=\"background: \"><pre style=\"line-height: 125%;\"><span></span><span style=\"color: #007979; font-style: italic\"># from tvm.script import ir as I</span>\n",
              "<span style=\"color: #007979; font-style: italic\"># from tvm.script import tir as T</span>\n",
              "\n",
              "\n",
              "<span style=\"color: #A2F\">@I</span><span style=\"color: #A2F; font-weight: bold\">.</span>ir_module\n",
              "<span style=\"color: #008000; font-weight: bold\">class</span> <span style=\"color: #00F; font-weight: bold\">Module</span>:\n",
              "    <span style=\"color: #A2F\">@T</span><span style=\"color: #A2F; font-weight: bold\">.</span>prim_func(private<span style=\"color: #A2F; font-weight: bold\">=</span><span style=\"color: #008000; font-weight: bold\">True</span>)\n",
              "    <span style=\"color: #008000; font-weight: bold\">def</span> <span style=\"color: #00F\">main</span>(A: T<span style=\"color: #A2F; font-weight: bold\">.</span>Buffer((<span style=\"color: #008000\">16</span>,), <span style=\"color: #BA2121\">&quot;int32&quot;</span>)):\n",
              "        <span style=\"color: #008000; font-weight: bold\">for</span> i <span style=\"color: #008000; font-weight: bold\">in</span> range(<span style=\"color: #008000\">10</span>):\n",
              "            A[i] <span style=\"color: #A2F; font-weight: bold\">=</span> <span style=\"color: #008000\">16</span>\n",
              "</pre></div>\n"
            ],
            "text/plain": [
              "<IPython.core.display.HTML object>"
            ]
          },
          "metadata": {},
          "output_type": "display_data"
        }
      ],
      "source": [
        "@register\n",
        "def testSimplify():\n",
        "    @I.ir_module\n",
        "    class Module:\n",
        "        @T.prim_func(private=True)\n",
        "        def main(A: T.Buffer((16,), \"int32\")):\n",
        "            n = tvm.te.var(\"n\", \"int32\")\n",
        "            with T.LetStmt(10, var=n):\n",
        "                c = 6\n",
        "                for i in T.serial(0, n):\n",
        "                    A[i] = n + c\n",
        "\n",
        "    showmod(Module)\n",
        "\n",
        "    body = tvm.tir.transform.Simplify()(Module)\n",
        "    showmod(body)\n",
        "\n",
        "\n",
        "testSuites[\"testSimplify\"]()"
      ]
    },
    {
      "cell_type": "code",
      "execution_count": null,
      "id": "8",
      "metadata": {},
      "outputs": [
        {
          "name": "stdout",
          "output_type": "stream",
          "text": [
            "🚀🚀🚀Running test suites:\n",
            "⏳⏳⏳Running test suite: testLoopPartition\n"
          ]
        },
        {
          "data": {
            "text/html": [
              "<div class=\"highlight\" style=\"background: \"><pre style=\"line-height: 125%;\"><span></span><span style=\"color: #007979; font-style: italic\"># from tvm.script import ir as I</span>\n",
              "<span style=\"color: #007979; font-style: italic\"># from tvm.script import tir as T</span>\n",
              "\n",
              "\n",
              "<span style=\"color: #A2F\">@I</span><span style=\"color: #A2F; font-weight: bold\">.</span>ir_module\n",
              "<span style=\"color: #008000; font-weight: bold\">class</span> <span style=\"color: #00F; font-weight: bold\">Module</span>:\n",
              "    <span style=\"color: #A2F\">@T</span><span style=\"color: #A2F; font-weight: bold\">.</span>prim_func\n",
              "    <span style=\"color: #008000; font-weight: bold\">def</span> <span style=\"color: #00F\">main</span>(n: T<span style=\"color: #A2F; font-weight: bold\">.</span>int32, m: T<span style=\"color: #A2F; font-weight: bold\">.</span>int32):\n",
              "        <span style=\"color: #008000; font-weight: bold\">for</span> i, j, k <span style=\"color: #008000; font-weight: bold\">in</span> T<span style=\"color: #A2F; font-weight: bold\">.</span>grid(<span style=\"color: #008000\">4</span>, n, m):\n",
              "            <span style=\"color: #008000; font-weight: bold\">if</span> T<span style=\"color: #A2F; font-weight: bold\">.</span>likely(i <span style=\"color: #A2F; font-weight: bold\">*</span> m <span style=\"color: #A2F; font-weight: bold\">+</span> j <span style=\"color: #A2F; font-weight: bold\">+</span> k <span style=\"color: #A2F; font-weight: bold\">&lt;</span> n):\n",
              "                T<span style=\"color: #A2F; font-weight: bold\">.</span>evaluate(m)\n",
              "            <span style=\"color: #008000; font-weight: bold\">else</span>:\n",
              "                T<span style=\"color: #A2F; font-weight: bold\">.</span>evaluate(n)\n",
              "</pre></div>\n"
            ],
            "text/plain": [
              "<IPython.core.display.HTML object>"
            ]
          },
          "metadata": {},
          "output_type": "display_data"
        },
        {
          "name": "stdout",
          "output_type": "stream",
          "text": [
            "Partitioned Module:\n"
          ]
        },
        {
          "data": {
            "text/html": [
              "<div class=\"highlight\" style=\"background: \"><pre style=\"line-height: 125%;\"><span></span><span style=\"color: #007979; font-style: italic\"># from tvm.script import ir as I</span>\n",
              "<span style=\"color: #007979; font-style: italic\"># from tvm.script import tir as T</span>\n",
              "\n",
              "\n",
              "<span style=\"color: #A2F\">@I</span><span style=\"color: #A2F; font-weight: bold\">.</span>ir_module\n",
              "<span style=\"color: #008000; font-weight: bold\">class</span> <span style=\"color: #00F; font-weight: bold\">Module</span>:\n",
              "    <span style=\"color: #A2F\">@T</span><span style=\"color: #A2F; font-weight: bold\">.</span>prim_func\n",
              "    <span style=\"color: #008000; font-weight: bold\">def</span> <span style=\"color: #00F\">main</span>(n: T<span style=\"color: #A2F; font-weight: bold\">.</span>int32, m: T<span style=\"color: #A2F; font-weight: bold\">.</span>int32):\n",
              "        <span style=\"color: #008000; font-weight: bold\">for</span> i <span style=\"color: #008000; font-weight: bold\">in</span> range(<span style=\"color: #008000\">4</span>):\n",
              "            <span style=\"color: #008000; font-weight: bold\">for</span> j, k <span style=\"color: #008000; font-weight: bold\">in</span> T<span style=\"color: #A2F; font-weight: bold\">.</span>grid(T<span style=\"color: #A2F; font-weight: bold\">.</span>min(n <span style=\"color: #A2F; font-weight: bold\">+</span> <span style=\"color: #008000\">1</span> <span style=\"color: #A2F; font-weight: bold\">-</span> m <span style=\"color: #A2F; font-weight: bold\">-</span> i <span style=\"color: #A2F; font-weight: bold\">*</span> m, n <span style=\"color: #A2F; font-weight: bold\">-</span> <span style=\"color: #008000\">1</span> <span style=\"color: #A2F; font-weight: bold\">+</span> <span style=\"color: #008000\">1</span>), m):\n",
              "                <span style=\"color: #008000; font-weight: bold\">if</span> T<span style=\"color: #A2F; font-weight: bold\">.</span>bool(<span style=\"color: #008000; font-weight: bold\">True</span>):\n",
              "                    T<span style=\"color: #A2F; font-weight: bold\">.</span>evaluate(m)\n",
              "                <span style=\"color: #008000; font-weight: bold\">else</span>:\n",
              "                    T<span style=\"color: #A2F; font-weight: bold\">.</span>evaluate(n)\n",
              "            <span style=\"color: #008000; font-weight: bold\">for</span> j, k <span style=\"color: #008000; font-weight: bold\">in</span> T<span style=\"color: #A2F; font-weight: bold\">.</span>grid(m <span style=\"color: #A2F; font-weight: bold\">*</span> (i <span style=\"color: #A2F; font-weight: bold\">+</span> <span style=\"color: #008000\">1</span>) <span style=\"color: #A2F; font-weight: bold\">-</span> <span style=\"color: #008000\">1</span>, m):\n",
              "                <span style=\"color: #008000; font-weight: bold\">if</span> i <span style=\"color: #A2F; font-weight: bold\">*</span> m <span style=\"color: #A2F; font-weight: bold\">+</span> (j <span style=\"color: #A2F; font-weight: bold\">+</span> T<span style=\"color: #A2F; font-weight: bold\">.</span>min(n <span style=\"color: #A2F; font-weight: bold\">+</span> <span style=\"color: #008000\">1</span> <span style=\"color: #A2F; font-weight: bold\">-</span> m <span style=\"color: #A2F; font-weight: bold\">-</span> i <span style=\"color: #A2F; font-weight: bold\">*</span> m, n <span style=\"color: #A2F; font-weight: bold\">-</span> <span style=\"color: #008000\">1</span> <span style=\"color: #A2F; font-weight: bold\">+</span> <span style=\"color: #008000\">1</span>)) <span style=\"color: #A2F; font-weight: bold\">+</span> k <span style=\"color: #A2F; font-weight: bold\">&lt;</span> n:\n",
              "                    T<span style=\"color: #A2F; font-weight: bold\">.</span>evaluate(m)\n",
              "                <span style=\"color: #008000; font-weight: bold\">else</span>:\n",
              "                    T<span style=\"color: #A2F; font-weight: bold\">.</span>evaluate(n)\n",
              "</pre></div>\n"
            ],
            "text/plain": [
              "<IPython.core.display.HTML object>"
            ]
          },
          "metadata": {},
          "output_type": "display_data"
        },
        {
          "name": "stdout",
          "output_type": "stream",
          "text": [
            "✅✅✅Test suite: testLoopPartition passed\n",
            "⏳⏳⏳Running test suite: testLoopVectorize\n",
            "✅✅✅Test suite: testLoopVectorize passed\n",
            "⏳⏳⏳Running test suite: testLoopUnroll\n"
          ]
        },
        {
          "data": {
            "text/html": [
              "<div class=\"highlight\" style=\"background: \"><pre style=\"line-height: 125%;\"><span></span><span style=\"color: #007979; font-style: italic\"># from tvm.script import ir as I</span>\n",
              "<span style=\"color: #007979; font-style: italic\"># from tvm.script import tir as T</span>\n",
              "\n",
              "\n",
              "<span style=\"color: #A2F\">@I</span><span style=\"color: #A2F; font-weight: bold\">.</span>ir_module\n",
              "<span style=\"color: #008000; font-weight: bold\">class</span> <span style=\"color: #00F; font-weight: bold\">Module</span>:\n",
              "    <span style=\"color: #A2F\">@T</span><span style=\"color: #A2F; font-weight: bold\">.</span>prim_func\n",
              "    <span style=\"color: #008000; font-weight: bold\">def</span> <span style=\"color: #00F\">main</span>(bufPtr: T<span style=\"color: #A2F; font-weight: bold\">.</span>handle):\n",
              "        n <span style=\"color: #A2F; font-weight: bold\">=</span> T<span style=\"color: #A2F; font-weight: bold\">.</span>int32(is_size_var<span style=\"color: #A2F; font-weight: bold\">=</span><span style=\"color: #008000; font-weight: bold\">True</span>)\n",
              "        buffer_1 <span style=\"color: #A2F; font-weight: bold\">=</span> T<span style=\"color: #A2F; font-weight: bold\">.</span>match_buffer(bufPtr, (n,), <span style=\"color: #BA2121\">&quot;int32&quot;</span>)\n",
              "        <span style=\"color: #008000; font-weight: bold\">for</span> i <span style=\"color: #008000; font-weight: bold\">in</span> range(n, n <span style=\"color: #A2F; font-weight: bold\">+</span> <span style=\"color: #008000\">2</span>):\n",
              "            <span style=\"color: #008000; font-weight: bold\">for</span> j <span style=\"color: #008000; font-weight: bold\">in</span> T<span style=\"color: #A2F; font-weight: bold\">.</span>unroll(<span style=\"color: #008000\">8</span>):\n",
              "                buffer_1[j <span style=\"color: #A2F; font-weight: bold\">+</span> <span style=\"color: #008000\">1</span>] <span style=\"color: #A2F; font-weight: bold\">=</span> buffer_1[i] <span style=\"color: #A2F; font-weight: bold\">+</span> <span style=\"color: #008000\">1</span>\n",
              "</pre></div>\n"
            ],
            "text/plain": [
              "<IPython.core.display.HTML object>"
            ]
          },
          "metadata": {},
          "output_type": "display_data"
        },
        {
          "data": {
            "text/html": [
              "<div class=\"highlight\" style=\"background: \"><pre style=\"line-height: 125%;\"><span></span><span style=\"color: #007979; font-style: italic\"># from tvm.script import ir as I</span>\n",
              "<span style=\"color: #007979; font-style: italic\"># from tvm.script import tir as T</span>\n",
              "\n",
              "\n",
              "<span style=\"color: #A2F\">@I</span><span style=\"color: #A2F; font-weight: bold\">.</span>ir_module\n",
              "<span style=\"color: #008000; font-weight: bold\">class</span> <span style=\"color: #00F; font-weight: bold\">Module</span>:\n",
              "    <span style=\"color: #A2F\">@T</span><span style=\"color: #A2F; font-weight: bold\">.</span>prim_func\n",
              "    <span style=\"color: #008000; font-weight: bold\">def</span> <span style=\"color: #00F\">main</span>(bufPtr: T<span style=\"color: #A2F; font-weight: bold\">.</span>handle):\n",
              "        n <span style=\"color: #A2F; font-weight: bold\">=</span> T<span style=\"color: #A2F; font-weight: bold\">.</span>int32(is_size_var<span style=\"color: #A2F; font-weight: bold\">=</span><span style=\"color: #008000; font-weight: bold\">True</span>)\n",
              "        buffer_1 <span style=\"color: #A2F; font-weight: bold\">=</span> T<span style=\"color: #A2F; font-weight: bold\">.</span>match_buffer(bufPtr, (n,), <span style=\"color: #BA2121\">&quot;int32&quot;</span>)\n",
              "        buffer_1[T<span style=\"color: #A2F; font-weight: bold\">.</span>Add(<span style=\"color: #008000\">0</span>, <span style=\"color: #008000\">1</span>)] <span style=\"color: #A2F; font-weight: bold\">=</span> buffer_1[n] <span style=\"color: #A2F; font-weight: bold\">+</span> <span style=\"color: #008000\">1</span>\n",
              "        buffer_1[T<span style=\"color: #A2F; font-weight: bold\">.</span>Add(<span style=\"color: #008000\">1</span>, <span style=\"color: #008000\">1</span>)] <span style=\"color: #A2F; font-weight: bold\">=</span> buffer_1[n] <span style=\"color: #A2F; font-weight: bold\">+</span> <span style=\"color: #008000\">1</span>\n",
              "        buffer_1[T<span style=\"color: #A2F; font-weight: bold\">.</span>Add(<span style=\"color: #008000\">2</span>, <span style=\"color: #008000\">1</span>)] <span style=\"color: #A2F; font-weight: bold\">=</span> buffer_1[n] <span style=\"color: #A2F; font-weight: bold\">+</span> <span style=\"color: #008000\">1</span>\n",
              "        buffer_1[T<span style=\"color: #A2F; font-weight: bold\">.</span>Add(<span style=\"color: #008000\">3</span>, <span style=\"color: #008000\">1</span>)] <span style=\"color: #A2F; font-weight: bold\">=</span> buffer_1[n] <span style=\"color: #A2F; font-weight: bold\">+</span> <span style=\"color: #008000\">1</span>\n",
              "        buffer_1[T<span style=\"color: #A2F; font-weight: bold\">.</span>Add(<span style=\"color: #008000\">4</span>, <span style=\"color: #008000\">1</span>)] <span style=\"color: #A2F; font-weight: bold\">=</span> buffer_1[n] <span style=\"color: #A2F; font-weight: bold\">+</span> <span style=\"color: #008000\">1</span>\n",
              "        buffer_1[T<span style=\"color: #A2F; font-weight: bold\">.</span>Add(<span style=\"color: #008000\">5</span>, <span style=\"color: #008000\">1</span>)] <span style=\"color: #A2F; font-weight: bold\">=</span> buffer_1[n] <span style=\"color: #A2F; font-weight: bold\">+</span> <span style=\"color: #008000\">1</span>\n",
              "        buffer_1[T<span style=\"color: #A2F; font-weight: bold\">.</span>Add(<span style=\"color: #008000\">6</span>, <span style=\"color: #008000\">1</span>)] <span style=\"color: #A2F; font-weight: bold\">=</span> buffer_1[n] <span style=\"color: #A2F; font-weight: bold\">+</span> <span style=\"color: #008000\">1</span>\n",
              "        buffer_1[T<span style=\"color: #A2F; font-weight: bold\">.</span>Add(<span style=\"color: #008000\">7</span>, <span style=\"color: #008000\">1</span>)] <span style=\"color: #A2F; font-weight: bold\">=</span> buffer_1[n] <span style=\"color: #A2F; font-weight: bold\">+</span> <span style=\"color: #008000\">1</span>\n",
              "        buffer_1[T<span style=\"color: #A2F; font-weight: bold\">.</span>Add(<span style=\"color: #008000\">0</span>, <span style=\"color: #008000\">1</span>)] <span style=\"color: #A2F; font-weight: bold\">=</span> buffer_1[n <span style=\"color: #A2F; font-weight: bold\">+</span> <span style=\"color: #008000\">1</span>] <span style=\"color: #A2F; font-weight: bold\">+</span> <span style=\"color: #008000\">1</span>\n",
              "        buffer_1[T<span style=\"color: #A2F; font-weight: bold\">.</span>Add(<span style=\"color: #008000\">1</span>, <span style=\"color: #008000\">1</span>)] <span style=\"color: #A2F; font-weight: bold\">=</span> buffer_1[n <span style=\"color: #A2F; font-weight: bold\">+</span> <span style=\"color: #008000\">1</span>] <span style=\"color: #A2F; font-weight: bold\">+</span> <span style=\"color: #008000\">1</span>\n",
              "        buffer_1[T<span style=\"color: #A2F; font-weight: bold\">.</span>Add(<span style=\"color: #008000\">2</span>, <span style=\"color: #008000\">1</span>)] <span style=\"color: #A2F; font-weight: bold\">=</span> buffer_1[n <span style=\"color: #A2F; font-weight: bold\">+</span> <span style=\"color: #008000\">1</span>] <span style=\"color: #A2F; font-weight: bold\">+</span> <span style=\"color: #008000\">1</span>\n",
              "        buffer_1[T<span style=\"color: #A2F; font-weight: bold\">.</span>Add(<span style=\"color: #008000\">3</span>, <span style=\"color: #008000\">1</span>)] <span style=\"color: #A2F; font-weight: bold\">=</span> buffer_1[n <span style=\"color: #A2F; font-weight: bold\">+</span> <span style=\"color: #008000\">1</span>] <span style=\"color: #A2F; font-weight: bold\">+</span> <span style=\"color: #008000\">1</span>\n",
              "        buffer_1[T<span style=\"color: #A2F; font-weight: bold\">.</span>Add(<span style=\"color: #008000\">4</span>, <span style=\"color: #008000\">1</span>)] <span style=\"color: #A2F; font-weight: bold\">=</span> buffer_1[n <span style=\"color: #A2F; font-weight: bold\">+</span> <span style=\"color: #008000\">1</span>] <span style=\"color: #A2F; font-weight: bold\">+</span> <span style=\"color: #008000\">1</span>\n",
              "        buffer_1[T<span style=\"color: #A2F; font-weight: bold\">.</span>Add(<span style=\"color: #008000\">5</span>, <span style=\"color: #008000\">1</span>)] <span style=\"color: #A2F; font-weight: bold\">=</span> buffer_1[n <span style=\"color: #A2F; font-weight: bold\">+</span> <span style=\"color: #008000\">1</span>] <span style=\"color: #A2F; font-weight: bold\">+</span> <span style=\"color: #008000\">1</span>\n",
              "        buffer_1[T<span style=\"color: #A2F; font-weight: bold\">.</span>Add(<span style=\"color: #008000\">6</span>, <span style=\"color: #008000\">1</span>)] <span style=\"color: #A2F; font-weight: bold\">=</span> buffer_1[n <span style=\"color: #A2F; font-weight: bold\">+</span> <span style=\"color: #008000\">1</span>] <span style=\"color: #A2F; font-weight: bold\">+</span> <span style=\"color: #008000\">1</span>\n",
              "        buffer_1[T<span style=\"color: #A2F; font-weight: bold\">.</span>Add(<span style=\"color: #008000\">7</span>, <span style=\"color: #008000\">1</span>)] <span style=\"color: #A2F; font-weight: bold\">=</span> buffer_1[n <span style=\"color: #A2F; font-weight: bold\">+</span> <span style=\"color: #008000\">1</span>] <span style=\"color: #A2F; font-weight: bold\">+</span> <span style=\"color: #008000\">1</span>\n",
              "</pre></div>\n"
            ],
            "text/plain": [
              "<IPython.core.display.HTML object>"
            ]
          },
          "metadata": {},
          "output_type": "display_data"
        },
        {
          "name": "stdout",
          "output_type": "stream",
          "text": [
            "✅✅✅Test suite: testLoopUnroll passed\n",
            "⏳⏳⏳Running test suite: testInjectVirtualThread\n"
          ]
        },
        {
          "data": {
            "text/html": [
              "<div class=\"highlight\" style=\"background: \"><pre style=\"line-height: 125%;\"><span></span><span style=\"color: #007979; font-style: italic\"># from tvm.script import ir as I</span>\n",
              "<span style=\"color: #007979; font-style: italic\"># from tvm.script import tir as T</span>\n",
              "\n",
              "\n",
              "<span style=\"color: #A2F\">@I</span><span style=\"color: #A2F; font-weight: bold\">.</span>ir_module\n",
              "<span style=\"color: #008000; font-weight: bold\">class</span> <span style=\"color: #00F; font-weight: bold\">Module</span>:\n",
              "    <span style=\"color: #A2F\">@T</span><span style=\"color: #A2F; font-weight: bold\">.</span>prim_func\n",
              "    <span style=\"color: #008000; font-weight: bold\">def</span> <span style=\"color: #00F\">main</span>():\n",
              "        <span style=\"color: #008000; font-weight: bold\">for</span> i <span style=\"color: #008000; font-weight: bold\">in</span> range(<span style=\"color: #008000\">100</span>):\n",
              "            vthread <span style=\"color: #A2F; font-weight: bold\">=</span> T<span style=\"color: #A2F; font-weight: bold\">.</span>launch_thread(<span style=\"color: #BA2121\">&quot;vthread&quot;</span>, <span style=\"color: #008000\">2</span>)\n",
              "            vthread_1 <span style=\"color: #A2F; font-weight: bold\">=</span> T<span style=\"color: #A2F; font-weight: bold\">.</span>launch_thread(<span style=\"color: #BA2121\">&quot;vthread&quot;</span>, <span style=\"color: #008000\">2</span>)\n",
              "            A_1 <span style=\"color: #A2F; font-weight: bold\">=</span> T<span style=\"color: #A2F; font-weight: bold\">.</span>allocate([<span style=\"color: #008000\">4</span>], <span style=\"color: #BA2121\">&quot;float32&quot;</span>, <span style=\"color: #BA2121\">&quot;shared&quot;</span>)\n",
              "            B_1 <span style=\"color: #A2F; font-weight: bold\">=</span> T<span style=\"color: #A2F; font-weight: bold\">.</span>allocate([<span style=\"color: #008000\">4</span>], <span style=\"color: #BA2121\">&quot;float32&quot;</span>, <span style=\"color: #BA2121\">&quot;shared&quot;</span>)\n",
              "            C <span style=\"color: #A2F; font-weight: bold\">=</span> T<span style=\"color: #A2F; font-weight: bold\">.</span>allocate([<span style=\"color: #008000\">4</span>], <span style=\"color: #BA2121\">&quot;float32&quot;</span>, <span style=\"color: #BA2121\">&quot;shared&quot;</span>)\n",
              "            A_1_1 <span style=\"color: #A2F; font-weight: bold\">=</span> T<span style=\"color: #A2F; font-weight: bold\">.</span>Buffer((<span style=\"color: #008000\">4</span>,), data<span style=\"color: #A2F; font-weight: bold\">=</span>A_1, scope<span style=\"color: #A2F; font-weight: bold\">=</span><span style=\"color: #BA2121\">&quot;shared&quot;</span>)\n",
              "            A_1_1[vthread] <span style=\"color: #A2F; font-weight: bold\">=</span> T<span style=\"color: #A2F; font-weight: bold\">.</span>Cast(<span style=\"color: #BA2121\">&quot;float32&quot;</span>, vthread) <span style=\"color: #A2F; font-weight: bold\">+</span> T<span style=\"color: #A2F; font-weight: bold\">.</span>float32(<span style=\"color: #008000\">1.0</span>)\n",
              "            B_1_1 <span style=\"color: #A2F; font-weight: bold\">=</span> T<span style=\"color: #A2F; font-weight: bold\">.</span>Buffer((<span style=\"color: #008000\">4</span>,), data<span style=\"color: #A2F; font-weight: bold\">=</span>B_1, scope<span style=\"color: #A2F; font-weight: bold\">=</span><span style=\"color: #BA2121\">&quot;shared&quot;</span>)\n",
              "            B_1_1[vthread_1] <span style=\"color: #A2F; font-weight: bold\">=</span> T<span style=\"color: #A2F; font-weight: bold\">.</span>Cast(<span style=\"color: #BA2121\">&quot;float32&quot;</span>, vthread_1) <span style=\"color: #A2F; font-weight: bold\">+</span> T<span style=\"color: #A2F; font-weight: bold\">.</span>float32(<span style=\"color: #008000\">1.0</span>)\n",
              "            T<span style=\"color: #A2F; font-weight: bold\">.</span>call_extern(\n",
              "                <span style=\"color: #BA2121\">&quot;int32&quot;</span>,\n",
              "                <span style=\"color: #BA2121\">&quot;Run&quot;</span>,\n",
              "                T<span style=\"color: #A2F; font-weight: bold\">.</span>tvm_access_ptr(T<span style=\"color: #A2F; font-weight: bold\">.</span>type_annotation(<span style=\"color: #BA2121\">&quot;float32&quot;</span>), A_1, <span style=\"color: #008000\">0</span>, <span style=\"color: #008000\">4</span>, <span style=\"color: #008000\">1</span>),\n",
              "                T<span style=\"color: #A2F; font-weight: bold\">.</span>tvm_access_ptr(T<span style=\"color: #A2F; font-weight: bold\">.</span>type_annotation(<span style=\"color: #BA2121\">&quot;float32&quot;</span>), B_1, <span style=\"color: #008000\">0</span>, <span style=\"color: #008000\">4</span>, <span style=\"color: #008000\">1</span>),\n",
              "                T<span style=\"color: #A2F; font-weight: bold\">.</span>tvm_access_ptr(T<span style=\"color: #A2F; font-weight: bold\">.</span>type_annotation(<span style=\"color: #BA2121\">&quot;float32&quot;</span>), C, <span style=\"color: #008000\">0</span>, <span style=\"color: #008000\">4</span>, <span style=\"color: #008000\">3</span>),\n",
              "            )\n",
              "</pre></div>\n"
            ],
            "text/plain": [
              "<IPython.core.display.HTML object>"
            ]
          },
          "metadata": {},
          "output_type": "display_data"
        },
        {
          "data": {
            "text/html": [
              "<div class=\"highlight\" style=\"background: \"><pre style=\"line-height: 125%;\"><span></span><span style=\"color: #007979; font-style: italic\"># from tvm.script import ir as I</span>\n",
              "<span style=\"color: #007979; font-style: italic\"># from tvm.script import tir as T</span>\n",
              "\n",
              "\n",
              "<span style=\"color: #A2F\">@I</span><span style=\"color: #A2F; font-weight: bold\">.</span>ir_module\n",
              "<span style=\"color: #008000; font-weight: bold\">class</span> <span style=\"color: #00F; font-weight: bold\">Module</span>:\n",
              "    <span style=\"color: #A2F\">@T</span><span style=\"color: #A2F; font-weight: bold\">.</span>prim_func\n",
              "    <span style=\"color: #008000; font-weight: bold\">def</span> <span style=\"color: #00F\">main</span>():\n",
              "        <span style=\"color: #008000; font-weight: bold\">for</span> i <span style=\"color: #008000; font-weight: bold\">in</span> range(<span style=\"color: #008000\">100</span>):\n",
              "            A_1 <span style=\"color: #A2F; font-weight: bold\">=</span> T<span style=\"color: #A2F; font-weight: bold\">.</span>allocate([<span style=\"color: #008000\">8</span>], <span style=\"color: #BA2121\">&quot;float32&quot;</span>, <span style=\"color: #BA2121\">&quot;shared&quot;</span>)\n",
              "            B_1 <span style=\"color: #A2F; font-weight: bold\">=</span> T<span style=\"color: #A2F; font-weight: bold\">.</span>allocate([<span style=\"color: #008000\">8</span>], <span style=\"color: #BA2121\">&quot;float32&quot;</span>, <span style=\"color: #BA2121\">&quot;shared&quot;</span>)\n",
              "            C <span style=\"color: #A2F; font-weight: bold\">=</span> T<span style=\"color: #A2F; font-weight: bold\">.</span>allocate([<span style=\"color: #008000\">16</span>], <span style=\"color: #BA2121\">&quot;float32&quot;</span>, <span style=\"color: #BA2121\">&quot;shared&quot;</span>)\n",
              "            A_1_1 <span style=\"color: #A2F; font-weight: bold\">=</span> T<span style=\"color: #A2F; font-weight: bold\">.</span>Buffer((<span style=\"color: #008000\">16</span>,), data<span style=\"color: #A2F; font-weight: bold\">=</span>A_1, scope<span style=\"color: #A2F; font-weight: bold\">=</span><span style=\"color: #BA2121\">&quot;shared&quot;</span>)\n",
              "            A_1_1[T<span style=\"color: #A2F; font-weight: bold\">.</span>Mul(<span style=\"color: #008000\">0</span>, <span style=\"color: #008000\">5</span>)] <span style=\"color: #A2F; font-weight: bold\">=</span> T<span style=\"color: #A2F; font-weight: bold\">.</span>Cast(<span style=\"color: #BA2121\">&quot;float32&quot;</span>, <span style=\"color: #008000\">0</span>) <span style=\"color: #A2F; font-weight: bold\">+</span> T<span style=\"color: #A2F; font-weight: bold\">.</span>float32(<span style=\"color: #008000\">1.0</span>)\n",
              "            A_1_1[T<span style=\"color: #A2F; font-weight: bold\">.</span>Mul(<span style=\"color: #008000\">1</span>, <span style=\"color: #008000\">5</span>)] <span style=\"color: #A2F; font-weight: bold\">=</span> T<span style=\"color: #A2F; font-weight: bold\">.</span>Cast(<span style=\"color: #BA2121\">&quot;float32&quot;</span>, <span style=\"color: #008000\">1</span>) <span style=\"color: #A2F; font-weight: bold\">+</span> T<span style=\"color: #A2F; font-weight: bold\">.</span>float32(<span style=\"color: #008000\">1.0</span>)\n",
              "            B_1_1 <span style=\"color: #A2F; font-weight: bold\">=</span> T<span style=\"color: #A2F; font-weight: bold\">.</span>Buffer((<span style=\"color: #008000\">16</span>,), data<span style=\"color: #A2F; font-weight: bold\">=</span>B_1, scope<span style=\"color: #A2F; font-weight: bold\">=</span><span style=\"color: #BA2121\">&quot;shared&quot;</span>)\n",
              "            B_1_1[T<span style=\"color: #A2F; font-weight: bold\">.</span>Mul(<span style=\"color: #008000\">0</span>, <span style=\"color: #008000\">5</span>)] <span style=\"color: #A2F; font-weight: bold\">=</span> T<span style=\"color: #A2F; font-weight: bold\">.</span>Cast(<span style=\"color: #BA2121\">&quot;float32&quot;</span>, <span style=\"color: #008000\">0</span>) <span style=\"color: #A2F; font-weight: bold\">+</span> T<span style=\"color: #A2F; font-weight: bold\">.</span>float32(<span style=\"color: #008000\">1.0</span>)\n",
              "            B_1_1[T<span style=\"color: #A2F; font-weight: bold\">.</span>Mul(<span style=\"color: #008000\">1</span>, <span style=\"color: #008000\">5</span>)] <span style=\"color: #A2F; font-weight: bold\">=</span> T<span style=\"color: #A2F; font-weight: bold\">.</span>Cast(<span style=\"color: #BA2121\">&quot;float32&quot;</span>, <span style=\"color: #008000\">1</span>) <span style=\"color: #A2F; font-weight: bold\">+</span> T<span style=\"color: #A2F; font-weight: bold\">.</span>float32(<span style=\"color: #008000\">1.0</span>)\n",
              "            T<span style=\"color: #A2F; font-weight: bold\">.</span>call_extern(\n",
              "                <span style=\"color: #BA2121\">&quot;int32&quot;</span>,\n",
              "                <span style=\"color: #BA2121\">&quot;Run&quot;</span>,\n",
              "                T<span style=\"color: #A2F; font-weight: bold\">.</span>tvm_access_ptr(T<span style=\"color: #A2F; font-weight: bold\">.</span>type_annotation(<span style=\"color: #BA2121\">&quot;float32&quot;</span>), A_1, T<span style=\"color: #A2F; font-weight: bold\">.</span>Mul(<span style=\"color: #008000\">0</span>, <span style=\"color: #008000\">4</span>), <span style=\"color: #008000\">4</span>, <span style=\"color: #008000\">1</span>),\n",
              "                T<span style=\"color: #A2F; font-weight: bold\">.</span>tvm_access_ptr(T<span style=\"color: #A2F; font-weight: bold\">.</span>type_annotation(<span style=\"color: #BA2121\">&quot;float32&quot;</span>), B_1, T<span style=\"color: #A2F; font-weight: bold\">.</span>Mul(<span style=\"color: #008000\">0</span>, <span style=\"color: #008000\">4</span>), <span style=\"color: #008000\">4</span>, <span style=\"color: #008000\">1</span>),\n",
              "                T<span style=\"color: #A2F; font-weight: bold\">.</span>tvm_access_ptr(T<span style=\"color: #A2F; font-weight: bold\">.</span>type_annotation(<span style=\"color: #BA2121\">&quot;float32&quot;</span>), C, T<span style=\"color: #A2F; font-weight: bold\">.</span>Mul(<span style=\"color: #008000\">0</span>, <span style=\"color: #008000\">8</span>), <span style=\"color: #008000\">4</span>, <span style=\"color: #008000\">3</span>),\n",
              "            )\n",
              "            T<span style=\"color: #A2F; font-weight: bold\">.</span>call_extern(\n",
              "                <span style=\"color: #BA2121\">&quot;int32&quot;</span>,\n",
              "                <span style=\"color: #BA2121\">&quot;Run&quot;</span>,\n",
              "                T<span style=\"color: #A2F; font-weight: bold\">.</span>tvm_access_ptr(T<span style=\"color: #A2F; font-weight: bold\">.</span>type_annotation(<span style=\"color: #BA2121\">&quot;float32&quot;</span>), A_1, T<span style=\"color: #A2F; font-weight: bold\">.</span>Mul(<span style=\"color: #008000\">1</span>, <span style=\"color: #008000\">4</span>), <span style=\"color: #008000\">4</span>, <span style=\"color: #008000\">1</span>),\n",
              "                T<span style=\"color: #A2F; font-weight: bold\">.</span>tvm_access_ptr(T<span style=\"color: #A2F; font-weight: bold\">.</span>type_annotation(<span style=\"color: #BA2121\">&quot;float32&quot;</span>), B_1, T<span style=\"color: #A2F; font-weight: bold\">.</span>Mul(<span style=\"color: #008000\">0</span>, <span style=\"color: #008000\">4</span>), <span style=\"color: #008000\">4</span>, <span style=\"color: #008000\">1</span>),\n",
              "                T<span style=\"color: #A2F; font-weight: bold\">.</span>tvm_access_ptr(T<span style=\"color: #A2F; font-weight: bold\">.</span>type_annotation(<span style=\"color: #BA2121\">&quot;float32&quot;</span>), C, T<span style=\"color: #A2F; font-weight: bold\">.</span>Mul(<span style=\"color: #008000\">1</span>, <span style=\"color: #008000\">8</span>), <span style=\"color: #008000\">4</span>, <span style=\"color: #008000\">3</span>),\n",
              "            )\n",
              "            T<span style=\"color: #A2F; font-weight: bold\">.</span>call_extern(\n",
              "                <span style=\"color: #BA2121\">&quot;int32&quot;</span>,\n",
              "                <span style=\"color: #BA2121\">&quot;Run&quot;</span>,\n",
              "                T<span style=\"color: #A2F; font-weight: bold\">.</span>tvm_access_ptr(T<span style=\"color: #A2F; font-weight: bold\">.</span>type_annotation(<span style=\"color: #BA2121\">&quot;float32&quot;</span>), A_1, T<span style=\"color: #A2F; font-weight: bold\">.</span>Mul(<span style=\"color: #008000\">0</span>, <span style=\"color: #008000\">4</span>), <span style=\"color: #008000\">4</span>, <span style=\"color: #008000\">1</span>),\n",
              "                T<span style=\"color: #A2F; font-weight: bold\">.</span>tvm_access_ptr(T<span style=\"color: #A2F; font-weight: bold\">.</span>type_annotation(<span style=\"color: #BA2121\">&quot;float32&quot;</span>), B_1, T<span style=\"color: #A2F; font-weight: bold\">.</span>Mul(<span style=\"color: #008000\">1</span>, <span style=\"color: #008000\">4</span>), <span style=\"color: #008000\">4</span>, <span style=\"color: #008000\">1</span>),\n",
              "                T<span style=\"color: #A2F; font-weight: bold\">.</span>tvm_access_ptr(\n",
              "                    T<span style=\"color: #A2F; font-weight: bold\">.</span>type_annotation(<span style=\"color: #BA2121\">&quot;float32&quot;</span>), C, T<span style=\"color: #A2F; font-weight: bold\">.</span>Mul(<span style=\"color: #008000\">0</span>, <span style=\"color: #008000\">8</span>) <span style=\"color: #A2F; font-weight: bold\">+</span> <span style=\"color: #008000\">4</span>, <span style=\"color: #008000\">4</span>, <span style=\"color: #008000\">3</span>\n",
              "                ),\n",
              "            )\n",
              "            T<span style=\"color: #A2F; font-weight: bold\">.</span>call_extern(\n",
              "                <span style=\"color: #BA2121\">&quot;int32&quot;</span>,\n",
              "                <span style=\"color: #BA2121\">&quot;Run&quot;</span>,\n",
              "                T<span style=\"color: #A2F; font-weight: bold\">.</span>tvm_access_ptr(T<span style=\"color: #A2F; font-weight: bold\">.</span>type_annotation(<span style=\"color: #BA2121\">&quot;float32&quot;</span>), A_1, T<span style=\"color: #A2F; font-weight: bold\">.</span>Mul(<span style=\"color: #008000\">1</span>, <span style=\"color: #008000\">4</span>), <span style=\"color: #008000\">4</span>, <span style=\"color: #008000\">1</span>),\n",
              "                T<span style=\"color: #A2F; font-weight: bold\">.</span>tvm_access_ptr(T<span style=\"color: #A2F; font-weight: bold\">.</span>type_annotation(<span style=\"color: #BA2121\">&quot;float32&quot;</span>), B_1, T<span style=\"color: #A2F; font-weight: bold\">.</span>Mul(<span style=\"color: #008000\">1</span>, <span style=\"color: #008000\">4</span>), <span style=\"color: #008000\">4</span>, <span style=\"color: #008000\">1</span>),\n",
              "                T<span style=\"color: #A2F; font-weight: bold\">.</span>tvm_access_ptr(\n",
              "                    T<span style=\"color: #A2F; font-weight: bold\">.</span>type_annotation(<span style=\"color: #BA2121\">&quot;float32&quot;</span>), C, T<span style=\"color: #A2F; font-weight: bold\">.</span>Mul(<span style=\"color: #008000\">1</span>, <span style=\"color: #008000\">8</span>) <span style=\"color: #A2F; font-weight: bold\">+</span> <span style=\"color: #008000\">4</span>, <span style=\"color: #008000\">4</span>, <span style=\"color: #008000\">3</span>\n",
              "                ),\n",
              "            )\n",
              "</pre></div>\n"
            ],
            "text/plain": [
              "<IPython.core.display.HTML object>"
            ]
          },
          "metadata": {},
          "output_type": "display_data"
        },
        {
          "name": "stdout",
          "output_type": "stream",
          "text": [
            "✅✅✅Test suite: testInjectVirtualThread passed\n",
            "⏳⏳⏳Running test suite: testRemoveNoOp\n"
          ]
        },
        {
          "data": {
            "text/html": [
              "<div class=\"highlight\" style=\"background: \"><pre style=\"line-height: 125%;\"><span></span><span style=\"color: #007979; font-style: italic\"># from tvm.script import ir as I</span>\n",
              "<span style=\"color: #007979; font-style: italic\"># from tvm.script import tir as T</span>\n",
              "\n",
              "\n",
              "<span style=\"color: #A2F\">@I</span><span style=\"color: #A2F; font-weight: bold\">.</span>ir_module\n",
              "<span style=\"color: #008000; font-weight: bold\">class</span> <span style=\"color: #00F; font-weight: bold\">Module</span>:\n",
              "    <span style=\"color: #A2F\">@T</span><span style=\"color: #A2F; font-weight: bold\">.</span>prim_func\n",
              "    <span style=\"color: #008000; font-weight: bold\">def</span> <span style=\"color: #00F\">main</span>(A: T<span style=\"color: #A2F; font-weight: bold\">.</span>Buffer((<span style=\"color: #008000\">10</span>, <span style=\"color: #008000\">10</span>), <span style=\"color: #BA2121\">&quot;float32&quot;</span>)):\n",
              "        <span style=\"color: #008000; font-weight: bold\">for</span> i, j <span style=\"color: #008000; font-weight: bold\">in</span> T<span style=\"color: #A2F; font-weight: bold\">.</span>grid(<span style=\"color: #008000\">10</span>, <span style=\"color: #008000\">10</span>):\n",
              "            <span style=\"color: #008000; font-weight: bold\">if</span> i <span style=\"color: #A2F; font-weight: bold\">+</span> j <span style=\"color: #A2F; font-weight: bold\">&lt;</span> <span style=\"color: #008000\">16</span>:\n",
              "                T<span style=\"color: #A2F; font-weight: bold\">.</span>evaluate(<span style=\"color: #008000\">0</span>)\n",
              "            <span style=\"color: #008000; font-weight: bold\">else</span>:\n",
              "                A[i, j] <span style=\"color: #A2F; font-weight: bold\">=</span> T<span style=\"color: #A2F; font-weight: bold\">.</span>float32(<span style=\"color: #008000\">1.0</span>)\n",
              "</pre></div>\n"
            ],
            "text/plain": [
              "<IPython.core.display.HTML object>"
            ]
          },
          "metadata": {},
          "output_type": "display_data"
        },
        {
          "data": {
            "text/html": [
              "<div class=\"highlight\" style=\"background: \"><pre style=\"line-height: 125%;\"><span></span><span style=\"color: #008000; font-weight: bold\">for</span> i, j <span style=\"color: #008000; font-weight: bold\">in</span> T<span style=\"color: #A2F; font-weight: bold\">.</span>grid(<span style=\"color: #008000\">10</span>, <span style=\"color: #008000\">10</span>):\n",
              "    <span style=\"color: #008000; font-weight: bold\">if</span> <span style=\"color: #008000; font-weight: bold\">not</span> i <span style=\"color: #A2F; font-weight: bold\">+</span> j <span style=\"color: #A2F; font-weight: bold\">&lt;</span> <span style=\"color: #008000\">16</span>:\n",
              "        A <span style=\"color: #A2F; font-weight: bold\">=</span> T<span style=\"color: #A2F; font-weight: bold\">.</span>Buffer((<span style=\"color: #008000\">10</span>, <span style=\"color: #008000\">10</span>))\n",
              "        A[i, j] <span style=\"color: #A2F; font-weight: bold\">=</span> T<span style=\"color: #A2F; font-weight: bold\">.</span>float32(<span style=\"color: #008000\">1.0</span>)\n",
              "</pre></div>\n"
            ],
            "text/plain": [
              "<IPython.core.display.HTML object>"
            ]
          },
          "metadata": {},
          "output_type": "display_data"
        },
        {
          "name": "stdout",
          "output_type": "stream",
          "text": [
            "✅✅✅Test suite: testRemoveNoOp passed\n",
            "⏳⏳⏳Running test suite: testSimplify\n"
          ]
        },
        {
          "data": {
            "text/html": [
              "<div class=\"highlight\" style=\"background: \"><pre style=\"line-height: 125%;\"><span></span><span style=\"color: #007979; font-style: italic\"># from tvm.script import ir as I</span>\n",
              "<span style=\"color: #007979; font-style: italic\"># from tvm.script import tir as T</span>\n",
              "\n",
              "\n",
              "<span style=\"color: #A2F\">@I</span><span style=\"color: #A2F; font-weight: bold\">.</span>ir_module\n",
              "<span style=\"color: #008000; font-weight: bold\">class</span> <span style=\"color: #00F; font-weight: bold\">Module</span>:\n",
              "    <span style=\"color: #A2F\">@T</span><span style=\"color: #A2F; font-weight: bold\">.</span>prim_func(private<span style=\"color: #A2F; font-weight: bold\">=</span><span style=\"color: #008000; font-weight: bold\">True</span>)\n",
              "    <span style=\"color: #008000; font-weight: bold\">def</span> <span style=\"color: #00F\">main</span>(A: T<span style=\"color: #A2F; font-weight: bold\">.</span>Buffer((<span style=\"color: #008000\">16</span>,), <span style=\"color: #BA2121\">&quot;int32&quot;</span>)):\n",
              "        n: T<span style=\"color: #A2F; font-weight: bold\">.</span>int32 <span style=\"color: #A2F; font-weight: bold\">=</span> <span style=\"color: #008000\">10</span>\n",
              "        c: T<span style=\"color: #A2F; font-weight: bold\">.</span>int32 <span style=\"color: #A2F; font-weight: bold\">=</span> <span style=\"color: #008000\">6</span>\n",
              "        <span style=\"color: #008000; font-weight: bold\">for</span> i <span style=\"color: #008000; font-weight: bold\">in</span> range(n):\n",
              "            A[i] <span style=\"color: #A2F; font-weight: bold\">=</span> n <span style=\"color: #A2F; font-weight: bold\">+</span> c\n",
              "</pre></div>\n"
            ],
            "text/plain": [
              "<IPython.core.display.HTML object>"
            ]
          },
          "metadata": {},
          "output_type": "display_data"
        },
        {
          "data": {
            "text/html": [
              "<div class=\"highlight\" style=\"background: \"><pre style=\"line-height: 125%;\"><span></span><span style=\"color: #007979; font-style: italic\"># from tvm.script import ir as I</span>\n",
              "<span style=\"color: #007979; font-style: italic\"># from tvm.script import tir as T</span>\n",
              "\n",
              "\n",
              "<span style=\"color: #A2F\">@I</span><span style=\"color: #A2F; font-weight: bold\">.</span>ir_module\n",
              "<span style=\"color: #008000; font-weight: bold\">class</span> <span style=\"color: #00F; font-weight: bold\">Module</span>:\n",
              "    <span style=\"color: #A2F\">@T</span><span style=\"color: #A2F; font-weight: bold\">.</span>prim_func(private<span style=\"color: #A2F; font-weight: bold\">=</span><span style=\"color: #008000; font-weight: bold\">True</span>)\n",
              "    <span style=\"color: #008000; font-weight: bold\">def</span> <span style=\"color: #00F\">main</span>(A: T<span style=\"color: #A2F; font-weight: bold\">.</span>Buffer((<span style=\"color: #008000\">16</span>,), <span style=\"color: #BA2121\">&quot;int32&quot;</span>)):\n",
              "        <span style=\"color: #008000; font-weight: bold\">for</span> i <span style=\"color: #008000; font-weight: bold\">in</span> range(<span style=\"color: #008000\">10</span>):\n",
              "            A[i] <span style=\"color: #A2F; font-weight: bold\">=</span> <span style=\"color: #008000\">16</span>\n",
              "</pre></div>\n"
            ],
            "text/plain": [
              "<IPython.core.display.HTML object>"
            ]
          },
          "metadata": {},
          "output_type": "display_data"
        },
        {
          "name": "stdout",
          "output_type": "stream",
          "text": [
            "✅✅✅Test suite: testSimplify passed\n"
          ]
        }
      ],
      "source": [
        "print(\"🚀🚀🚀Running test suites:\")\n",
        "\n",
        "for __name, __func in testSuites.items():\n",
        "    print(f\"⏳⏳⏳Running test suite: {__name}\")\n",
        "    __func()\n",
        "    print(f\"✅✅✅Test suite: {__name} passed\")"
      ]
    }
  ],
  "metadata": {
    "kernelspec": {
      "display_name": "",
      "language": "python",
      "name": "python3"
    },
    "language_info": {
      "codemirror_mode": {
        "name": "ipython",
        "version": 3
      },
      "file_extension": ".py",
      "mimetype": "text/x-python",
      "name": "python",
      "nbconvert_exporter": "python",
      "pygments_lexer": "ipython3",
      "version": ""
    }
  },
  "nbformat": 4,
  "nbformat_minor": 5
}