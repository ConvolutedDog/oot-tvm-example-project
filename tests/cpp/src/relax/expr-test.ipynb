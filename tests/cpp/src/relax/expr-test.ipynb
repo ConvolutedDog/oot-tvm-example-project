{
 "cells": [
  {
   "cell_type": "code",
   "execution_count": 2,
   "metadata": {},
   "outputs": [],
   "source": [
    "import tvm.relax as rx\n",
    "from tvm import tir\n",
    "from tvm.script import ir as I, relax as R, tir as T"
   ]
  },
  {
   "cell_type": "code",
   "execution_count": 3,
   "metadata": {},
   "outputs": [
    {
     "data": {
      "text/html": [
       "<div class=\"highlight\" style=\"background: \"><pre style=\"line-height: 125%;\"><span></span>R<span style=\"color: #AA22FF; font-weight: bold\">.</span>add(x, gv0)\n",
       "</pre></div>\n"
      ],
      "text/plain": [
       "<IPython.core.display.HTML object>"
      ]
     },
     "metadata": {},
     "output_type": "display_data"
    },
    {
     "data": {
      "text/html": [
       "<div class=\"highlight\" style=\"background: \"><pre style=\"line-height: 125%;\"><span></span>m <span style=\"color: #AA22FF; font-weight: bold\">=</span> T<span style=\"color: #AA22FF; font-weight: bold\">.</span>int64()\n",
       "n <span style=\"color: #AA22FF; font-weight: bold\">=</span> T<span style=\"color: #AA22FF; font-weight: bold\">.</span>int64()\n",
       "x: R<span style=\"color: #AA22FF; font-weight: bold\">.</span>Tensor((m, n), dtype<span style=\"color: #AA22FF; font-weight: bold\">=</span><span style=\"color: #BA2121\">&quot;float32&quot;</span>)\n",
       "gv0: R<span style=\"color: #AA22FF; font-weight: bold\">.</span>Tensor((m, n), dtype<span style=\"color: #AA22FF; font-weight: bold\">=</span><span style=\"color: #BA2121\">&quot;float32&quot;</span>)\n",
       "gv1: R<span style=\"color: #AA22FF; font-weight: bold\">.</span>Tensor((m, n), dtype<span style=\"color: #AA22FF; font-weight: bold\">=</span><span style=\"color: #BA2121\">&quot;float32&quot;</span>) <span style=\"color: #AA22FF; font-weight: bold\">=</span> R<span style=\"color: #AA22FF; font-weight: bold\">.</span>add(x, gv0)\n",
       "</pre></div>\n"
      ],
      "text/plain": [
       "<IPython.core.display.HTML object>"
      ]
     },
     "metadata": {},
     "output_type": "display_data"
    },
    {
     "data": {
      "text/html": [
       "<div class=\"highlight\" style=\"background: \"><pre style=\"line-height: 125%;\"><span></span>m <span style=\"color: #AA22FF; font-weight: bold\">=</span> T<span style=\"color: #AA22FF; font-weight: bold\">.</span>int64()\n",
       "n <span style=\"color: #AA22FF; font-weight: bold\">=</span> T<span style=\"color: #AA22FF; font-weight: bold\">.</span>int64()\n",
       "x: R<span style=\"color: #AA22FF; font-weight: bold\">.</span>Tensor((m, n), dtype<span style=\"color: #AA22FF; font-weight: bold\">=</span><span style=\"color: #BA2121\">&quot;float32&quot;</span>)\n",
       "gv0: R<span style=\"color: #AA22FF; font-weight: bold\">.</span>Tensor((m, n), dtype<span style=\"color: #AA22FF; font-weight: bold\">=</span><span style=\"color: #BA2121\">&quot;float32&quot;</span>)\n",
       "gv1: R<span style=\"color: #AA22FF; font-weight: bold\">.</span>Tensor((m, n), dtype<span style=\"color: #AA22FF; font-weight: bold\">=</span><span style=\"color: #BA2121\">&quot;float32&quot;</span>) <span style=\"color: #AA22FF; font-weight: bold\">=</span> R<span style=\"color: #AA22FF; font-weight: bold\">.</span>add(x, gv0)\n",
       "</pre></div>\n"
      ],
      "text/plain": [
       "<IPython.core.display.HTML object>"
      ]
     },
     "metadata": {},
     "output_type": "display_data"
    },
    {
     "data": {
      "text/html": [
       "<div class=\"highlight\" style=\"background: \"><pre style=\"line-height: 125%;\"><span></span>m <span style=\"color: #AA22FF; font-weight: bold\">=</span> T<span style=\"color: #AA22FF; font-weight: bold\">.</span>int64()\n",
       "n <span style=\"color: #AA22FF; font-weight: bold\">=</span> T<span style=\"color: #AA22FF; font-weight: bold\">.</span>int64()\n",
       "x: R<span style=\"color: #AA22FF; font-weight: bold\">.</span>Tensor((m, n), dtype<span style=\"color: #AA22FF; font-weight: bold\">=</span><span style=\"color: #BA2121\">&quot;float32&quot;</span>)\n",
       "gv0: R<span style=\"color: #AA22FF; font-weight: bold\">.</span>Tensor((m, n), dtype<span style=\"color: #AA22FF; font-weight: bold\">=</span><span style=\"color: #BA2121\">&quot;float32&quot;</span>)\n",
       "gv1: R<span style=\"color: #AA22FF; font-weight: bold\">.</span>Tensor((m, n), dtype<span style=\"color: #AA22FF; font-weight: bold\">=</span><span style=\"color: #BA2121\">&quot;float32&quot;</span>) <span style=\"color: #AA22FF; font-weight: bold\">=</span> R<span style=\"color: #AA22FF; font-weight: bold\">.</span>add(x, gv0)\n",
       "gv1\n",
       "</pre></div>\n"
      ],
      "text/plain": [
       "<IPython.core.display.HTML object>"
      ]
     },
     "metadata": {},
     "output_type": "display_data"
    }
   ],
   "source": [
    "\n",
    "m = tir.Var(\"m\", \"int64\")\n",
    "n = tir.Var(\"n\", \"int64\")\n",
    "x = rx.Var(\"x\", R.Tensor([m, n], \"float32\"))\n",
    "gv0 = rx.Var(\"gv0\", R.Tensor([m, n], \"float32\"))\n",
    "gv1 = rx.Var(\"gv1\", R.Tensor([m, n], \"float32\"))\n",
    "\n",
    "call_node = rx.op.add(x, gv0)\n",
    "\n",
    "_bindings = [rx.VarBinding(gv1, call_node)]\n",
    "\n",
    "_blocks = [rx.BindingBlock(_bindings)]\n",
    "\n",
    "_seq_expr = rx.SeqExpr(_blocks, gv1)\n",
    "\n",
    "call_node.show()\n",
    "\n",
    "_bindings[0].show()\n",
    "\n",
    "_blocks[0].show()\n",
    "\n",
    "_seq_expr.show()"
   ]
  },
  {
   "cell_type": "code",
   "execution_count": 4,
   "metadata": {},
   "outputs": [],
   "source": [
    "cond = rx.Var(\"condition\", R.Tensor([], \"bool\"))\n",
    "\n",
    "v_in_if = rx.Var(\"v_in_if\", R.Tensor([m, n], \"float32\"))\n",
    "gv0 = rx.Var(\"gv0\", R.Tensor([m, n], \"float32\"))\n",
    "\n",
    "# build the true branch\n",
    "true_bindings = [\n",
    "    rx.VarBinding(v_in_if, rx.op.add(x, x)),\n",
    "    rx.VarBinding(gv0, rx.op.multiply(x, x))\n",
    "]\n",
    "\n",
    "true_blocks = [rx.BindingBlock(true_bindings)]\n",
    "\n",
    "true_seq_expr = rx.SeqExpr(true_blocks, true_blocks[-1].bindings[-1].var)\n"
   ]
  },
  {
   "cell_type": "code",
   "execution_count": 5,
   "metadata": {},
   "outputs": [],
   "source": [
    "# build the false branch\n",
    "false_bindings = [\n",
    "    rx.VarBinding(v_in_if, rx.op.multiply(x, x)),\n",
    "    rx.VarBinding(gv0, rx.op.add(x, x)),\n",
    "]\n",
    "false_blocks = [rx.BindingBlock(false_bindings)]\n",
    "false_seq_expr = rx.SeqExpr(false_blocks, false_blocks[-1].bindings[-1].var)\n",
    "\n",
    "# build If node\n",
    "if_node = rx.If(cond=cond, true_branch=true_seq_expr, false_branch=false_seq_expr)"
   ]
  },
  {
   "cell_type": "code",
   "execution_count": 6,
   "metadata": {},
   "outputs": [
    {
     "data": {
      "text/html": [
       "<div class=\"highlight\" style=\"background: \"><pre style=\"line-height: 125%;\"><span></span>condition: R<span style=\"color: #AA22FF; font-weight: bold\">.</span>Tensor((), dtype<span style=\"color: #AA22FF; font-weight: bold\">=</span><span style=\"color: #BA2121\">&quot;bool&quot;</span>)\n",
       "m <span style=\"color: #AA22FF; font-weight: bold\">=</span> T<span style=\"color: #AA22FF; font-weight: bold\">.</span>int64()\n",
       "n <span style=\"color: #AA22FF; font-weight: bold\">=</span> T<span style=\"color: #AA22FF; font-weight: bold\">.</span>int64()\n",
       "<span style=\"color: #008000; font-weight: bold\">if</span> condition:\n",
       "    x: R<span style=\"color: #AA22FF; font-weight: bold\">.</span>Tensor((m, n), dtype<span style=\"color: #AA22FF; font-weight: bold\">=</span><span style=\"color: #BA2121\">&quot;float32&quot;</span>)\n",
       "    v_in_if: R<span style=\"color: #AA22FF; font-weight: bold\">.</span>Tensor((m, n), dtype<span style=\"color: #AA22FF; font-weight: bold\">=</span><span style=\"color: #BA2121\">&quot;float32&quot;</span>) <span style=\"color: #AA22FF; font-weight: bold\">=</span> R<span style=\"color: #AA22FF; font-weight: bold\">.</span>add(x, x)\n",
       "    gv0: R<span style=\"color: #AA22FF; font-weight: bold\">.</span>Tensor((m, n), dtype<span style=\"color: #AA22FF; font-weight: bold\">=</span><span style=\"color: #BA2121\">&quot;float32&quot;</span>) <span style=\"color: #AA22FF; font-weight: bold\">=</span> R<span style=\"color: #AA22FF; font-weight: bold\">.</span>multiply(x, x)\n",
       "    gv0\n",
       "<span style=\"color: #008000; font-weight: bold\">else</span>:\n",
       "    x: R<span style=\"color: #AA22FF; font-weight: bold\">.</span>Tensor((m, n), dtype<span style=\"color: #AA22FF; font-weight: bold\">=</span><span style=\"color: #BA2121\">&quot;float32&quot;</span>)\n",
       "    v_in_if: R<span style=\"color: #AA22FF; font-weight: bold\">.</span>Tensor((m, n), dtype<span style=\"color: #AA22FF; font-weight: bold\">=</span><span style=\"color: #BA2121\">&quot;float32&quot;</span>) <span style=\"color: #AA22FF; font-weight: bold\">=</span> R<span style=\"color: #AA22FF; font-weight: bold\">.</span>multiply(x, x)\n",
       "    gv0: R<span style=\"color: #AA22FF; font-weight: bold\">.</span>Tensor((m, n), dtype<span style=\"color: #AA22FF; font-weight: bold\">=</span><span style=\"color: #BA2121\">&quot;float32&quot;</span>) <span style=\"color: #AA22FF; font-weight: bold\">=</span> R<span style=\"color: #AA22FF; font-weight: bold\">.</span>add(x, x)\n",
       "    gv0\n",
       "</pre></div>\n"
      ],
      "text/plain": [
       "<IPython.core.display.HTML object>"
      ]
     },
     "metadata": {},
     "output_type": "display_data"
    }
   ],
   "source": [
    "if_node.show()"
   ]
  },
  {
   "cell_type": "code",
   "execution_count": null,
   "metadata": {},
   "outputs": [
    {
     "data": {
      "text/html": [
       "<div class=\"highlight\" style=\"background: \"><pre style=\"line-height: 125%;\"><span></span><span style=\"color: #007979; font-style: italic\"># from tvm.script import relax as R</span>\n",
       "\n",
       "<span style=\"color: #AA22FF\">@R</span><span style=\"color: #AA22FF; font-weight: bold\">.</span>function(private<span style=\"color: #AA22FF; font-weight: bold\">=</span><span style=\"color: #008000; font-weight: bold\">True</span>)\n",
       "<span style=\"color: #008000; font-weight: bold\">def</span> <span style=\"color: #0000FF\">main</span>() <span style=\"color: #AA22FF; font-weight: bold\">-&gt;</span> R<span style=\"color: #AA22FF; font-weight: bold\">.</span>Tensor((), dtype<span style=\"color: #AA22FF; font-weight: bold\">=</span><span style=\"color: #BA2121\">&quot;int32&quot;</span>):\n",
       "    <span style=\"color: #007979; font-style: italic\"># from tvm.script import relax as R</span>\n",
       "    \n",
       "    <span style=\"color: #AA22FF\">@R</span><span style=\"color: #AA22FF; font-weight: bold\">.</span>function\n",
       "    <span style=\"color: #008000; font-weight: bold\">def</span> <span style=\"color: #0000FF\">f</span>(ipt: R<span style=\"color: #AA22FF; font-weight: bold\">.</span>Tensor((), dtype<span style=\"color: #AA22FF; font-weight: bold\">=</span><span style=\"color: #BA2121\">&quot;int32&quot;</span>)) <span style=\"color: #AA22FF; font-weight: bold\">-&gt;</span> R<span style=\"color: #AA22FF; font-weight: bold\">.</span>Tensor((), dtype<span style=\"color: #AA22FF; font-weight: bold\">=</span><span style=\"color: #BA2121\">&quot;int32&quot;</span>):\n",
       "        x0: R<span style=\"color: #AA22FF; font-weight: bold\">.</span>Tensor((), dtype<span style=\"color: #AA22FF; font-weight: bold\">=</span><span style=\"color: #BA2121\">&quot;int32&quot;</span>) <span style=\"color: #AA22FF; font-weight: bold\">=</span> R<span style=\"color: #AA22FF; font-weight: bold\">.</span>const(<span style=\"color: #008000\">2</span>, <span style=\"color: #BA2121\">&quot;int32&quot;</span>)\n",
       "        y: R<span style=\"color: #AA22FF; font-weight: bold\">.</span>Tensor((), dtype<span style=\"color: #AA22FF; font-weight: bold\">=</span><span style=\"color: #BA2121\">&quot;int32&quot;</span>) <span style=\"color: #AA22FF; font-weight: bold\">=</span> f(x0)\n",
       "        <span style=\"color: #008000; font-weight: bold\">return</span> y\n",
       "\n",
       "    x1: R<span style=\"color: #AA22FF; font-weight: bold\">.</span>Tensor((), dtype<span style=\"color: #AA22FF; font-weight: bold\">=</span><span style=\"color: #BA2121\">&quot;int32&quot;</span>) <span style=\"color: #AA22FF; font-weight: bold\">=</span> R<span style=\"color: #AA22FF; font-weight: bold\">.</span>const(<span style=\"color: #008000\">1</span>, <span style=\"color: #BA2121\">&quot;int32&quot;</span>)\n",
       "    x2: R<span style=\"color: #AA22FF; font-weight: bold\">.</span>Tensor((), dtype<span style=\"color: #AA22FF; font-weight: bold\">=</span><span style=\"color: #BA2121\">&quot;int32&quot;</span>) <span style=\"color: #AA22FF; font-weight: bold\">=</span> R<span style=\"color: #AA22FF; font-weight: bold\">.</span>add(x1, f(x1))\n",
       "    gv0: R<span style=\"color: #AA22FF; font-weight: bold\">.</span>Tensor((), dtype<span style=\"color: #AA22FF; font-weight: bold\">=</span><span style=\"color: #BA2121\">&quot;int32&quot;</span>) <span style=\"color: #AA22FF; font-weight: bold\">=</span> x2\n",
       "    <span style=\"color: #008000; font-weight: bold\">return</span> gv0\n",
       "</pre></div>\n"
      ],
      "text/plain": [
       "<IPython.core.display.HTML object>"
      ]
     },
     "metadata": {},
     "output_type": "display_data"
    }
   ],
   "source": [
    "# Function\n",
    "\n",
    "scalar_struct_info = rx.TensorStructInfo(shape=[], dtype=\"int32\")\n",
    "gv0 = rx.Var(\"gv0\", scalar_struct_info)\n",
    "\n",
    "f = rx.Var(\"f\", rx.FuncStructInfo([scalar_struct_info], scalar_struct_info))\n",
    "\n",
    "ipt = rx.Var(\"ipt\", scalar_struct_info)\n",
    "x0 = rx.Var(\"x0\", scalar_struct_info)\n",
    "x1 = rx.Var(\"x1\", scalar_struct_info)\n",
    "x2 = rx.Var(\"x2\", scalar_struct_info)\n",
    "y = rx.Var(\"y\", scalar_struct_info)\n",
    "\n",
    "\n",
    "inner_block = rx.BindingBlock(\n",
    "    [rx.VarBinding(x0, rx.const(2, \"int32\")), rx.VarBinding(y, rx.Call(f, [x0]))]\n",
    ")\n",
    "\n",
    "inner_func = rx.Function([ipt], rx.SeqExpr([inner_block], y), scalar_struct_info)\n",
    "\n",
    "outer_block = rx.BindingBlock(\n",
    "    [\n",
    "        rx.VarBinding(f, inner_func),\n",
    "        rx.VarBinding(x1, rx.const(1, \"int32\")),\n",
    "        rx.VarBinding(x2, rx.op.add(x1, rx.Call(f, [x1]))),\n",
    "        rx.VarBinding(gv0, x2),\n",
    "    ]\n",
    ")\n",
    "func = rx.Function([], rx.SeqExpr([outer_block], gv0), scalar_struct_info)\n",
    "func.show()"
   ]
  }
 ],
 "metadata": {
  "kernelspec": {
   "display_name": "tvm",
   "language": "python",
   "name": "python3"
  },
  "language_info": {
   "codemirror_mode": {
    "name": "ipython",
    "version": 3
   },
   "file_extension": ".py",
   "mimetype": "text/x-python",
   "name": "python",
   "nbconvert_exporter": "python",
   "pygments_lexer": "ipython3",
   "version": "3.12.9"
  }
 },
 "nbformat": 4,
 "nbformat_minor": 2
}
